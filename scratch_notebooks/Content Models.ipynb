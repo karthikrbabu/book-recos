{
 "cells": [
  {
   "cell_type": "markdown",
   "metadata": {},
   "source": [
    "# This is where the content models are trained and evaluated"
   ]
  },
  {
   "cell_type": "code",
   "execution_count": 15,
   "metadata": {
    "ExecuteTime": {
     "end_time": "2020-08-03T02:25:41.437467Z",
     "start_time": "2020-08-03T02:25:41.412536Z"
    }
   },
   "outputs": [],
   "source": [
    "# https://apple.github.io/turicreate/docs/userguide/recommender/choosing-a-model.html\n",
    "# https://apple.github.io/turicreate/docs/api/generated/turicreate.recommender.item_content_recommender.create.html#turicreate.recommender.item_content_recommender.create\n",
    "%matplotlib inline\n",
    "import matplotlib.pyplot as plt\n",
    "import seaborn as sns\n",
    "sns.set()"
   ]
  },
  {
   "cell_type": "code",
   "execution_count": 3,
   "metadata": {
    "ExecuteTime": {
     "end_time": "2020-08-02T22:07:15.228342Z",
     "start_time": "2020-08-02T22:07:15.223663Z"
    }
   },
   "outputs": [],
   "source": [
    "# if you don't already have it\n",
    "# !pip install turicreate"
   ]
  },
  {
   "cell_type": "code",
   "execution_count": 4,
   "metadata": {
    "ExecuteTime": {
     "end_time": "2020-08-02T22:07:15.622325Z",
     "start_time": "2020-08-02T22:07:15.231180Z"
    }
   },
   "outputs": [],
   "source": [
    "# data science libraries\n",
    "import pandas as pd\n",
    "import numpy as np\n",
    "import turicreate as tc\n",
    "from turicreate.toolkits.recommender.util import precision_recall_by_user\n",
    "from sklearn.feature_extraction.text import CountVectorizer, TfidfVectorizer\n",
    "from sklearn.decomposition import TruncatedSVD"
   ]
  },
  {
   "cell_type": "code",
   "execution_count": 5,
   "metadata": {
    "ExecuteTime": {
     "end_time": "2020-08-02T22:07:15.975687Z",
     "start_time": "2020-08-02T22:07:15.949483Z"
    }
   },
   "outputs": [],
   "source": [
    "# loading and saving models\n",
    "# because sometimes notebooks die\n",
    "import pickle\n",
    "from glob import glob\n",
    "from os import path\n",
    "from tqdm.notebook import tqdm"
   ]
  },
  {
   "cell_type": "code",
   "execution_count": null,
   "metadata": {
    "ExecuteTime": {
     "end_time": "2020-08-02T18:15:45.498455Z",
     "start_time": "2020-08-02T18:15:45.437786Z"
    }
   },
   "outputs": [],
   "source": []
  },
  {
   "cell_type": "code",
   "execution_count": 6,
   "metadata": {
    "ExecuteTime": {
     "end_time": "2020-08-02T22:07:28.912301Z",
     "start_time": "2020-08-02T22:07:17.108234Z"
    }
   },
   "outputs": [],
   "source": [
    "# data\n",
    "raw_actions = tc.SFrame.read_csv('../data/raw_data/ratings.csv', verbose=False)\n",
    "raw_tags = tc.SFrame.read_csv('../data/raw_data/tags.csv', verbose=False)\n",
    "raw_books_with_tags = tc.SFrame.read_csv('../data/raw_data/book_tags.csv', verbose=False)\n",
    "books = tc.SFrame.read_csv('../data/parsed_data/ultimate_books.csv', verbose=False)\n",
    "to_read = tc.SFrame.read_csv('../data/raw_data/to_read.csv', verbose=False)\n",
    "books_with_tags = tc.SFrame.read_csv('../data/parsed_data/books_with_tags.csv', verbose=False)\n",
    "clustered_books_with_tags = tc.SFrame.read_csv('../data/parsed_data/clustered_books_with_tags.csv', verbose=False)\n",
    "genre_tags = tc.SFrame.read_csv('../data/parsed_data/genre_tag_clusters.csv', verbose=False)\n",
    "book_genre_clusters = tc.SFrame.read_csv('../data/parsed_data/books_with_genre_clusters.csv', verbose=False)"
   ]
  },
  {
   "cell_type": "code",
   "execution_count": 7,
   "metadata": {
    "ExecuteTime": {
     "end_time": "2020-08-02T22:07:44.277330Z",
     "start_time": "2020-08-02T22:07:44.265994Z"
    }
   },
   "outputs": [
    {
     "data": {
      "text/plain": [
       "2"
      ]
     },
     "execution_count": 7,
     "metadata": {},
     "output_type": "execute_result"
    }
   ],
   "source": []
  },
  {
   "cell_type": "code",
   "execution_count": 8,
   "metadata": {
    "ExecuteTime": {
     "end_time": "2020-08-02T22:08:07.911322Z",
     "start_time": "2020-08-02T22:07:47.542460Z"
    }
   },
   "outputs": [],
   "source": [
    "# remove actions from filtered books\n",
    "actions = raw_actions.join(books)[['user_id','book_id','rating']]"
   ]
  },
  {
   "cell_type": "code",
   "execution_count": 9,
   "metadata": {
    "ExecuteTime": {
     "end_time": "2020-08-02T22:08:08.683706Z",
     "start_time": "2020-08-02T22:08:07.913997Z"
    }
   },
   "outputs": [],
   "source": [
    "# train and test data split by user\n",
    "to_read_train, to_read_test = tc.recommender.util.random_split_by_user(to_read, user_id='user_id', item_id='book_id')"
   ]
  },
  {
   "cell_type": "code",
   "execution_count": null,
   "metadata": {},
   "outputs": [],
   "source": []
  },
  {
   "cell_type": "code",
   "execution_count": 10,
   "metadata": {
    "ExecuteTime": {
     "end_time": "2020-08-02T22:08:09.553416Z",
     "start_time": "2020-08-02T22:08:08.686902Z"
    }
   },
   "outputs": [
    {
     "data": {
      "text/plain": [
       "CountVectorizer(analyzer='word', binary=False, decode_error='strict',\n",
       "                dtype=<class 'numpy.int64'>, encoding='utf-8', input='content',\n",
       "                lowercase=True, max_df=1.0, max_features=None, min_df=1,\n",
       "                ngram_range=(1, 1), preprocessor=None, stop_words=None,\n",
       "                strip_accents=None, token_pattern='(?u)\\\\b\\\\w\\\\w+\\\\b',\n",
       "                tokenizer=None, vocabulary=None)"
      ]
     },
     "execution_count": 10,
     "metadata": {},
     "output_type": "execute_result"
    }
   ],
   "source": [
    "# Count Vectorizer on tags\n",
    "cv = CountVectorizer()\n",
    "cv.fit(books_with_tags['tag_name'])"
   ]
  },
  {
   "cell_type": "code",
   "execution_count": 11,
   "metadata": {
    "ExecuteTime": {
     "end_time": "2020-08-02T22:08:10.972537Z",
     "start_time": "2020-08-02T22:08:09.555980Z"
    }
   },
   "outputs": [
    {
     "name": "stdout",
     "output_type": "stream",
     "text": [
      "0.6874550163042866\n"
     ]
    }
   ],
   "source": [
    "# Tags -> CountVectorizer -> TruncatedSVD -> 35 features\n",
    "cv_svd = TruncatedSVD(n_components=35)\n",
    "X = cv_svd.fit_transform(cv.transform(books_with_tags['tag_name']))\n",
    "print(cv_svd.explained_variance_ratio_.sum())\n",
    "svd_tags = tc.SFrame(pd.DataFrame(X))\n",
    "svd_tags['book_id'] = books['book_id']"
   ]
  },
  {
   "cell_type": "code",
   "execution_count": 12,
   "metadata": {
    "ExecuteTime": {
     "end_time": "2020-08-02T22:08:13.094527Z",
     "start_time": "2020-08-02T22:08:10.975196Z"
    }
   },
   "outputs": [],
   "source": [
    "# Tags -> tf-idf -> TruncatedSVD -> 35 features\n",
    "tfid = TfidfVectorizer()\n",
    "tfid.fit(books_with_tags['tag_name'])\n",
    "tfid_svd = TruncatedSVD(n_components=35)\n",
    "X = tfid_svd.fit_transform(tfid.transform(books_with_tags['tag_name']))\n",
    "tfid_svd.explained_variance_ratio_.sum()\n",
    "svd_tfid_tags = tc.SFrame(pd.DataFrame(X))\n",
    "svd_tfid_tags['book_id'] = books['book_id']"
   ]
  },
  {
   "cell_type": "code",
   "execution_count": null,
   "metadata": {},
   "outputs": [],
   "source": []
  },
  {
   "cell_type": "code",
   "execution_count": 13,
   "metadata": {
    "ExecuteTime": {
     "end_time": "2020-08-02T22:08:13.107499Z",
     "start_time": "2020-08-02T22:08:13.097566Z"
    }
   },
   "outputs": [],
   "source": [
    "# combinations of side_data, model, latent factors, similarity types\n",
    "side_data = [{'name': 'none', 'value': None}, \n",
    "              {'name': 'cluster_id', 'value':clustered_books_with_tags[['book_id','cluster']]},\n",
    "              {'name': 'countVect->SVD', 'value':svd_tags},\n",
    "              {'name': 'tfid->SVD', 'value':svd_tfid_tags},\n",
    "              {'name': 'tag_clusters', 'value':book_genre_clusters}]\n",
    "\n",
    "models = [{'name': 'content', 'value': tc.recommender.item_content_recommender}]              \n",
    "num_factors_options = [4, 8, 12]\n",
    "similarity_types = ['jaccard','cosine','pearson']\n"
   ]
  },
  {
   "cell_type": "code",
   "execution_count": null,
   "metadata": {
    "ExecuteTime": {
     "end_time": "2020-08-02T03:58:54.196604Z",
     "start_time": "2020-08-02T03:57:18.853085Z"
    }
   },
   "outputs": [],
   "source": [
    "trained_models = []\n",
    "for model in models:\n",
    "    for item_data in side_data:\n",
    "        if model['name'] == 'content':\n",
    "            # Content model must have item data\n",
    "            if item_data['name'] != 'none':\n",
    "                label = f\"{model['name']} {item_data['name']}\"\n",
    "                print(label)\n",
    "                test_model = model['value'].create(item_data['value'], \n",
    "                                          user_id='user_id', \n",
    "                                          item_id='book_id',\n",
    "                                          observation_data=train_data,\n",
    "                                          target='rating',\n",
    "                                          verbose=False)\n",
    "                \n",
    "                trained_models.append({'name': label, 'model': test_model})\n",
    "        \n",
    "        elif model['name'] == 'factorization' or model['name'] == 'ranking_factorization':\n",
    "            # ranking factorization doesn't converge when using tag clusters. Needs more memory\n",
    "            # factorization has a latent factors param instead of a similarity type\n",
    "            if model['name'] != 'ranking_factorization' and item_data['name'] != 'tag_clusters':\n",
    "                for factors_option in num_factors_options:\n",
    "                    label = f\"{model['name']} {item_data['name']} {factors_option}\"\n",
    "                    print(label)\n",
    "                    test_model = model['value'].create(train_data, \n",
    "                                          user_id='user_id', \n",
    "                                          item_id='book_id',\n",
    "                                          target='rating',\n",
    "                                          item_data=item_data['value'],\n",
    "                                          num_factors=factors_option,\n",
    "                                          verbose=False)\n",
    "                    \n",
    "                    trained_models.append({'name': label, 'model': test_model,})\n",
    "        else:\n",
    "            # item similarity has a similarity type instead of a latent factors param\n",
    "            for similarity_type in similarity_types:\n",
    "                label = f\"{model['name']} {item_data['name']} {similarity_type}\"\n",
    "                print(label)\n",
    "                test_model = model['value'].create(train_data, \n",
    "                                      user_id='user_id', \n",
    "                                      item_id='book_id',\n",
    "                                      target='rating',\n",
    "                                      item_data=item_data['value'],\n",
    "                                      similarity_type=similarity_type,\n",
    "                                      verbose=False)\n",
    "                \n",
    "                trained_models.append({'name': label,'model': test_model})"
   ]
  },
  {
   "cell_type": "code",
   "execution_count": 20,
   "metadata": {
    "ExecuteTime": {
     "end_time": "2020-08-03T02:26:08.564684Z",
     "start_time": "2020-08-03T02:26:08.560572Z"
    }
   },
   "outputs": [],
   "source": [
    "content_model_path = '../models/content_models'"
   ]
  },
  {
   "cell_type": "code",
   "execution_count": 20,
   "metadata": {
    "ExecuteTime": {
     "end_time": "2020-08-02T04:32:17.329898Z",
     "start_time": "2020-08-02T04:32:08.395598Z"
    }
   },
   "outputs": [],
   "source": [
    "# save models in case notebook crashes\n",
    "\n",
    "def save_models(models, model_path):\n",
    "    for e in models:\n",
    "        file_name = e['name'].replace('-','').replace(' ','-')\n",
    "        e['model'].save(path.join(model_path, file_name)\n",
    "\n",
    "\n",
    "save_models(trained_models, content_model_path)\n",
    "    "
   ]
  },
  {
   "cell_type": "code",
   "execution_count": 24,
   "metadata": {
    "ExecuteTime": {
     "end_time": "2020-08-03T02:27:10.152466Z",
     "start_time": "2020-08-03T02:27:08.624799Z"
    }
   },
   "outputs": [],
   "source": [
    "# load saved models, after notebook crashes\n",
    "def load_model_dir(models_path, name_prefix=''):\n",
    "    model_archives = glob(path.join(models_path,'*'))\n",
    "    return [{'name': f'{name_prefix}{path.basename(model_path)}', 'model': tc.load_model(model_path)} for model_path in model_archives]\n",
    "\n",
    "trained_models = load_model_dir(content_model_path)"
   ]
  },
  {
   "cell_type": "code",
   "execution_count": 25,
   "metadata": {
    "ExecuteTime": {
     "end_time": "2020-08-03T02:27:10.898009Z",
     "start_time": "2020-08-03T02:27:10.891271Z"
    }
   },
   "outputs": [],
   "source": [
    "# run evaluation metrics on each model using test data\n",
    "def evaluate_models(models):\n",
    "    for model_obj in tqdm(models):\n",
    "        model_obj['eval'] = model_obj['model'].evaluate(test_data, exclude_known_for_precision_recall=True, verbose=False)\n",
    "    return models"
   ]
  },
  {
   "cell_type": "code",
   "execution_count": 26,
   "metadata": {
    "ExecuteTime": {
     "end_time": "2020-08-03T02:27:31.013922Z",
     "start_time": "2020-08-03T02:27:12.525996Z"
    }
   },
   "outputs": [
    {
     "data": {
      "application/vnd.jupyter.widget-view+json": {
       "model_id": "88e5298d857e4bac8d0567636f7f6397",
       "version_major": 2,
       "version_minor": 0
      },
      "text/plain": [
       "HBox(children=(FloatProgress(value=0.0, max=4.0), HTML(value='')))"
      ]
     },
     "metadata": {},
     "output_type": "display_data"
    },
    {
     "name": "stdout",
     "output_type": "stream",
     "text": [
      "\n"
     ]
    }
   ],
   "source": [
    "evaluated_models = evaluate_models(trained_models)"
   ]
  },
  {
   "cell_type": "code",
   "execution_count": 27,
   "metadata": {
    "ExecuteTime": {
     "end_time": "2020-08-03T02:27:31.746034Z",
     "start_time": "2020-08-03T02:27:31.736828Z"
    }
   },
   "outputs": [],
   "source": [
    "# Get RMSE metrics from evaluated models\n",
    "\n",
    "def make_precision_series(eval_array):\n",
    "    x = [e['name'] for e in eval_array]\n",
    "    y0 = [e['eval']['precision_recall_overall'][0]['precision'] for e in eval_array]\n",
    "    y1 = [e['eval']['precision_recall_overall'][4]['precision'] for e in eval_array]\n",
    "    y2 = [e['eval']['precision_recall_overall'][9]['precision'] for e in eval_array]\n",
    "    return x, [y0,y1,y2]"
   ]
  },
  {
   "cell_type": "code",
   "execution_count": 28,
   "metadata": {
    "ExecuteTime": {
     "end_time": "2020-08-03T02:27:32.305929Z",
     "start_time": "2020-08-03T02:27:31.957128Z"
    },
    "scrolled": false
   },
   "outputs": [
    {
     "data": {
      "image/png": "[encoded data removed]",
      "text/plain": [
       "<Figure size 1152x576 with 1 Axes>"
      ]
     },
     "metadata": {},
     "output_type": "display_data"
    }
   ],
   "source": [
    "# Content\n",
    "x, ys = make_precision_series(sorted(evaluated_models, key=lambda x: x['name']))\n",
    "\n",
    "\n",
    "ind = np.arange(len(ys[0]))  # the x locations for the groups\n",
    "width = 0.27       # the width of the bars\n",
    "\n",
    "fig = plt.figure(figsize=(16,8))\n",
    "ax = fig.add_subplot(111)\n",
    "\n",
    "yvals = ys[0]\n",
    "rects1 = ax.bar(ind, yvals, width, color='r')\n",
    "zvals = ys[1]\n",
    "rects2 = ax.bar(ind+width, zvals, width, color='g')\n",
    "kvals = ys[2]\n",
    "rects3 = ax.bar(ind+width*2, kvals, width, color='b')\n",
    "\n",
    "ax.set_ylabel('Precision')\n",
    "ax.set_xticks(ind+width)\n",
    "ax.set_xticklabels( x , rotation=45)\n",
    "ax.legend( (rects1[0], rects2[0], rects3[0]), ('1 recommendation', '5 recommendations', '10 recommendations') )\n",
    "\n",
    "def autolabel(rects, yvals):\n",
    "    for rect_index, rect in enumerate(rects):\n",
    "        h = rect.get_height()\n",
    "        ax.text(rect.get_x()+rect.get_width()/2., h+0.001, round(yvals[rect_index],3),\n",
    "                ha='center', va='bottom')\n",
    "\n",
    "autolabel(rects1, ys[0])\n",
    "autolabel(rects2, ys[1])\n",
    "autolabel(rects3, ys[2])\n",
    "\n",
    "plt.title('Content Recommendations')\n",
    "\n",
    "plt.show()"
   ]
  },
  {
   "cell_type": "code",
   "execution_count": 29,
   "metadata": {
    "ExecuteTime": {
     "end_time": "2020-08-03T02:27:34.256740Z",
     "start_time": "2020-08-03T02:27:34.250063Z"
    }
   },
   "outputs": [
    {
     "data": {
      "text/plain": [
       "['content-cluster_id',\n",
       " 'content-countVect>SVD',\n",
       " 'content-tag_clusters',\n",
       " 'content-tfid>SVD']"
      ]
     },
     "execution_count": 29,
     "metadata": {},
     "output_type": "execute_result"
    }
   ],
   "source": [
    "x"
   ]
  },
  {
   "cell_type": "code",
   "execution_count": 30,
   "metadata": {
    "ExecuteTime": {
     "end_time": "2020-08-03T02:27:49.456635Z",
     "start_time": "2020-08-03T02:27:49.449451Z"
    }
   },
   "outputs": [
    {
     "data": {
      "text/plain": [
       "[0.002002002002002001,\n",
       " 0.08008008008008013,\n",
       " 0.05865865865865869,\n",
       " 0.061861861861861864]"
      ]
     },
     "execution_count": 30,
     "metadata": {},
     "output_type": "execute_result"
    }
   ],
   "source": [
    "ys[1]"
   ]
  },
  {
   "cell_type": "code",
   "execution_count": null,
   "metadata": {},
   "outputs": [],
   "source": []
  }
 ],
 "metadata": {
  "kernelspec": {
   "display_name": "Python 3",
   "language": "python",
   "name": "python3"
  },
  "language_info": {
   "codemirror_mode": {
    "name": "ipython",
    "version": 3
   },
   "file_extension": ".py",
   "mimetype": "text/x-python",
   "name": "python",
   "nbconvert_exporter": "python",
   "pygments_lexer": "ipython3",
   "version": "3.7.6"
  }
 },
 "nbformat": 4,
 "nbformat_minor": 4
}
