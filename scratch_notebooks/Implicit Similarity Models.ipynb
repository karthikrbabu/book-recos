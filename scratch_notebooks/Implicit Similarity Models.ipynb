{
 "cells": [
  {
   "cell_type": "markdown",
   "metadata": {},
   "source": [
    "# This is where the implicit similarity models are trained and evaluated"
   ]
  },
  {
   "cell_type": "code",
   "execution_count": 1,
   "metadata": {
    "ExecuteTime": {
     "end_time": "2020-08-03T02:29:13.632951Z",
     "start_time": "2020-08-03T02:29:11.902346Z"
    }
   },
   "outputs": [],
   "source": [
    "# https://apple.github.io/turicreate/docs/userguide/recommender/choosing-a-model.html\n",
    "# https://apple.github.io/turicreate/docs/api/generated/turicreate.recommender.item_content_recommender.create.html#turicreate.recommender.item_content_recommender.create\n",
    "%matplotlib inline\n",
    "import matplotlib.pyplot as plt\n",
    "import seaborn as sns\n",
    "sns.set()"
   ]
  },
  {
   "cell_type": "code",
   "execution_count": 2,
   "metadata": {
    "ExecuteTime": {
     "end_time": "2020-08-03T02:29:13.639146Z",
     "start_time": "2020-08-03T02:29:13.635362Z"
    }
   },
   "outputs": [],
   "source": [
    "# if you don't already have it\n",
    "# !pip install turicreate"
   ]
  },
  {
   "cell_type": "code",
   "execution_count": 3,
   "metadata": {
    "ExecuteTime": {
     "end_time": "2020-08-03T02:29:14.316319Z",
     "start_time": "2020-08-03T02:29:13.645717Z"
    }
   },
   "outputs": [],
   "source": [
    "# data science libraries\n",
    "import pandas as pd\n",
    "import numpy as np\n",
    "import turicreate as tc\n",
    "from turicreate.toolkits.recommender.util import precision_recall_by_user\n",
    "from sklearn.feature_extraction.text import CountVectorizer, TfidfVectorizer\n",
    "from sklearn.decomposition import TruncatedSVD"
   ]
  },
  {
   "cell_type": "code",
   "execution_count": 4,
   "metadata": {
    "ExecuteTime": {
     "end_time": "2020-08-03T02:29:14.334351Z",
     "start_time": "2020-08-03T02:29:14.319421Z"
    }
   },
   "outputs": [],
   "source": [
    "# loading and saving models\n",
    "# because sometimes notebooks die\n",
    "import pickle\n",
    "from glob import glob\n",
    "from os import path\n",
    "from tqdm.notebook import tqdm"
   ]
  },
  {
   "cell_type": "code",
   "execution_count": null,
   "metadata": {
    "ExecuteTime": {
     "end_time": "2020-08-02T18:15:45.498455Z",
     "start_time": "2020-08-02T18:15:45.437786Z"
    }
   },
   "outputs": [],
   "source": []
  },
  {
   "cell_type": "code",
   "execution_count": 5,
   "metadata": {
    "ExecuteTime": {
     "end_time": "2020-08-03T02:29:26.049114Z",
     "start_time": "2020-08-03T02:29:14.336384Z"
    }
   },
   "outputs": [],
   "source": [
    "# data\n",
    "raw_actions = tc.SFrame.read_csv('../data/raw_data/ratings.csv', verbose=False)\n",
    "raw_tags = tc.SFrame.read_csv('../data/raw_data/tags.csv', verbose=False)\n",
    "raw_books_with_tags = tc.SFrame.read_csv('../data/raw_data/book_tags.csv', verbose=False)\n",
    "books = tc.SFrame.read_csv('../data/parsed_data/ultimate_books.csv', verbose=False)\n",
    "to_read = tc.SFrame.read_csv('../data/raw_data/to_read.csv', verbose=False)\n",
    "books_with_tags = tc.SFrame.read_csv('../data/parsed_data/books_with_tags.csv', verbose=False)\n",
    "clustered_books_with_tags = tc.SFrame.read_csv('../data/parsed_data/clustered_books_with_tags.csv', verbose=False)\n",
    "genre_tags = tc.SFrame.read_csv('../data/parsed_data/genre_tag_clusters.csv', verbose=False)\n",
    "book_genre_clusters = tc.SFrame.read_csv('../data/parsed_data/books_with_genre_clusters.csv', verbose=False)"
   ]
  },
  {
   "cell_type": "code",
   "execution_count": 6,
   "metadata": {
    "ExecuteTime": {
     "end_time": "2020-08-03T02:30:08.535774Z",
     "start_time": "2020-08-03T02:29:26.058096Z"
    }
   },
   "outputs": [],
   "source": [
    "# remove actions from filtered books\n",
    "actions = raw_actions.join(books)[['user_id','book_id','rating']]"
   ]
  },
  {
   "cell_type": "code",
   "execution_count": 7,
   "metadata": {
    "ExecuteTime": {
     "end_time": "2020-08-03T02:30:09.089441Z",
     "start_time": "2020-08-03T02:30:08.545809Z"
    }
   },
   "outputs": [],
   "source": [
    "# train and test data split by user\n",
    "to_read_train, to_read_test = tc.recommender.util.random_split_by_user(to_read, user_id='user_id', item_id='book_id')"
   ]
  },
  {
   "cell_type": "code",
   "execution_count": null,
   "metadata": {},
   "outputs": [],
   "source": []
  },
  {
   "cell_type": "code",
   "execution_count": 10,
   "metadata": {
    "ExecuteTime": {
     "end_time": "2020-08-02T03:53:07.429184Z",
     "start_time": "2020-08-02T03:53:06.666606Z"
    }
   },
   "outputs": [
    {
     "data": {
      "text/plain": [
       "CountVectorizer(analyzer='word', binary=False, decode_error='strict',\n",
       "                dtype=<class 'numpy.int64'>, encoding='utf-8', input='content',\n",
       "                lowercase=True, max_df=1.0, max_features=None, min_df=1,\n",
       "                ngram_range=(1, 1), preprocessor=None, stop_words=None,\n",
       "                strip_accents=None, token_pattern='(?u)\\\\b\\\\w\\\\w+\\\\b',\n",
       "                tokenizer=None, vocabulary=None)"
      ]
     },
     "execution_count": 10,
     "metadata": {},
     "output_type": "execute_result"
    }
   ],
   "source": [
    "# Count Vectorizer on tags\n",
    "cv = CountVectorizer()\n",
    "cv.fit(books_with_tags['tag_name'])"
   ]
  },
  {
   "cell_type": "code",
   "execution_count": 11,
   "metadata": {
    "ExecuteTime": {
     "end_time": "2020-08-02T03:53:09.455097Z",
     "start_time": "2020-08-02T03:53:07.432716Z"
    }
   },
   "outputs": [
    {
     "name": "stdout",
     "output_type": "stream",
     "text": [
      "0.8065210650956977\n"
     ]
    }
   ],
   "source": [
    "# Tags -> CountVectorizer -> TruncatedSVD -> 35 features\n",
    "cv_svd = TruncatedSVD(n_components=35)\n",
    "X = cv_svd.fit_transform(cv.transform(books_with_tags['tag_name']))\n",
    "print(cv_svd.explained_variance_ratio_.sum())\n",
    "svd_tags = tc.SFrame(pd.DataFrame(X))\n",
    "svd_tags['book_id'] = books['book_id']"
   ]
  },
  {
   "cell_type": "code",
   "execution_count": 12,
   "metadata": {
    "ExecuteTime": {
     "end_time": "2020-08-02T03:53:11.991274Z",
     "start_time": "2020-08-02T03:53:09.457450Z"
    }
   },
   "outputs": [
    {
     "name": "stdout",
     "output_type": "stream",
     "text": [
      "0.5161981769429603\n"
     ]
    }
   ],
   "source": [
    "# Tags -> tf-idf -> TruncatedSVD -> 35 features\n",
    "tfid = TfidfVectorizer()\n",
    "tfid.fit(books_with_tags['tag_name'])\n",
    "tfid_svd = TruncatedSVD(n_components=35)\n",
    "X = tfid_svd.fit_transform(tfid.transform(books_with_tags['tag_name']))\n",
    "tfid_svd.explained_variance_ratio_.sum()\n",
    "svd_tfid_tags = tc.SFrame(pd.DataFrame(X))\n",
    "svd_tfid_tags['book_id'] = books['book_id']"
   ]
  },
  {
   "cell_type": "code",
   "execution_count": null,
   "metadata": {},
   "outputs": [],
   "source": []
  },
  {
   "cell_type": "code",
   "execution_count": 1,
   "metadata": {
    "ExecuteTime": {
     "end_time": "2020-08-02T22:09:08.933469Z",
     "start_time": "2020-08-02T22:09:08.829432Z"
    }
   },
   "outputs": [
    {
     "ename": "NameError",
     "evalue": "name 'clustered_books_with_tags' is not defined",
     "output_type": "error",
     "traceback": [
      "\u001b[0;31m---------------------------------------------------------------------------\u001b[0m",
      "\u001b[0;31mNameError\u001b[0m                                 Traceback (most recent call last)",
      "\u001b[0;32m<ipython-input-1-df90ff0a2ec7>\u001b[0m in \u001b[0;36m<module>\u001b[0;34m\u001b[0m\n\u001b[1;32m      1\u001b[0m \u001b[0;31m# combinations of side_data, model, latent factors, similarity types\u001b[0m\u001b[0;34m\u001b[0m\u001b[0;34m\u001b[0m\u001b[0;34m\u001b[0m\u001b[0m\n\u001b[1;32m      2\u001b[0m side_data = [{'name': 'none', 'value': None}, \n\u001b[0;32m----> 3\u001b[0;31m               \u001b[0;34m{\u001b[0m\u001b[0;34m'name'\u001b[0m\u001b[0;34m:\u001b[0m \u001b[0;34m'cluster_id'\u001b[0m\u001b[0;34m,\u001b[0m \u001b[0;34m'value'\u001b[0m\u001b[0;34m:\u001b[0m\u001b[0mclustered_books_with_tags\u001b[0m\u001b[0;34m[\u001b[0m\u001b[0;34m[\u001b[0m\u001b[0;34m'book_id'\u001b[0m\u001b[0;34m,\u001b[0m\u001b[0;34m'cluster'\u001b[0m\u001b[0;34m]\u001b[0m\u001b[0;34m]\u001b[0m\u001b[0;34m}\u001b[0m\u001b[0;34m,\u001b[0m\u001b[0;34m\u001b[0m\u001b[0;34m\u001b[0m\u001b[0m\n\u001b[0m\u001b[1;32m      4\u001b[0m               \u001b[0;34m{\u001b[0m\u001b[0;34m'name'\u001b[0m\u001b[0;34m:\u001b[0m \u001b[0;34m'countVect->SVD'\u001b[0m\u001b[0;34m,\u001b[0m \u001b[0;34m'value'\u001b[0m\u001b[0;34m:\u001b[0m\u001b[0msvd_tags\u001b[0m\u001b[0;34m}\u001b[0m\u001b[0;34m,\u001b[0m\u001b[0;34m\u001b[0m\u001b[0;34m\u001b[0m\u001b[0m\n\u001b[1;32m      5\u001b[0m               \u001b[0;34m{\u001b[0m\u001b[0;34m'name'\u001b[0m\u001b[0;34m:\u001b[0m \u001b[0;34m'tfid->SVD'\u001b[0m\u001b[0;34m,\u001b[0m \u001b[0;34m'value'\u001b[0m\u001b[0;34m:\u001b[0m\u001b[0msvd_tfid_tags\u001b[0m\u001b[0;34m}\u001b[0m\u001b[0;34m,\u001b[0m\u001b[0;34m\u001b[0m\u001b[0;34m\u001b[0m\u001b[0m\n",
      "\u001b[0;31mNameError\u001b[0m: name 'clustered_books_with_tags' is not defined"
     ]
    }
   ],
   "source": [
    "# combinations of side_data, model, latent factors, similarity types\n",
    "side_data = [{'name': 'none', 'value': None}, \n",
    "              {'name': 'cluster_id', 'value':clustered_books_with_tags[['book_id','cluster']]},\n",
    "              {'name': 'countVect->SVD', 'value':svd_tags},\n",
    "              {'name': 'tfid->SVD', 'value':svd_tfid_tags},\n",
    "              {'name': 'tag_clusters', 'value':book_genre_clusters}]\n",
    "\n",
    "models = [{'name':'item_similarity', 'value': tc.recommender.item_similarity_recommender},\n",
    "             {'name':'ranking_factorization', 'value': tc.recommender.ranking_factorization_recommender}]              \n",
    "num_factors_options = [4, 8, 12]\n",
    "similarity_types = ['jaccard','cosine','pearson']\n"
   ]
  },
  {
   "cell_type": "code",
   "execution_count": null,
   "metadata": {
    "ExecuteTime": {
     "end_time": "2020-08-02T03:58:54.196604Z",
     "start_time": "2020-08-02T03:57:18.853085Z"
    }
   },
   "outputs": [],
   "source": [
    "trained_models = []\n",
    "for model in models:\n",
    "    for item_data in side_data:\n",
    "        if model['name'] == 'content':\n",
    "            # Content model must have item data\n",
    "            if item_data['name'] != 'none':\n",
    "                label = f\"{model['name']} {item_data['name']}\"\n",
    "                print(label)\n",
    "                test_model = model['value'].create(item_data['value'], \n",
    "                                          user_id='user_id', \n",
    "                                          item_id='book_id',\n",
    "                                          observation_data=train_data,\n",
    "                                          target='rating',\n",
    "                                          verbose=False)\n",
    "                \n",
    "                trained_models.append({'name': label, 'model': test_model})\n",
    "        \n",
    "        elif model['name'] == 'factorization' or model['name'] == 'ranking_factorization':\n",
    "            # ranking factorization doesn't converge when using tag clusters. Needs more memory\n",
    "            # factorization has a latent factors param instead of a similarity type\n",
    "            if model['name'] != 'ranking_factorization' and item_data['name'] != 'tag_clusters':\n",
    "                for factors_option in num_factors_options:\n",
    "                    label = f\"{model['name']} {item_data['name']} {factors_option}\"\n",
    "                    print(label)\n",
    "                    test_model = model['value'].create(train_data, \n",
    "                                          user_id='user_id', \n",
    "                                          item_id='book_id',\n",
    "                                          target='rating',\n",
    "                                          item_data=item_data['value'],\n",
    "                                          num_factors=factors_option,\n",
    "                                          verbose=False)\n",
    "                    \n",
    "                    trained_models.append({'name': label, 'model': test_model,})\n",
    "        else:\n",
    "            # item similarity has a similarity type instead of a latent factors param\n",
    "            for similarity_type in similarity_types:\n",
    "                label = f\"{model['name']} {item_data['name']} {similarity_type}\"\n",
    "                print(label)\n",
    "                test_model = model['value'].create(train_data, \n",
    "                                      user_id='user_id', \n",
    "                                      item_id='book_id',\n",
    "                                      target='rating',\n",
    "                                      item_data=item_data['value'],\n",
    "                                      similarity_type=similarity_type,\n",
    "                                      verbose=False)\n",
    "                \n",
    "                trained_models.append({'name': label,'model': test_model})"
   ]
  },
  {
   "cell_type": "code",
   "execution_count": 8,
   "metadata": {
    "ExecuteTime": {
     "end_time": "2020-08-03T02:30:09.096549Z",
     "start_time": "2020-08-03T02:30:09.091853Z"
    }
   },
   "outputs": [],
   "source": [
    "implicit_model_path = '../models/implicit_models'"
   ]
  },
  {
   "cell_type": "code",
   "execution_count": null,
   "metadata": {
    "ExecuteTime": {
     "start_time": "2020-08-03T02:28:58.158Z"
    }
   },
   "outputs": [],
   "source": [
    "# save models in case notebook crashes\n",
    "\n",
    "def save_models(models, model_path):\n",
    "    for e in models:\n",
    "        file_name = e['name'].replace('-','').replace(' ','-')\n",
    "        e['model'].save(path.join(model_path, file_name)\n",
    "\n",
    "\n",
    "# save_models(trained_models, implicit_model_path)\n",
    "    "
   ]
  },
  {
   "cell_type": "code",
   "execution_count": 9,
   "metadata": {
    "ExecuteTime": {
     "end_time": "2020-08-03T02:30:14.891294Z",
     "start_time": "2020-08-03T02:30:09.099920Z"
    }
   },
   "outputs": [],
   "source": [
    "# load saved models, after notebook crashes\n",
    "def load_model_dir(models_path, name_prefix=''):\n",
    "    model_archives = glob(path.join(models_path,'*'))\n",
    "    return [{'name': f'{name_prefix}{path.basename(model_path)}', 'model': tc.load_model(model_path)} for model_path in model_archives]\n",
    "\n",
    "trained_models = load_model_dir(implicit_model_path)"
   ]
  },
  {
   "cell_type": "code",
   "execution_count": 12,
   "metadata": {
    "ExecuteTime": {
     "end_time": "2020-08-03T02:30:49.795224Z",
     "start_time": "2020-08-03T02:30:49.781414Z"
    }
   },
   "outputs": [],
   "source": [
    "# run evaluation metrics on each model using test data\n",
    "def evaluate_models(models):\n",
    "    for model_obj in tqdm(models):\n",
    "        model_obj['eval'] = model_obj['model'].evaluate(to_read_test, exclude_known_for_precision_recall=True, verbose=False)\n",
    "    return models"
   ]
  },
  {
   "cell_type": "code",
   "execution_count": 13,
   "metadata": {
    "ExecuteTime": {
     "end_time": "2020-08-03T02:35:53.823643Z",
     "start_time": "2020-08-03T02:30:50.369581Z"
    }
   },
   "outputs": [
    {
     "data": {
      "application/vnd.jupyter.widget-view+json": {
       "model_id": "6d105b0a72c445db9f91e01aa899344e",
       "version_major": 2,
       "version_minor": 0
      },
      "text/plain": [
       "HBox(children=(FloatProgress(value=0.0, max=30.0), HTML(value='')))"
      ]
     },
     "metadata": {},
     "output_type": "display_data"
    },
    {
     "name": "stderr",
     "output_type": "stream",
     "text": [
      "WARNING:root:Model trained without a target. Skipping RMSE computation.\n",
      "WARNING:root:Model trained without a target. Skipping RMSE computation.\n",
      "WARNING:root:Model trained without a target. Skipping RMSE computation.\n",
      "WARNING:root:Model trained without a target. Skipping RMSE computation.\n",
      "WARNING:root:Model trained without a target. Skipping RMSE computation.\n",
      "WARNING:root:Model trained without a target. Skipping RMSE computation.\n",
      "WARNING:root:Model trained without a target. Skipping RMSE computation.\n",
      "WARNING:root:Model trained without a target. Skipping RMSE computation.\n",
      "WARNING:root:Model trained without a target. Skipping RMSE computation.\n",
      "WARNING:root:Model trained without a target. Skipping RMSE computation.\n",
      "WARNING:root:Model trained without a target. Skipping RMSE computation.\n",
      "WARNING:root:Model trained without a target. Skipping RMSE computation.\n",
      "WARNING:root:Model trained without a target. Skipping RMSE computation.\n",
      "WARNING:root:Model trained without a target. Skipping RMSE computation.\n",
      "WARNING:root:Model trained without a target. Skipping RMSE computation.\n",
      "WARNING:root:Model trained without a target. Skipping RMSE computation.\n",
      "WARNING:root:Model trained without a target. Skipping RMSE computation.\n",
      "WARNING:root:Model trained without a target. Skipping RMSE computation.\n",
      "WARNING:root:Model trained without a target. Skipping RMSE computation.\n",
      "WARNING:root:Model trained without a target. Skipping RMSE computation.\n",
      "WARNING:root:Model trained without a target. Skipping RMSE computation.\n",
      "WARNING:root:Model trained without a target. Skipping RMSE computation.\n",
      "WARNING:root:Model trained without a target. Skipping RMSE computation.\n",
      "WARNING:root:Model trained without a target. Skipping RMSE computation.\n",
      "WARNING:root:Model trained without a target. Skipping RMSE computation.\n",
      "WARNING:root:Model trained without a target. Skipping RMSE computation.\n",
      "WARNING:root:Model trained without a target. Skipping RMSE computation.\n",
      "WARNING:root:Model trained without a target. Skipping RMSE computation.\n",
      "WARNING:root:Model trained without a target. Skipping RMSE computation.\n",
      "WARNING:root:Model trained without a target. Skipping RMSE computation.\n"
     ]
    },
    {
     "name": "stdout",
     "output_type": "stream",
     "text": [
      "\n"
     ]
    }
   ],
   "source": [
    "evaluated_models = evaluate_models(trained_models)"
   ]
  },
  {
   "cell_type": "code",
   "execution_count": 14,
   "metadata": {
    "ExecuteTime": {
     "end_time": "2020-08-03T02:35:57.918037Z",
     "start_time": "2020-08-03T02:35:54.958148Z"
    }
   },
   "outputs": [],
   "source": [
    "# Get precision metrics from evaluated models\n",
    "\n",
    "def make_precision_series(eval_array):\n",
    "    x = [e['name'] for e in eval_array]\n",
    "    y0 = [e['eval']['precision_recall_overall'][0]['precision'] for e in eval_array]\n",
    "    y1 = [e['eval']['precision_recall_overall'][4]['precision'] for e in eval_array]\n",
    "    y2 = [e['eval']['precision_recall_overall'][9]['precision'] for e in eval_array]\n",
    "    return x, [y0,y1,y2]\n"
   ]
  },
  {
   "cell_type": "code",
   "execution_count": 27,
   "metadata": {
    "ExecuteTime": {
     "end_time": "2020-08-03T20:01:12.237740Z",
     "start_time": "2020-08-03T20:01:11.457354Z"
    }
   },
   "outputs": [
    {
     "data": {
      "image/png": "[encoded data removed]",
      "text/plain": [
       "<Figure size 1152x576 with 1 Axes>"
      ]
     },
     "metadata": {},
     "output_type": "display_data"
    }
   ],
   "source": [
    "# Implicit\n",
    "item_similarity_models = [e for e in evaluated_models if 'item_similarity' in e['name'] and 'pearson' not in e['name']]\n",
    "x, ys = make_precision_series(sorted(item_similarity_models, key=lambda x: x['name']))\n",
    "\n",
    "ind = np.arange(len(ys[0]))  # the x locations for the groups\n",
    "width = 0.27       # the width of the bars\n",
    "\n",
    "fig = plt.figure(figsize=(16,8))\n",
    "ax = fig.add_subplot(111)\n",
    "\n",
    "yvals = ys[0]\n",
    "rects1 = ax.bar(ind, yvals, width, color='r')\n",
    "zvals = ys[1]\n",
    "rects2 = ax.bar(ind+width, zvals, width, color='g')\n",
    "kvals = ys[2]\n",
    "rects3 = ax.bar(ind+width*2, kvals, width, color='b')\n",
    "\n",
    "ax.set_ylabel('Precision')\n",
    "ax.set_xticks(ind+width)\n",
    "ax.set_xticklabels( x , rotation='vertical')\n",
    "ax.legend( (rects1[0], rects2[0], rects3[0]), ('1 recommendation', '5 recommendations', '10 recommendations') )\n",
    "\n",
    "def autolabel(rects, yvals):\n",
    "    for rect_index, rect in enumerate(rects):\n",
    "        h = rect.get_height()\n",
    "        ax.text(rect.get_x()+rect.get_width()/2., h+0.001, round(yvals[rect_index],3),\n",
    "                ha='center', va='bottom')\n",
    "\n",
    "autolabel(rects1, ys[0])\n",
    "autolabel(rects2, ys[1])\n",
    "autolabel(rects3, ys[2])\n",
    "\n",
    "plt.title('Implicit Recommendations')\n",
    "\n",
    "plt.show()"
   ]
  },
  {
   "cell_type": "code",
   "execution_count": 18,
   "metadata": {
    "ExecuteTime": {
     "end_time": "2020-08-03T02:39:31.438367Z",
     "start_time": "2020-08-03T02:39:31.431087Z"
    }
   },
   "outputs": [
    {
     "data": {
      "text/plain": [
       "['item_similarity-cluster_id-cosine',\n",
       " 'item_similarity-cluster_id-jaccard',\n",
       " 'item_similarity-cluster_id-pearson',\n",
       " 'item_similarity-countVect>SVD-cosine',\n",
       " 'item_similarity-countVect>SVD-jaccard',\n",
       " 'item_similarity-countVect>SVD-pearson',\n",
       " 'item_similarity-none-cosine',\n",
       " 'item_similarity-none-jaccard',\n",
       " 'item_similarity-none-pearson',\n",
       " 'item_similarity-tag_clusters-cosine',\n",
       " 'item_similarity-tag_clusters-jaccard',\n",
       " 'item_similarity-tag_clusters-pearson',\n",
       " 'item_similarity-tfid>SVD-cosine',\n",
       " 'item_similarity-tfid>SVD-jaccard',\n",
       " 'item_similarity-tfid>SVD-pearson']"
      ]
     },
     "execution_count": 18,
     "metadata": {},
     "output_type": "execute_result"
    }
   ],
   "source": [
    "x"
   ]
  },
  {
   "cell_type": "code",
   "execution_count": 26,
   "metadata": {
    "ExecuteTime": {
     "end_time": "2020-08-03T02:41:59.197151Z",
     "start_time": "2020-08-03T02:41:59.187287Z"
    }
   },
   "outputs": [
    {
     "data": {
      "text/plain": [
       "[0.011463414634146338,\n",
       " 0.011463414634146341,\n",
       " 0.011463414634146345,\n",
       " 0.011463414634146348,\n",
       " 0.01146341463414635,\n",
       " 0.06365853658536581,\n",
       " 0.06365853658536583,\n",
       " 0.06365853658536584,\n",
       " 0.06390243902439025,\n",
       " 0.06390243902439025,\n",
       " 0.06414634146341464,\n",
       " 0.06414634146341464,\n",
       " 0.06439024390243903,\n",
       " 0.0643902439024391,\n",
       " 0.06439024390243911]"
      ]
     },
     "execution_count": 26,
     "metadata": {},
     "output_type": "execute_result"
    }
   ],
   "source": [
    "ys[1]"
   ]
  },
  {
   "cell_type": "code",
   "execution_count": 62,
   "metadata": {},
   "outputs": [],
   "source": [
    "popularity_model = tc.recommender.popularity_recommender.create(actions, user_id='user_id', item_id='book_id', target='rating', verbose=False )\n",
    "popularity_eval = popularity_model.evaluate(test_data, exclude_known_for_precision_recall=True, verbose=False)\n"
   ]
  },
  {
   "cell_type": "code",
   "execution_count": 89,
   "metadata": {},
   "outputs": [
    {
     "data": {
      "text/html": [
       "<div style=\"max-height:1000px;max-width:1500px;overflow:auto;\"><table frame=\"box\" rules=\"cols\">\n",
       "    <tr>\n",
       "        <th style=\"padding-left: 1em; padding-right: 1em; text-align: center\">user_id</th>\n",
       "        <th style=\"padding-left: 1em; padding-right: 1em; text-align: center\">book_id</th>\n",
       "        <th style=\"padding-left: 1em; padding-right: 1em; text-align: center\">score</th>\n",
       "        <th style=\"padding-left: 1em; padding-right: 1em; text-align: center\">rank</th>\n",
       "        <th style=\"padding-left: 1em; padding-right: 1em; text-align: center\">title</th>\n",
       "        <th style=\"padding-left: 1em; padding-right: 1em; text-align: center\">authors</th>\n",
       "    </tr>\n",
       "    <tr>\n",
       "        <td style=\"padding-left: 1em; padding-right: 1em; text-align: center; vertical-align: top\">2</td>\n",
       "        <td style=\"padding-left: 1em; padding-right: 1em; text-align: center; vertical-align: top\">2149</td>\n",
       "        <td style=\"padding-left: 1em; padding-right: 1em; text-align: center; vertical-align: top\">4.584269662921348</td>\n",
       "        <td style=\"padding-left: 1em; padding-right: 1em; text-align: center; vertical-align: top\">10</td>\n",
       "        <td style=\"padding-left: 1em; padding-right: 1em; text-align: center; vertical-align: top\">A Song of Ice and Fire (A<br>Song of Ice and Fire, ...</td>\n",
       "        <td style=\"padding-left: 1em; padding-right: 1em; text-align: center; vertical-align: top\">George R.R. Martin</td>\n",
       "    </tr>\n",
       "    <tr>\n",
       "        <td style=\"padding-left: 1em; padding-right: 1em; text-align: center; vertical-align: top\">2</td>\n",
       "        <td style=\"padding-left: 1em; padding-right: 1em; text-align: center; vertical-align: top\">4483</td>\n",
       "        <td style=\"padding-left: 1em; padding-right: 1em; text-align: center; vertical-align: top\">4.747395833333333</td>\n",
       "        <td style=\"padding-left: 1em; padding-right: 1em; text-align: center; vertical-align: top\">1</td>\n",
       "        <td style=\"padding-left: 1em; padding-right: 1em; text-align: center; vertical-align: top\">It&#x27;s a Magical World: A<br>Calvin and Hobbes ...</td>\n",
       "        <td style=\"padding-left: 1em; padding-right: 1em; text-align: center; vertical-align: top\">Bill Watterson</td>\n",
       "    </tr>\n",
       "    <tr>\n",
       "        <td style=\"padding-left: 1em; padding-right: 1em; text-align: center; vertical-align: top\">2</td>\n",
       "        <td style=\"padding-left: 1em; padding-right: 1em; text-align: center; vertical-align: top\">4778</td>\n",
       "        <td style=\"padding-left: 1em; padding-right: 1em; text-align: center; vertical-align: top\">4.666666666666667</td>\n",
       "        <td style=\"padding-left: 1em; padding-right: 1em; text-align: center; vertical-align: top\">6</td>\n",
       "        <td style=\"padding-left: 1em; padding-right: 1em; text-align: center; vertical-align: top\">The Holy Bible: English<br>Standard Version ...</td>\n",
       "        <td style=\"padding-left: 1em; padding-right: 1em; text-align: center; vertical-align: top\">Anonymous</td>\n",
       "    </tr>\n",
       "    <tr>\n",
       "        <td style=\"padding-left: 1em; padding-right: 1em; text-align: center; vertical-align: top\">2</td>\n",
       "        <td style=\"padding-left: 1em; padding-right: 1em; text-align: center; vertical-align: top\">5580</td>\n",
       "        <td style=\"padding-left: 1em; padding-right: 1em; text-align: center; vertical-align: top\">4.689138576779026</td>\n",
       "        <td style=\"padding-left: 1em; padding-right: 1em; text-align: center; vertical-align: top\">4</td>\n",
       "        <td style=\"padding-left: 1em; padding-right: 1em; text-align: center; vertical-align: top\">The Calvin and Hobbes<br>Lazy Sunday Book ...</td>\n",
       "        <td style=\"padding-left: 1em; padding-right: 1em; text-align: center; vertical-align: top\">Bill Watterson</td>\n",
       "    </tr>\n",
       "    <tr>\n",
       "        <td style=\"padding-left: 1em; padding-right: 1em; text-align: center; vertical-align: top\">2</td>\n",
       "        <td style=\"padding-left: 1em; padding-right: 1em; text-align: center; vertical-align: top\">5919</td>\n",
       "        <td style=\"padding-left: 1em; padding-right: 1em; text-align: center; vertical-align: top\">4.640287769784172</td>\n",
       "        <td style=\"padding-left: 1em; padding-right: 1em; text-align: center; vertical-align: top\">8</td>\n",
       "        <td style=\"padding-left: 1em; padding-right: 1em; text-align: center; vertical-align: top\">Life Application Study<br>Bible: NIV ...</td>\n",
       "        <td style=\"padding-left: 1em; padding-right: 1em; text-align: center; vertical-align: top\">Anonymous, Ronald A.<br>Beers, Ronald A. Beers ...</td>\n",
       "    </tr>\n",
       "    <tr>\n",
       "        <td style=\"padding-left: 1em; padding-right: 1em; text-align: center; vertical-align: top\">2</td>\n",
       "        <td style=\"padding-left: 1em; padding-right: 1em; text-align: center; vertical-align: top\">7883</td>\n",
       "        <td style=\"padding-left: 1em; padding-right: 1em; text-align: center; vertical-align: top\">4.663157894736842</td>\n",
       "        <td style=\"padding-left: 1em; padding-right: 1em; text-align: center; vertical-align: top\">7</td>\n",
       "        <td style=\"padding-left: 1em; padding-right: 1em; text-align: center; vertical-align: top\">The Sandman: King of<br>Dreams ...</td>\n",
       "        <td style=\"padding-left: 1em; padding-right: 1em; text-align: center; vertical-align: top\">Alisa Kwitney, Neil<br>Gaiman ...</td>\n",
       "    </tr>\n",
       "    <tr>\n",
       "        <td style=\"padding-left: 1em; padding-right: 1em; text-align: center; vertical-align: top\">2</td>\n",
       "        <td style=\"padding-left: 1em; padding-right: 1em; text-align: center; vertical-align: top\">8663</td>\n",
       "        <td style=\"padding-left: 1em; padding-right: 1em; text-align: center; vertical-align: top\">4.680851063829787</td>\n",
       "        <td style=\"padding-left: 1em; padding-right: 1em; text-align: center; vertical-align: top\">5</td>\n",
       "        <td style=\"padding-left: 1em; padding-right: 1em; text-align: center; vertical-align: top\">Locke &amp; Key, Vol. 6:<br>Alpha &amp; Omega ...</td>\n",
       "        <td style=\"padding-left: 1em; padding-right: 1em; text-align: center; vertical-align: top\">Joe Hill, Gabriel<br>Rodríguez ...</td>\n",
       "    </tr>\n",
       "    <tr>\n",
       "        <td style=\"padding-left: 1em; padding-right: 1em; text-align: center; vertical-align: top\">2</td>\n",
       "        <td style=\"padding-left: 1em; padding-right: 1em; text-align: center; vertical-align: top\">8854</td>\n",
       "        <td style=\"padding-left: 1em; padding-right: 1em; text-align: center; vertical-align: top\">4.585106382978723</td>\n",
       "        <td style=\"padding-left: 1em; padding-right: 1em; text-align: center; vertical-align: top\">9</td>\n",
       "        <td style=\"padding-left: 1em; padding-right: 1em; text-align: center; vertical-align: top\">Mark of the Lion Trilogy</td>\n",
       "        <td style=\"padding-left: 1em; padding-right: 1em; text-align: center; vertical-align: top\">Francine Rivers</td>\n",
       "    </tr>\n",
       "    <tr>\n",
       "        <td style=\"padding-left: 1em; padding-right: 1em; text-align: center; vertical-align: top\">2</td>\n",
       "        <td style=\"padding-left: 1em; padding-right: 1em; text-align: center; vertical-align: top\">8946</td>\n",
       "        <td style=\"padding-left: 1em; padding-right: 1em; text-align: center; vertical-align: top\">4.72</td>\n",
       "        <td style=\"padding-left: 1em; padding-right: 1em; text-align: center; vertical-align: top\">2</td>\n",
       "        <td style=\"padding-left: 1em; padding-right: 1em; text-align: center; vertical-align: top\">The Divan</td>\n",
       "        <td style=\"padding-left: 1em; padding-right: 1em; text-align: center; vertical-align: top\">Hafez</td>\n",
       "    </tr>\n",
       "    <tr>\n",
       "        <td style=\"padding-left: 1em; padding-right: 1em; text-align: center; vertical-align: top\">2</td>\n",
       "        <td style=\"padding-left: 1em; padding-right: 1em; text-align: center; vertical-align: top\">9141</td>\n",
       "        <td style=\"padding-left: 1em; padding-right: 1em; text-align: center; vertical-align: top\">4.711764705882353</td>\n",
       "        <td style=\"padding-left: 1em; padding-right: 1em; text-align: center; vertical-align: top\">3</td>\n",
       "        <td style=\"padding-left: 1em; padding-right: 1em; text-align: center; vertical-align: top\">The Way of Kings, Part 1<br>(The Stormlight Archive ...</td>\n",
       "        <td style=\"padding-left: 1em; padding-right: 1em; text-align: center; vertical-align: top\">Brandon Sanderson</td>\n",
       "    </tr>\n",
       "</table>\n",
       "[10 rows x 6 columns]<br/>\n",
       "</div>"
      ],
      "text/plain": [
       "Columns:\n",
       "\tuser_id\tint\n",
       "\tbook_id\tint\n",
       "\tscore\tfloat\n",
       "\trank\tint\n",
       "\ttitle\tstr\n",
       "\tauthors\tstr\n",
       "\n",
       "Rows: 10\n",
       "\n",
       "Data:\n",
       "+---------+---------+-------------------+------+-------------------------------+\n",
       "| user_id | book_id |       score       | rank |             title             |\n",
       "+---------+---------+-------------------+------+-------------------------------+\n",
       "|    2    |   2149  | 4.584269662921348 |  10  | A Song of Ice and Fire (A ... |\n",
       "|    2    |   4483  | 4.747395833333333 |  1   | It's a Magical World: A Ca... |\n",
       "|    2    |   4778  | 4.666666666666667 |  6   | The Holy Bible: English St... |\n",
       "|    2    |   5580  | 4.689138576779026 |  4   | The Calvin and Hobbes Lazy... |\n",
       "|    2    |   5919  | 4.640287769784172 |  8   | Life Application Study Bib... |\n",
       "|    2    |   7883  | 4.663157894736842 |  7   |  The Sandman: King of Dreams  |\n",
       "|    2    |   8663  | 4.680851063829787 |  5   | Locke & Key, Vol. 6: Alpha... |\n",
       "|    2    |   8854  | 4.585106382978723 |  9   |    Mark of the Lion Trilogy   |\n",
       "|    2    |   8946  |        4.72       |  2   |           The Divan           |\n",
       "|    2    |   9141  | 4.711764705882353 |  3   | The Way of Kings, Part 1 (... |\n",
       "+---------+---------+-------------------+------+-------------------------------+\n",
       "+-------------------------------+\n",
       "|            authors            |\n",
       "+-------------------------------+\n",
       "|       George R.R. Martin      |\n",
       "|         Bill Watterson        |\n",
       "|           Anonymous           |\n",
       "|         Bill Watterson        |\n",
       "| Anonymous, Ronald A. Beers... |\n",
       "|   Alisa Kwitney, Neil Gaiman  |\n",
       "|  Joe Hill, Gabriel Rodríguez  |\n",
       "|        Francine Rivers        |\n",
       "|             Hafez             |\n",
       "|       Brandon Sanderson       |\n",
       "+-------------------------------+\n",
       "[10 rows x 6 columns]"
      ]
     },
     "execution_count": 89,
     "metadata": {},
     "output_type": "execute_result"
    }
   ],
   "source": [
    "popularity_model.recommend(users=[2], k=10, diversity=5).join(books[['book_id','title','authors']])"
   ]
  }
 ],
 "metadata": {
  "kernelspec": {
   "display_name": "Python 3",
   "language": "python",
   "name": "python3"
  },
  "language_info": {
   "codemirror_mode": {
    "name": "ipython",
    "version": 3
   },
   "file_extension": ".py",
   "mimetype": "text/x-python",
   "name": "python",
   "nbconvert_exporter": "python",
   "pygments_lexer": "ipython3",
   "version": "3.7.6"
  }
 },
 "nbformat": 4,
 "nbformat_minor": 4
}
