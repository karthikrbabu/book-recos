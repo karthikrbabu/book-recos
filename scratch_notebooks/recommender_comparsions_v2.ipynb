{
 "cells": [
  {
   "cell_type": "markdown",
   "metadata": {},
   "source": [
    "# Trying to figure out how to compare models, not super interesting.  \n",
    "## See: Content Models.ipynb, Explicit Similarity Models.ipynb, Implicit Similarity Models.ipynb"
   ]
  },
  {
   "cell_type": "code",
   "execution_count": null,
   "metadata": {},
   "outputs": [],
   "source": [
    "%matplotlib inline\n",
    "import matplotlib.pyplot as plt"
   ]
  },
  {
   "cell_type": "code",
   "execution_count": 1,
   "metadata": {},
   "outputs": [],
   "source": [
    "# if you don't already have it\n",
    "# !pip install turicreate\n",
    "import pandas as pd\n",
    "import numpy as np\n",
    "import turicreate as tc\n",
    "from turicreate.toolkits.recommender.util import precision_recall_by_user\n",
    "from sklearn.feature_extraction.text import CountVectorizer, TfidfVectorizer\n",
    "from sklearn.decomposition import TruncatedSVD"
   ]
  },
  {
   "cell_type": "code",
   "execution_count": 4,
   "metadata": {},
   "outputs": [],
   "source": [
    "from tqdm.notebook import tqdm"
   ]
  },
  {
   "cell_type": "code",
   "execution_count": 6,
   "metadata": {},
   "outputs": [],
   "source": [
    "# docs: https://apple.github.io/turicreate/docs/userguide/recommender/"
   ]
  },
  {
   "cell_type": "code",
   "execution_count": 7,
   "metadata": {},
   "outputs": [],
   "source": [
    "# data\n",
    "raw_actions = tc.SFrame.read_csv('../data/raw_data/ratings.csv', verbose=False)\n",
    "raw_tags = tc.SFrame.read_csv('../data/raw_data/tags.csv', verbose=False)\n",
    "raw_books_with_tags = tc.SFrame.read_csv('../data/raw_data/book_tags.csv', verbose=False)\n",
    "books = tc.SFrame.read_csv('../data/parsed_data/ultimate_books.csv', verbose=False)\n",
    "to_read = tc.SFrame.read_csv('../data/raw_data/to_read.csv', verbose=False)\n",
    "books_with_tags = tc.SFrame.read_csv('../data/parsed_data/books_with_tags.csv', verbose=False)\n",
    "clustered_books_with_tags = tc.SFrame.read_csv('../data/parsed_data/clustered_books_with_tags.csv', verbose=False)\n",
    "genre_tags = tc.SFrame.read_csv('../data/parsed_data/genre_tag_clusters.csv', verbose=False)"
   ]
  },
  {
   "cell_type": "code",
   "execution_count": 20,
   "metadata": {},
   "outputs": [
    {
     "data": {
      "text/plain": [
       "672142"
      ]
     },
     "execution_count": 20,
     "metadata": {},
     "output_type": "execute_result"
    }
   ],
   "source": [
    "len(raw_actions.join(books, on={'book_id':'goodreads_book_id'}))"
   ]
  },
  {
   "cell_type": "code",
   "execution_count": 21,
   "metadata": {},
   "outputs": [
    {
     "data": {
      "text/plain": [
       "5579146"
      ]
     },
     "execution_count": 21,
     "metadata": {},
     "output_type": "execute_result"
    }
   ],
   "source": [
    "len(raw_actions.join(books))"
   ]
  },
  {
   "cell_type": "code",
   "execution_count": 8,
   "metadata": {},
   "outputs": [],
   "source": [
    "bt = books[['book_id','goodreads_book_id']].join(raw_books_with_tags).join(raw_tags)"
   ]
  },
  {
   "cell_type": "code",
   "execution_count": 66,
   "metadata": {},
   "outputs": [],
   "source": [
    "backup_book_array = book_array"
   ]
  },
  {
   "cell_type": "code",
   "execution_count": 70,
   "metadata": {},
   "outputs": [
    {
     "data": {
      "application/vnd.jupyter.widget-view+json": {
       "model_id": "1c4c7dd2f1924e73bcce5db14ceb47fb",
       "version_major": 2,
       "version_minor": 0
      },
      "text/plain": [
       "HBox(children=(FloatProgress(value=0.0, max=8730.0), HTML(value='')))"
      ]
     },
     "metadata": {},
     "output_type": "display_data"
    },
    {
     "name": "stdout",
     "output_type": "stream",
     "text": [
      "\n"
     ]
    }
   ],
   "source": [
    "book_genre_cluster_list = []\n",
    "#unique_books = bt['goodreads_book_id'].unique()\n",
    "for book_index in tqdm(range(0, len(books['goodreads_book_id']))):\n",
    "    book_id = books['goodreads_book_id'][book_index]\n",
    "    book_tag_array = []\n",
    "    tags = bt[bt['goodreads_book_id'] == book_id]['tag_name']\n",
    "    for t in range(0, len(genre_tags)):\n",
    "        genre_cluster_tags = list(map(lambda x: x.strip(\"'\"), genre_tags[t]['Cluster'].strip('[]').split(' ')))\n",
    "        found_tag = bool(set(tags) & set(genre_cluster_tags))\n",
    "        book_tag_array.append(1 if found_tag else 0)\n",
    "    book_genre_cluster_list.append(book_tag_array)"
   ]
  },
  {
   "cell_type": "code",
   "execution_count": 71,
   "metadata": {},
   "outputs": [],
   "source": [
    "data = np.array(book_genre_cluster_list).T\n",
    "d = list(map(tc.SArray,data))\n",
    "book_genre_clusters=tc.SFrame(d)"
   ]
  },
  {
   "cell_type": "code",
   "execution_count": 216,
   "metadata": {},
   "outputs": [],
   "source": [
    "book_genre_clusters_df = pd.DataFrame(book_genre_cluster_list)"
   ]
  },
  {
   "cell_type": "code",
   "execution_count": 218,
   "metadata": {},
   "outputs": [],
   "source": [
    "book_genre_clusters_df.to_csv('../data/parsed_data/books_with_genre_clusters.csv')"
   ]
  },
  {
   "cell_type": "code",
   "execution_count": 73,
   "metadata": {},
   "outputs": [],
   "source": [
    "book_genre_clusters['book_id'] = books['book_id']"
   ]
  },
  {
   "cell_type": "code",
   "execution_count": 74,
   "metadata": {},
   "outputs": [
    {
     "data": {
      "text/html": [
       "<div style=\"max-height:1000px;max-width:1500px;overflow:auto;\"><table frame=\"box\" rules=\"cols\">\n",
       "    <tr>\n",
       "        <th style=\"padding-left: 1em; padding-right: 1em; text-align: center\">X1</th>\n",
       "        <th style=\"padding-left: 1em; padding-right: 1em; text-align: center\">X2</th>\n",
       "        <th style=\"padding-left: 1em; padding-right: 1em; text-align: center\">X3</th>\n",
       "        <th style=\"padding-left: 1em; padding-right: 1em; text-align: center\">X4</th>\n",
       "        <th style=\"padding-left: 1em; padding-right: 1em; text-align: center\">X5</th>\n",
       "        <th style=\"padding-left: 1em; padding-right: 1em; text-align: center\">X6</th>\n",
       "        <th style=\"padding-left: 1em; padding-right: 1em; text-align: center\">X7</th>\n",
       "        <th style=\"padding-left: 1em; padding-right: 1em; text-align: center\">X8</th>\n",
       "        <th style=\"padding-left: 1em; padding-right: 1em; text-align: center\">X9</th>\n",
       "        <th style=\"padding-left: 1em; padding-right: 1em; text-align: center\">X10</th>\n",
       "        <th style=\"padding-left: 1em; padding-right: 1em; text-align: center\">X11</th>\n",
       "        <th style=\"padding-left: 1em; padding-right: 1em; text-align: center\">X12</th>\n",
       "        <th style=\"padding-left: 1em; padding-right: 1em; text-align: center\">X13</th>\n",
       "        <th style=\"padding-left: 1em; padding-right: 1em; text-align: center\">X14</th>\n",
       "        <th style=\"padding-left: 1em; padding-right: 1em; text-align: center\">X15</th>\n",
       "        <th style=\"padding-left: 1em; padding-right: 1em; text-align: center\">X16</th>\n",
       "        <th style=\"padding-left: 1em; padding-right: 1em; text-align: center\">X17</th>\n",
       "        <th style=\"padding-left: 1em; padding-right: 1em; text-align: center\">X18</th>\n",
       "        <th style=\"padding-left: 1em; padding-right: 1em; text-align: center\">X19</th>\n",
       "        <th style=\"padding-left: 1em; padding-right: 1em; text-align: center\">X20</th>\n",
       "        <th style=\"padding-left: 1em; padding-right: 1em; text-align: center\">X21</th>\n",
       "        <th style=\"padding-left: 1em; padding-right: 1em; text-align: center\">X22</th>\n",
       "    </tr>\n",
       "    <tr>\n",
       "        <td style=\"padding-left: 1em; padding-right: 1em; text-align: center; vertical-align: top\">0</td>\n",
       "        <td style=\"padding-left: 1em; padding-right: 1em; text-align: center; vertical-align: top\">0</td>\n",
       "        <td style=\"padding-left: 1em; padding-right: 1em; text-align: center; vertical-align: top\">1</td>\n",
       "        <td style=\"padding-left: 1em; padding-right: 1em; text-align: center; vertical-align: top\">1</td>\n",
       "        <td style=\"padding-left: 1em; padding-right: 1em; text-align: center; vertical-align: top\">1</td>\n",
       "        <td style=\"padding-left: 1em; padding-right: 1em; text-align: center; vertical-align: top\">1</td>\n",
       "        <td style=\"padding-left: 1em; padding-right: 1em; text-align: center; vertical-align: top\">1</td>\n",
       "        <td style=\"padding-left: 1em; padding-right: 1em; text-align: center; vertical-align: top\">0</td>\n",
       "        <td style=\"padding-left: 1em; padding-right: 1em; text-align: center; vertical-align: top\">0</td>\n",
       "        <td style=\"padding-left: 1em; padding-right: 1em; text-align: center; vertical-align: top\">0</td>\n",
       "        <td style=\"padding-left: 1em; padding-right: 1em; text-align: center; vertical-align: top\">1</td>\n",
       "        <td style=\"padding-left: 1em; padding-right: 1em; text-align: center; vertical-align: top\">1</td>\n",
       "        <td style=\"padding-left: 1em; padding-right: 1em; text-align: center; vertical-align: top\">1</td>\n",
       "        <td style=\"padding-left: 1em; padding-right: 1em; text-align: center; vertical-align: top\">1</td>\n",
       "        <td style=\"padding-left: 1em; padding-right: 1em; text-align: center; vertical-align: top\">1</td>\n",
       "        <td style=\"padding-left: 1em; padding-right: 1em; text-align: center; vertical-align: top\">0</td>\n",
       "        <td style=\"padding-left: 1em; padding-right: 1em; text-align: center; vertical-align: top\">0</td>\n",
       "        <td style=\"padding-left: 1em; padding-right: 1em; text-align: center; vertical-align: top\">0</td>\n",
       "        <td style=\"padding-left: 1em; padding-right: 1em; text-align: center; vertical-align: top\">0</td>\n",
       "        <td style=\"padding-left: 1em; padding-right: 1em; text-align: center; vertical-align: top\">0</td>\n",
       "        <td style=\"padding-left: 1em; padding-right: 1em; text-align: center; vertical-align: top\">0</td>\n",
       "        <td style=\"padding-left: 1em; padding-right: 1em; text-align: center; vertical-align: top\">0</td>\n",
       "    </tr>\n",
       "    <tr>\n",
       "        <td style=\"padding-left: 1em; padding-right: 1em; text-align: center; vertical-align: top\">0</td>\n",
       "        <td style=\"padding-left: 1em; padding-right: 1em; text-align: center; vertical-align: top\">0</td>\n",
       "        <td style=\"padding-left: 1em; padding-right: 1em; text-align: center; vertical-align: top\">1</td>\n",
       "        <td style=\"padding-left: 1em; padding-right: 1em; text-align: center; vertical-align: top\">1</td>\n",
       "        <td style=\"padding-left: 1em; padding-right: 1em; text-align: center; vertical-align: top\">1</td>\n",
       "        <td style=\"padding-left: 1em; padding-right: 1em; text-align: center; vertical-align: top\">1</td>\n",
       "        <td style=\"padding-left: 1em; padding-right: 1em; text-align: center; vertical-align: top\">1</td>\n",
       "        <td style=\"padding-left: 1em; padding-right: 1em; text-align: center; vertical-align: top\">0</td>\n",
       "        <td style=\"padding-left: 1em; padding-right: 1em; text-align: center; vertical-align: top\">0</td>\n",
       "        <td style=\"padding-left: 1em; padding-right: 1em; text-align: center; vertical-align: top\">0</td>\n",
       "        <td style=\"padding-left: 1em; padding-right: 1em; text-align: center; vertical-align: top\">0</td>\n",
       "        <td style=\"padding-left: 1em; padding-right: 1em; text-align: center; vertical-align: top\">1</td>\n",
       "        <td style=\"padding-left: 1em; padding-right: 1em; text-align: center; vertical-align: top\">1</td>\n",
       "        <td style=\"padding-left: 1em; padding-right: 1em; text-align: center; vertical-align: top\">1</td>\n",
       "        <td style=\"padding-left: 1em; padding-right: 1em; text-align: center; vertical-align: top\">1</td>\n",
       "        <td style=\"padding-left: 1em; padding-right: 1em; text-align: center; vertical-align: top\">0</td>\n",
       "        <td style=\"padding-left: 1em; padding-right: 1em; text-align: center; vertical-align: top\">0</td>\n",
       "        <td style=\"padding-left: 1em; padding-right: 1em; text-align: center; vertical-align: top\">0</td>\n",
       "        <td style=\"padding-left: 1em; padding-right: 1em; text-align: center; vertical-align: top\">0</td>\n",
       "        <td style=\"padding-left: 1em; padding-right: 1em; text-align: center; vertical-align: top\">0</td>\n",
       "        <td style=\"padding-left: 1em; padding-right: 1em; text-align: center; vertical-align: top\">0</td>\n",
       "        <td style=\"padding-left: 1em; padding-right: 1em; text-align: center; vertical-align: top\">0</td>\n",
       "    </tr>\n",
       "    <tr>\n",
       "        <td style=\"padding-left: 1em; padding-right: 1em; text-align: center; vertical-align: top\">0</td>\n",
       "        <td style=\"padding-left: 1em; padding-right: 1em; text-align: center; vertical-align: top\">0</td>\n",
       "        <td style=\"padding-left: 1em; padding-right: 1em; text-align: center; vertical-align: top\">1</td>\n",
       "        <td style=\"padding-left: 1em; padding-right: 1em; text-align: center; vertical-align: top\">1</td>\n",
       "        <td style=\"padding-left: 1em; padding-right: 1em; text-align: center; vertical-align: top\">1</td>\n",
       "        <td style=\"padding-left: 1em; padding-right: 1em; text-align: center; vertical-align: top\">1</td>\n",
       "        <td style=\"padding-left: 1em; padding-right: 1em; text-align: center; vertical-align: top\">1</td>\n",
       "        <td style=\"padding-left: 1em; padding-right: 1em; text-align: center; vertical-align: top\">0</td>\n",
       "        <td style=\"padding-left: 1em; padding-right: 1em; text-align: center; vertical-align: top\">0</td>\n",
       "        <td style=\"padding-left: 1em; padding-right: 1em; text-align: center; vertical-align: top\">0</td>\n",
       "        <td style=\"padding-left: 1em; padding-right: 1em; text-align: center; vertical-align: top\">0</td>\n",
       "        <td style=\"padding-left: 1em; padding-right: 1em; text-align: center; vertical-align: top\">1</td>\n",
       "        <td style=\"padding-left: 1em; padding-right: 1em; text-align: center; vertical-align: top\">1</td>\n",
       "        <td style=\"padding-left: 1em; padding-right: 1em; text-align: center; vertical-align: top\">0</td>\n",
       "        <td style=\"padding-left: 1em; padding-right: 1em; text-align: center; vertical-align: top\">0</td>\n",
       "        <td style=\"padding-left: 1em; padding-right: 1em; text-align: center; vertical-align: top\">1</td>\n",
       "        <td style=\"padding-left: 1em; padding-right: 1em; text-align: center; vertical-align: top\">0</td>\n",
       "        <td style=\"padding-left: 1em; padding-right: 1em; text-align: center; vertical-align: top\">0</td>\n",
       "        <td style=\"padding-left: 1em; padding-right: 1em; text-align: center; vertical-align: top\">0</td>\n",
       "        <td style=\"padding-left: 1em; padding-right: 1em; text-align: center; vertical-align: top\">0</td>\n",
       "        <td style=\"padding-left: 1em; padding-right: 1em; text-align: center; vertical-align: top\">0</td>\n",
       "        <td style=\"padding-left: 1em; padding-right: 1em; text-align: center; vertical-align: top\">0</td>\n",
       "    </tr>\n",
       "    <tr>\n",
       "        <td style=\"padding-left: 1em; padding-right: 1em; text-align: center; vertical-align: top\">1</td>\n",
       "        <td style=\"padding-left: 1em; padding-right: 1em; text-align: center; vertical-align: top\">0</td>\n",
       "        <td style=\"padding-left: 1em; padding-right: 1em; text-align: center; vertical-align: top\">1</td>\n",
       "        <td style=\"padding-left: 1em; padding-right: 1em; text-align: center; vertical-align: top\">1</td>\n",
       "        <td style=\"padding-left: 1em; padding-right: 1em; text-align: center; vertical-align: top\">1</td>\n",
       "        <td style=\"padding-left: 1em; padding-right: 1em; text-align: center; vertical-align: top\">1</td>\n",
       "        <td style=\"padding-left: 1em; padding-right: 1em; text-align: center; vertical-align: top\">1</td>\n",
       "        <td style=\"padding-left: 1em; padding-right: 1em; text-align: center; vertical-align: top\">1</td>\n",
       "        <td style=\"padding-left: 1em; padding-right: 1em; text-align: center; vertical-align: top\">0</td>\n",
       "        <td style=\"padding-left: 1em; padding-right: 1em; text-align: center; vertical-align: top\">1</td>\n",
       "        <td style=\"padding-left: 1em; padding-right: 1em; text-align: center; vertical-align: top\">0</td>\n",
       "        <td style=\"padding-left: 1em; padding-right: 1em; text-align: center; vertical-align: top\">1</td>\n",
       "        <td style=\"padding-left: 1em; padding-right: 1em; text-align: center; vertical-align: top\">1</td>\n",
       "        <td style=\"padding-left: 1em; padding-right: 1em; text-align: center; vertical-align: top\">0</td>\n",
       "        <td style=\"padding-left: 1em; padding-right: 1em; text-align: center; vertical-align: top\">0</td>\n",
       "        <td style=\"padding-left: 1em; padding-right: 1em; text-align: center; vertical-align: top\">1</td>\n",
       "        <td style=\"padding-left: 1em; padding-right: 1em; text-align: center; vertical-align: top\">0</td>\n",
       "        <td style=\"padding-left: 1em; padding-right: 1em; text-align: center; vertical-align: top\">0</td>\n",
       "        <td style=\"padding-left: 1em; padding-right: 1em; text-align: center; vertical-align: top\">0</td>\n",
       "        <td style=\"padding-left: 1em; padding-right: 1em; text-align: center; vertical-align: top\">0</td>\n",
       "        <td style=\"padding-left: 1em; padding-right: 1em; text-align: center; vertical-align: top\">0</td>\n",
       "        <td style=\"padding-left: 1em; padding-right: 1em; text-align: center; vertical-align: top\">0</td>\n",
       "    </tr>\n",
       "    <tr>\n",
       "        <td style=\"padding-left: 1em; padding-right: 1em; text-align: center; vertical-align: top\">1</td>\n",
       "        <td style=\"padding-left: 1em; padding-right: 1em; text-align: center; vertical-align: top\">0</td>\n",
       "        <td style=\"padding-left: 1em; padding-right: 1em; text-align: center; vertical-align: top\">1</td>\n",
       "        <td style=\"padding-left: 1em; padding-right: 1em; text-align: center; vertical-align: top\">1</td>\n",
       "        <td style=\"padding-left: 1em; padding-right: 1em; text-align: center; vertical-align: top\">1</td>\n",
       "        <td style=\"padding-left: 1em; padding-right: 1em; text-align: center; vertical-align: top\">1</td>\n",
       "        <td style=\"padding-left: 1em; padding-right: 1em; text-align: center; vertical-align: top\">1</td>\n",
       "        <td style=\"padding-left: 1em; padding-right: 1em; text-align: center; vertical-align: top\">1</td>\n",
       "        <td style=\"padding-left: 1em; padding-right: 1em; text-align: center; vertical-align: top\">0</td>\n",
       "        <td style=\"padding-left: 1em; padding-right: 1em; text-align: center; vertical-align: top\">1</td>\n",
       "        <td style=\"padding-left: 1em; padding-right: 1em; text-align: center; vertical-align: top\">0</td>\n",
       "        <td style=\"padding-left: 1em; padding-right: 1em; text-align: center; vertical-align: top\">1</td>\n",
       "        <td style=\"padding-left: 1em; padding-right: 1em; text-align: center; vertical-align: top\">1</td>\n",
       "        <td style=\"padding-left: 1em; padding-right: 1em; text-align: center; vertical-align: top\">0</td>\n",
       "        <td style=\"padding-left: 1em; padding-right: 1em; text-align: center; vertical-align: top\">0</td>\n",
       "        <td style=\"padding-left: 1em; padding-right: 1em; text-align: center; vertical-align: top\">1</td>\n",
       "        <td style=\"padding-left: 1em; padding-right: 1em; text-align: center; vertical-align: top\">0</td>\n",
       "        <td style=\"padding-left: 1em; padding-right: 1em; text-align: center; vertical-align: top\">0</td>\n",
       "        <td style=\"padding-left: 1em; padding-right: 1em; text-align: center; vertical-align: top\">0</td>\n",
       "        <td style=\"padding-left: 1em; padding-right: 1em; text-align: center; vertical-align: top\">0</td>\n",
       "        <td style=\"padding-left: 1em; padding-right: 1em; text-align: center; vertical-align: top\">0</td>\n",
       "        <td style=\"padding-left: 1em; padding-right: 1em; text-align: center; vertical-align: top\">0</td>\n",
       "    </tr>\n",
       "    <tr>\n",
       "        <td style=\"padding-left: 1em; padding-right: 1em; text-align: center; vertical-align: top\">0</td>\n",
       "        <td style=\"padding-left: 1em; padding-right: 1em; text-align: center; vertical-align: top\">0</td>\n",
       "        <td style=\"padding-left: 1em; padding-right: 1em; text-align: center; vertical-align: top\">1</td>\n",
       "        <td style=\"padding-left: 1em; padding-right: 1em; text-align: center; vertical-align: top\">1</td>\n",
       "        <td style=\"padding-left: 1em; padding-right: 1em; text-align: center; vertical-align: top\">1</td>\n",
       "        <td style=\"padding-left: 1em; padding-right: 1em; text-align: center; vertical-align: top\">1</td>\n",
       "        <td style=\"padding-left: 1em; padding-right: 1em; text-align: center; vertical-align: top\">1</td>\n",
       "        <td style=\"padding-left: 1em; padding-right: 1em; text-align: center; vertical-align: top\">0</td>\n",
       "        <td style=\"padding-left: 1em; padding-right: 1em; text-align: center; vertical-align: top\">0</td>\n",
       "        <td style=\"padding-left: 1em; padding-right: 1em; text-align: center; vertical-align: top\">0</td>\n",
       "        <td style=\"padding-left: 1em; padding-right: 1em; text-align: center; vertical-align: top\">0</td>\n",
       "        <td style=\"padding-left: 1em; padding-right: 1em; text-align: center; vertical-align: top\">0</td>\n",
       "        <td style=\"padding-left: 1em; padding-right: 1em; text-align: center; vertical-align: top\">1</td>\n",
       "        <td style=\"padding-left: 1em; padding-right: 1em; text-align: center; vertical-align: top\">0</td>\n",
       "        <td style=\"padding-left: 1em; padding-right: 1em; text-align: center; vertical-align: top\">0</td>\n",
       "        <td style=\"padding-left: 1em; padding-right: 1em; text-align: center; vertical-align: top\">0</td>\n",
       "        <td style=\"padding-left: 1em; padding-right: 1em; text-align: center; vertical-align: top\">0</td>\n",
       "        <td style=\"padding-left: 1em; padding-right: 1em; text-align: center; vertical-align: top\">0</td>\n",
       "        <td style=\"padding-left: 1em; padding-right: 1em; text-align: center; vertical-align: top\">0</td>\n",
       "        <td style=\"padding-left: 1em; padding-right: 1em; text-align: center; vertical-align: top\">0</td>\n",
       "        <td style=\"padding-left: 1em; padding-right: 1em; text-align: center; vertical-align: top\">0</td>\n",
       "        <td style=\"padding-left: 1em; padding-right: 1em; text-align: center; vertical-align: top\">0</td>\n",
       "    </tr>\n",
       "    <tr>\n",
       "        <td style=\"padding-left: 1em; padding-right: 1em; text-align: center; vertical-align: top\">1</td>\n",
       "        <td style=\"padding-left: 1em; padding-right: 1em; text-align: center; vertical-align: top\">0</td>\n",
       "        <td style=\"padding-left: 1em; padding-right: 1em; text-align: center; vertical-align: top\">1</td>\n",
       "        <td style=\"padding-left: 1em; padding-right: 1em; text-align: center; vertical-align: top\">1</td>\n",
       "        <td style=\"padding-left: 1em; padding-right: 1em; text-align: center; vertical-align: top\">1</td>\n",
       "        <td style=\"padding-left: 1em; padding-right: 1em; text-align: center; vertical-align: top\">1</td>\n",
       "        <td style=\"padding-left: 1em; padding-right: 1em; text-align: center; vertical-align: top\">1</td>\n",
       "        <td style=\"padding-left: 1em; padding-right: 1em; text-align: center; vertical-align: top\">1</td>\n",
       "        <td style=\"padding-left: 1em; padding-right: 1em; text-align: center; vertical-align: top\">0</td>\n",
       "        <td style=\"padding-left: 1em; padding-right: 1em; text-align: center; vertical-align: top\">1</td>\n",
       "        <td style=\"padding-left: 1em; padding-right: 1em; text-align: center; vertical-align: top\">0</td>\n",
       "        <td style=\"padding-left: 1em; padding-right: 1em; text-align: center; vertical-align: top\">1</td>\n",
       "        <td style=\"padding-left: 1em; padding-right: 1em; text-align: center; vertical-align: top\">1</td>\n",
       "        <td style=\"padding-left: 1em; padding-right: 1em; text-align: center; vertical-align: top\">1</td>\n",
       "        <td style=\"padding-left: 1em; padding-right: 1em; text-align: center; vertical-align: top\">1</td>\n",
       "        <td style=\"padding-left: 1em; padding-right: 1em; text-align: center; vertical-align: top\">1</td>\n",
       "        <td style=\"padding-left: 1em; padding-right: 1em; text-align: center; vertical-align: top\">0</td>\n",
       "        <td style=\"padding-left: 1em; padding-right: 1em; text-align: center; vertical-align: top\">0</td>\n",
       "        <td style=\"padding-left: 1em; padding-right: 1em; text-align: center; vertical-align: top\">0</td>\n",
       "        <td style=\"padding-left: 1em; padding-right: 1em; text-align: center; vertical-align: top\">0</td>\n",
       "        <td style=\"padding-left: 1em; padding-right: 1em; text-align: center; vertical-align: top\">0</td>\n",
       "        <td style=\"padding-left: 1em; padding-right: 1em; text-align: center; vertical-align: top\">0</td>\n",
       "    </tr>\n",
       "    <tr>\n",
       "        <td style=\"padding-left: 1em; padding-right: 1em; text-align: center; vertical-align: top\">1</td>\n",
       "        <td style=\"padding-left: 1em; padding-right: 1em; text-align: center; vertical-align: top\">0</td>\n",
       "        <td style=\"padding-left: 1em; padding-right: 1em; text-align: center; vertical-align: top\">1</td>\n",
       "        <td style=\"padding-left: 1em; padding-right: 1em; text-align: center; vertical-align: top\">1</td>\n",
       "        <td style=\"padding-left: 1em; padding-right: 1em; text-align: center; vertical-align: top\">1</td>\n",
       "        <td style=\"padding-left: 1em; padding-right: 1em; text-align: center; vertical-align: top\">1</td>\n",
       "        <td style=\"padding-left: 1em; padding-right: 1em; text-align: center; vertical-align: top\">1</td>\n",
       "        <td style=\"padding-left: 1em; padding-right: 1em; text-align: center; vertical-align: top\">1</td>\n",
       "        <td style=\"padding-left: 1em; padding-right: 1em; text-align: center; vertical-align: top\">0</td>\n",
       "        <td style=\"padding-left: 1em; padding-right: 1em; text-align: center; vertical-align: top\">1</td>\n",
       "        <td style=\"padding-left: 1em; padding-right: 1em; text-align: center; vertical-align: top\">0</td>\n",
       "        <td style=\"padding-left: 1em; padding-right: 1em; text-align: center; vertical-align: top\">1</td>\n",
       "        <td style=\"padding-left: 1em; padding-right: 1em; text-align: center; vertical-align: top\">1</td>\n",
       "        <td style=\"padding-left: 1em; padding-right: 1em; text-align: center; vertical-align: top\">0</td>\n",
       "        <td style=\"padding-left: 1em; padding-right: 1em; text-align: center; vertical-align: top\">0</td>\n",
       "        <td style=\"padding-left: 1em; padding-right: 1em; text-align: center; vertical-align: top\">1</td>\n",
       "        <td style=\"padding-left: 1em; padding-right: 1em; text-align: center; vertical-align: top\">0</td>\n",
       "        <td style=\"padding-left: 1em; padding-right: 1em; text-align: center; vertical-align: top\">0</td>\n",
       "        <td style=\"padding-left: 1em; padding-right: 1em; text-align: center; vertical-align: top\">0</td>\n",
       "        <td style=\"padding-left: 1em; padding-right: 1em; text-align: center; vertical-align: top\">0</td>\n",
       "        <td style=\"padding-left: 1em; padding-right: 1em; text-align: center; vertical-align: top\">0</td>\n",
       "        <td style=\"padding-left: 1em; padding-right: 1em; text-align: center; vertical-align: top\">0</td>\n",
       "    </tr>\n",
       "    <tr>\n",
       "        <td style=\"padding-left: 1em; padding-right: 1em; text-align: center; vertical-align: top\">0</td>\n",
       "        <td style=\"padding-left: 1em; padding-right: 1em; text-align: center; vertical-align: top\">0</td>\n",
       "        <td style=\"padding-left: 1em; padding-right: 1em; text-align: center; vertical-align: top\">1</td>\n",
       "        <td style=\"padding-left: 1em; padding-right: 1em; text-align: center; vertical-align: top\">1</td>\n",
       "        <td style=\"padding-left: 1em; padding-right: 1em; text-align: center; vertical-align: top\">1</td>\n",
       "        <td style=\"padding-left: 1em; padding-right: 1em; text-align: center; vertical-align: top\">1</td>\n",
       "        <td style=\"padding-left: 1em; padding-right: 1em; text-align: center; vertical-align: top\">1</td>\n",
       "        <td style=\"padding-left: 1em; padding-right: 1em; text-align: center; vertical-align: top\">0</td>\n",
       "        <td style=\"padding-left: 1em; padding-right: 1em; text-align: center; vertical-align: top\">0</td>\n",
       "        <td style=\"padding-left: 1em; padding-right: 1em; text-align: center; vertical-align: top\">0</td>\n",
       "        <td style=\"padding-left: 1em; padding-right: 1em; text-align: center; vertical-align: top\">1</td>\n",
       "        <td style=\"padding-left: 1em; padding-right: 1em; text-align: center; vertical-align: top\">1</td>\n",
       "        <td style=\"padding-left: 1em; padding-right: 1em; text-align: center; vertical-align: top\">1</td>\n",
       "        <td style=\"padding-left: 1em; padding-right: 1em; text-align: center; vertical-align: top\">1</td>\n",
       "        <td style=\"padding-left: 1em; padding-right: 1em; text-align: center; vertical-align: top\">1</td>\n",
       "        <td style=\"padding-left: 1em; padding-right: 1em; text-align: center; vertical-align: top\">1</td>\n",
       "        <td style=\"padding-left: 1em; padding-right: 1em; text-align: center; vertical-align: top\">0</td>\n",
       "        <td style=\"padding-left: 1em; padding-right: 1em; text-align: center; vertical-align: top\">0</td>\n",
       "        <td style=\"padding-left: 1em; padding-right: 1em; text-align: center; vertical-align: top\">0</td>\n",
       "        <td style=\"padding-left: 1em; padding-right: 1em; text-align: center; vertical-align: top\">0</td>\n",
       "        <td style=\"padding-left: 1em; padding-right: 1em; text-align: center; vertical-align: top\">0</td>\n",
       "        <td style=\"padding-left: 1em; padding-right: 1em; text-align: center; vertical-align: top\">0</td>\n",
       "    </tr>\n",
       "    <tr>\n",
       "        <td style=\"padding-left: 1em; padding-right: 1em; text-align: center; vertical-align: top\">1</td>\n",
       "        <td style=\"padding-left: 1em; padding-right: 1em; text-align: center; vertical-align: top\">0</td>\n",
       "        <td style=\"padding-left: 1em; padding-right: 1em; text-align: center; vertical-align: top\">1</td>\n",
       "        <td style=\"padding-left: 1em; padding-right: 1em; text-align: center; vertical-align: top\">1</td>\n",
       "        <td style=\"padding-left: 1em; padding-right: 1em; text-align: center; vertical-align: top\">1</td>\n",
       "        <td style=\"padding-left: 1em; padding-right: 1em; text-align: center; vertical-align: top\">1</td>\n",
       "        <td style=\"padding-left: 1em; padding-right: 1em; text-align: center; vertical-align: top\">1</td>\n",
       "        <td style=\"padding-left: 1em; padding-right: 1em; text-align: center; vertical-align: top\">1</td>\n",
       "        <td style=\"padding-left: 1em; padding-right: 1em; text-align: center; vertical-align: top\">0</td>\n",
       "        <td style=\"padding-left: 1em; padding-right: 1em; text-align: center; vertical-align: top\">1</td>\n",
       "        <td style=\"padding-left: 1em; padding-right: 1em; text-align: center; vertical-align: top\">0</td>\n",
       "        <td style=\"padding-left: 1em; padding-right: 1em; text-align: center; vertical-align: top\">1</td>\n",
       "        <td style=\"padding-left: 1em; padding-right: 1em; text-align: center; vertical-align: top\">1</td>\n",
       "        <td style=\"padding-left: 1em; padding-right: 1em; text-align: center; vertical-align: top\">0</td>\n",
       "        <td style=\"padding-left: 1em; padding-right: 1em; text-align: center; vertical-align: top\">0</td>\n",
       "        <td style=\"padding-left: 1em; padding-right: 1em; text-align: center; vertical-align: top\">1</td>\n",
       "        <td style=\"padding-left: 1em; padding-right: 1em; text-align: center; vertical-align: top\">0</td>\n",
       "        <td style=\"padding-left: 1em; padding-right: 1em; text-align: center; vertical-align: top\">0</td>\n",
       "        <td style=\"padding-left: 1em; padding-right: 1em; text-align: center; vertical-align: top\">0</td>\n",
       "        <td style=\"padding-left: 1em; padding-right: 1em; text-align: center; vertical-align: top\">0</td>\n",
       "        <td style=\"padding-left: 1em; padding-right: 1em; text-align: center; vertical-align: top\">0</td>\n",
       "        <td style=\"padding-left: 1em; padding-right: 1em; text-align: center; vertical-align: top\">0</td>\n",
       "    </tr>\n",
       "</table>\n",
       "<table frame=\"box\" rules=\"cols\">\n",
       "    <tr>\n",
       "        <th style=\"padding-left: 1em; padding-right: 1em; text-align: center\">X23</th>\n",
       "        <th style=\"padding-left: 1em; padding-right: 1em; text-align: center\">X24</th>\n",
       "        <th style=\"padding-left: 1em; padding-right: 1em; text-align: center\">X25</th>\n",
       "        <th style=\"padding-left: 1em; padding-right: 1em; text-align: center\">X26</th>\n",
       "        <th style=\"padding-left: 1em; padding-right: 1em; text-align: center\">X27</th>\n",
       "        <th style=\"padding-left: 1em; padding-right: 1em; text-align: center\">X28</th>\n",
       "        <th style=\"padding-left: 1em; padding-right: 1em; text-align: center\">X29</th>\n",
       "        <th style=\"padding-left: 1em; padding-right: 1em; text-align: center\">X30</th>\n",
       "        <th style=\"padding-left: 1em; padding-right: 1em; text-align: center\">X31</th>\n",
       "        <th style=\"padding-left: 1em; padding-right: 1em; text-align: center\">X32</th>\n",
       "        <th style=\"padding-left: 1em; padding-right: 1em; text-align: center\">X33</th>\n",
       "        <th style=\"padding-left: 1em; padding-right: 1em; text-align: center\">X34</th>\n",
       "        <th style=\"padding-left: 1em; padding-right: 1em; text-align: center\">X35</th>\n",
       "        <th style=\"padding-left: 1em; padding-right: 1em; text-align: center\">X36</th>\n",
       "        <th style=\"padding-left: 1em; padding-right: 1em; text-align: center\">X37</th>\n",
       "        <th style=\"padding-left: 1em; padding-right: 1em; text-align: center\">X38</th>\n",
       "        <th style=\"padding-left: 1em; padding-right: 1em; text-align: center\">X39</th>\n",
       "        <th style=\"padding-left: 1em; padding-right: 1em; text-align: center\">X40</th>\n",
       "        <th style=\"padding-left: 1em; padding-right: 1em; text-align: center\">...</th>\n",
       "    </tr>\n",
       "    <tr>\n",
       "        <td style=\"padding-left: 1em; padding-right: 1em; text-align: center; vertical-align: top\">0</td>\n",
       "        <td style=\"padding-left: 1em; padding-right: 1em; text-align: center; vertical-align: top\">1</td>\n",
       "        <td style=\"padding-left: 1em; padding-right: 1em; text-align: center; vertical-align: top\">0</td>\n",
       "        <td style=\"padding-left: 1em; padding-right: 1em; text-align: center; vertical-align: top\">0</td>\n",
       "        <td style=\"padding-left: 1em; padding-right: 1em; text-align: center; vertical-align: top\">0</td>\n",
       "        <td style=\"padding-left: 1em; padding-right: 1em; text-align: center; vertical-align: top\">1</td>\n",
       "        <td style=\"padding-left: 1em; padding-right: 1em; text-align: center; vertical-align: top\">0</td>\n",
       "        <td style=\"padding-left: 1em; padding-right: 1em; text-align: center; vertical-align: top\">0</td>\n",
       "        <td style=\"padding-left: 1em; padding-right: 1em; text-align: center; vertical-align: top\">0</td>\n",
       "        <td style=\"padding-left: 1em; padding-right: 1em; text-align: center; vertical-align: top\">0</td>\n",
       "        <td style=\"padding-left: 1em; padding-right: 1em; text-align: center; vertical-align: top\">0</td>\n",
       "        <td style=\"padding-left: 1em; padding-right: 1em; text-align: center; vertical-align: top\">1</td>\n",
       "        <td style=\"padding-left: 1em; padding-right: 1em; text-align: center; vertical-align: top\">0</td>\n",
       "        <td style=\"padding-left: 1em; padding-right: 1em; text-align: center; vertical-align: top\">0</td>\n",
       "        <td style=\"padding-left: 1em; padding-right: 1em; text-align: center; vertical-align: top\">0</td>\n",
       "        <td style=\"padding-left: 1em; padding-right: 1em; text-align: center; vertical-align: top\">0</td>\n",
       "        <td style=\"padding-left: 1em; padding-right: 1em; text-align: center; vertical-align: top\">0</td>\n",
       "        <td style=\"padding-left: 1em; padding-right: 1em; text-align: center; vertical-align: top\">0</td>\n",
       "        <td style=\"padding-left: 1em; padding-right: 1em; text-align: center; vertical-align: top\">...</td>\n",
       "    </tr>\n",
       "    <tr>\n",
       "        <td style=\"padding-left: 1em; padding-right: 1em; text-align: center; vertical-align: top\">0</td>\n",
       "        <td style=\"padding-left: 1em; padding-right: 1em; text-align: center; vertical-align: top\">1</td>\n",
       "        <td style=\"padding-left: 1em; padding-right: 1em; text-align: center; vertical-align: top\">0</td>\n",
       "        <td style=\"padding-left: 1em; padding-right: 1em; text-align: center; vertical-align: top\">0</td>\n",
       "        <td style=\"padding-left: 1em; padding-right: 1em; text-align: center; vertical-align: top\">0</td>\n",
       "        <td style=\"padding-left: 1em; padding-right: 1em; text-align: center; vertical-align: top\">0</td>\n",
       "        <td style=\"padding-left: 1em; padding-right: 1em; text-align: center; vertical-align: top\">0</td>\n",
       "        <td style=\"padding-left: 1em; padding-right: 1em; text-align: center; vertical-align: top\">1</td>\n",
       "        <td style=\"padding-left: 1em; padding-right: 1em; text-align: center; vertical-align: top\">1</td>\n",
       "        <td style=\"padding-left: 1em; padding-right: 1em; text-align: center; vertical-align: top\">0</td>\n",
       "        <td style=\"padding-left: 1em; padding-right: 1em; text-align: center; vertical-align: top\">0</td>\n",
       "        <td style=\"padding-left: 1em; padding-right: 1em; text-align: center; vertical-align: top\">1</td>\n",
       "        <td style=\"padding-left: 1em; padding-right: 1em; text-align: center; vertical-align: top\">0</td>\n",
       "        <td style=\"padding-left: 1em; padding-right: 1em; text-align: center; vertical-align: top\">0</td>\n",
       "        <td style=\"padding-left: 1em; padding-right: 1em; text-align: center; vertical-align: top\">0</td>\n",
       "        <td style=\"padding-left: 1em; padding-right: 1em; text-align: center; vertical-align: top\">0</td>\n",
       "        <td style=\"padding-left: 1em; padding-right: 1em; text-align: center; vertical-align: top\">0</td>\n",
       "        <td style=\"padding-left: 1em; padding-right: 1em; text-align: center; vertical-align: top\">0</td>\n",
       "        <td style=\"padding-left: 1em; padding-right: 1em; text-align: center; vertical-align: top\">...</td>\n",
       "    </tr>\n",
       "    <tr>\n",
       "        <td style=\"padding-left: 1em; padding-right: 1em; text-align: center; vertical-align: top\">0</td>\n",
       "        <td style=\"padding-left: 1em; padding-right: 1em; text-align: center; vertical-align: top\">1</td>\n",
       "        <td style=\"padding-left: 1em; padding-right: 1em; text-align: center; vertical-align: top\">0</td>\n",
       "        <td style=\"padding-left: 1em; padding-right: 1em; text-align: center; vertical-align: top\">1</td>\n",
       "        <td style=\"padding-left: 1em; padding-right: 1em; text-align: center; vertical-align: top\">0</td>\n",
       "        <td style=\"padding-left: 1em; padding-right: 1em; text-align: center; vertical-align: top\">0</td>\n",
       "        <td style=\"padding-left: 1em; padding-right: 1em; text-align: center; vertical-align: top\">1</td>\n",
       "        <td style=\"padding-left: 1em; padding-right: 1em; text-align: center; vertical-align: top\">1</td>\n",
       "        <td style=\"padding-left: 1em; padding-right: 1em; text-align: center; vertical-align: top\">0</td>\n",
       "        <td style=\"padding-left: 1em; padding-right: 1em; text-align: center; vertical-align: top\">0</td>\n",
       "        <td style=\"padding-left: 1em; padding-right: 1em; text-align: center; vertical-align: top\">0</td>\n",
       "        <td style=\"padding-left: 1em; padding-right: 1em; text-align: center; vertical-align: top\">1</td>\n",
       "        <td style=\"padding-left: 1em; padding-right: 1em; text-align: center; vertical-align: top\">0</td>\n",
       "        <td style=\"padding-left: 1em; padding-right: 1em; text-align: center; vertical-align: top\">1</td>\n",
       "        <td style=\"padding-left: 1em; padding-right: 1em; text-align: center; vertical-align: top\">0</td>\n",
       "        <td style=\"padding-left: 1em; padding-right: 1em; text-align: center; vertical-align: top\">0</td>\n",
       "        <td style=\"padding-left: 1em; padding-right: 1em; text-align: center; vertical-align: top\">0</td>\n",
       "        <td style=\"padding-left: 1em; padding-right: 1em; text-align: center; vertical-align: top\">0</td>\n",
       "        <td style=\"padding-left: 1em; padding-right: 1em; text-align: center; vertical-align: top\">...</td>\n",
       "    </tr>\n",
       "    <tr>\n",
       "        <td style=\"padding-left: 1em; padding-right: 1em; text-align: center; vertical-align: top\">0</td>\n",
       "        <td style=\"padding-left: 1em; padding-right: 1em; text-align: center; vertical-align: top\">1</td>\n",
       "        <td style=\"padding-left: 1em; padding-right: 1em; text-align: center; vertical-align: top\">0</td>\n",
       "        <td style=\"padding-left: 1em; padding-right: 1em; text-align: center; vertical-align: top\">0</td>\n",
       "        <td style=\"padding-left: 1em; padding-right: 1em; text-align: center; vertical-align: top\">1</td>\n",
       "        <td style=\"padding-left: 1em; padding-right: 1em; text-align: center; vertical-align: top\">0</td>\n",
       "        <td style=\"padding-left: 1em; padding-right: 1em; text-align: center; vertical-align: top\">1</td>\n",
       "        <td style=\"padding-left: 1em; padding-right: 1em; text-align: center; vertical-align: top\">1</td>\n",
       "        <td style=\"padding-left: 1em; padding-right: 1em; text-align: center; vertical-align: top\">1</td>\n",
       "        <td style=\"padding-left: 1em; padding-right: 1em; text-align: center; vertical-align: top\">0</td>\n",
       "        <td style=\"padding-left: 1em; padding-right: 1em; text-align: center; vertical-align: top\">0</td>\n",
       "        <td style=\"padding-left: 1em; padding-right: 1em; text-align: center; vertical-align: top\">1</td>\n",
       "        <td style=\"padding-left: 1em; padding-right: 1em; text-align: center; vertical-align: top\">0</td>\n",
       "        <td style=\"padding-left: 1em; padding-right: 1em; text-align: center; vertical-align: top\">0</td>\n",
       "        <td style=\"padding-left: 1em; padding-right: 1em; text-align: center; vertical-align: top\">0</td>\n",
       "        <td style=\"padding-left: 1em; padding-right: 1em; text-align: center; vertical-align: top\">0</td>\n",
       "        <td style=\"padding-left: 1em; padding-right: 1em; text-align: center; vertical-align: top\">0</td>\n",
       "        <td style=\"padding-left: 1em; padding-right: 1em; text-align: center; vertical-align: top\">0</td>\n",
       "        <td style=\"padding-left: 1em; padding-right: 1em; text-align: center; vertical-align: top\">...</td>\n",
       "    </tr>\n",
       "    <tr>\n",
       "        <td style=\"padding-left: 1em; padding-right: 1em; text-align: center; vertical-align: top\">0</td>\n",
       "        <td style=\"padding-left: 1em; padding-right: 1em; text-align: center; vertical-align: top\">1</td>\n",
       "        <td style=\"padding-left: 1em; padding-right: 1em; text-align: center; vertical-align: top\">0</td>\n",
       "        <td style=\"padding-left: 1em; padding-right: 1em; text-align: center; vertical-align: top\">0</td>\n",
       "        <td style=\"padding-left: 1em; padding-right: 1em; text-align: center; vertical-align: top\">0</td>\n",
       "        <td style=\"padding-left: 1em; padding-right: 1em; text-align: center; vertical-align: top\">0</td>\n",
       "        <td style=\"padding-left: 1em; padding-right: 1em; text-align: center; vertical-align: top\">1</td>\n",
       "        <td style=\"padding-left: 1em; padding-right: 1em; text-align: center; vertical-align: top\">1</td>\n",
       "        <td style=\"padding-left: 1em; padding-right: 1em; text-align: center; vertical-align: top\">1</td>\n",
       "        <td style=\"padding-left: 1em; padding-right: 1em; text-align: center; vertical-align: top\">0</td>\n",
       "        <td style=\"padding-left: 1em; padding-right: 1em; text-align: center; vertical-align: top\">0</td>\n",
       "        <td style=\"padding-left: 1em; padding-right: 1em; text-align: center; vertical-align: top\">1</td>\n",
       "        <td style=\"padding-left: 1em; padding-right: 1em; text-align: center; vertical-align: top\">0</td>\n",
       "        <td style=\"padding-left: 1em; padding-right: 1em; text-align: center; vertical-align: top\">0</td>\n",
       "        <td style=\"padding-left: 1em; padding-right: 1em; text-align: center; vertical-align: top\">0</td>\n",
       "        <td style=\"padding-left: 1em; padding-right: 1em; text-align: center; vertical-align: top\">0</td>\n",
       "        <td style=\"padding-left: 1em; padding-right: 1em; text-align: center; vertical-align: top\">0</td>\n",
       "        <td style=\"padding-left: 1em; padding-right: 1em; text-align: center; vertical-align: top\">0</td>\n",
       "        <td style=\"padding-left: 1em; padding-right: 1em; text-align: center; vertical-align: top\">...</td>\n",
       "    </tr>\n",
       "    <tr>\n",
       "        <td style=\"padding-left: 1em; padding-right: 1em; text-align: center; vertical-align: top\">0</td>\n",
       "        <td style=\"padding-left: 1em; padding-right: 1em; text-align: center; vertical-align: top\">1</td>\n",
       "        <td style=\"padding-left: 1em; padding-right: 1em; text-align: center; vertical-align: top\">0</td>\n",
       "        <td style=\"padding-left: 1em; padding-right: 1em; text-align: center; vertical-align: top\">0</td>\n",
       "        <td style=\"padding-left: 1em; padding-right: 1em; text-align: center; vertical-align: top\">0</td>\n",
       "        <td style=\"padding-left: 1em; padding-right: 1em; text-align: center; vertical-align: top\">0</td>\n",
       "        <td style=\"padding-left: 1em; padding-right: 1em; text-align: center; vertical-align: top\">0</td>\n",
       "        <td style=\"padding-left: 1em; padding-right: 1em; text-align: center; vertical-align: top\">0</td>\n",
       "        <td style=\"padding-left: 1em; padding-right: 1em; text-align: center; vertical-align: top\">0</td>\n",
       "        <td style=\"padding-left: 1em; padding-right: 1em; text-align: center; vertical-align: top\">1</td>\n",
       "        <td style=\"padding-left: 1em; padding-right: 1em; text-align: center; vertical-align: top\">0</td>\n",
       "        <td style=\"padding-left: 1em; padding-right: 1em; text-align: center; vertical-align: top\">1</td>\n",
       "        <td style=\"padding-left: 1em; padding-right: 1em; text-align: center; vertical-align: top\">0</td>\n",
       "        <td style=\"padding-left: 1em; padding-right: 1em; text-align: center; vertical-align: top\">0</td>\n",
       "        <td style=\"padding-left: 1em; padding-right: 1em; text-align: center; vertical-align: top\">0</td>\n",
       "        <td style=\"padding-left: 1em; padding-right: 1em; text-align: center; vertical-align: top\">0</td>\n",
       "        <td style=\"padding-left: 1em; padding-right: 1em; text-align: center; vertical-align: top\">0</td>\n",
       "        <td style=\"padding-left: 1em; padding-right: 1em; text-align: center; vertical-align: top\">0</td>\n",
       "        <td style=\"padding-left: 1em; padding-right: 1em; text-align: center; vertical-align: top\">...</td>\n",
       "    </tr>\n",
       "    <tr>\n",
       "        <td style=\"padding-left: 1em; padding-right: 1em; text-align: center; vertical-align: top\">0</td>\n",
       "        <td style=\"padding-left: 1em; padding-right: 1em; text-align: center; vertical-align: top\">0</td>\n",
       "        <td style=\"padding-left: 1em; padding-right: 1em; text-align: center; vertical-align: top\">0</td>\n",
       "        <td style=\"padding-left: 1em; padding-right: 1em; text-align: center; vertical-align: top\">0</td>\n",
       "        <td style=\"padding-left: 1em; padding-right: 1em; text-align: center; vertical-align: top\">0</td>\n",
       "        <td style=\"padding-left: 1em; padding-right: 1em; text-align: center; vertical-align: top\">0</td>\n",
       "        <td style=\"padding-left: 1em; padding-right: 1em; text-align: center; vertical-align: top\">0</td>\n",
       "        <td style=\"padding-left: 1em; padding-right: 1em; text-align: center; vertical-align: top\">1</td>\n",
       "        <td style=\"padding-left: 1em; padding-right: 1em; text-align: center; vertical-align: top\">1</td>\n",
       "        <td style=\"padding-left: 1em; padding-right: 1em; text-align: center; vertical-align: top\">0</td>\n",
       "        <td style=\"padding-left: 1em; padding-right: 1em; text-align: center; vertical-align: top\">0</td>\n",
       "        <td style=\"padding-left: 1em; padding-right: 1em; text-align: center; vertical-align: top\">1</td>\n",
       "        <td style=\"padding-left: 1em; padding-right: 1em; text-align: center; vertical-align: top\">1</td>\n",
       "        <td style=\"padding-left: 1em; padding-right: 1em; text-align: center; vertical-align: top\">0</td>\n",
       "        <td style=\"padding-left: 1em; padding-right: 1em; text-align: center; vertical-align: top\">0</td>\n",
       "        <td style=\"padding-left: 1em; padding-right: 1em; text-align: center; vertical-align: top\">0</td>\n",
       "        <td style=\"padding-left: 1em; padding-right: 1em; text-align: center; vertical-align: top\">0</td>\n",
       "        <td style=\"padding-left: 1em; padding-right: 1em; text-align: center; vertical-align: top\">0</td>\n",
       "        <td style=\"padding-left: 1em; padding-right: 1em; text-align: center; vertical-align: top\">...</td>\n",
       "    </tr>\n",
       "    <tr>\n",
       "        <td style=\"padding-left: 1em; padding-right: 1em; text-align: center; vertical-align: top\">0</td>\n",
       "        <td style=\"padding-left: 1em; padding-right: 1em; text-align: center; vertical-align: top\">1</td>\n",
       "        <td style=\"padding-left: 1em; padding-right: 1em; text-align: center; vertical-align: top\">0</td>\n",
       "        <td style=\"padding-left: 1em; padding-right: 1em; text-align: center; vertical-align: top\">0</td>\n",
       "        <td style=\"padding-left: 1em; padding-right: 1em; text-align: center; vertical-align: top\">0</td>\n",
       "        <td style=\"padding-left: 1em; padding-right: 1em; text-align: center; vertical-align: top\">0</td>\n",
       "        <td style=\"padding-left: 1em; padding-right: 1em; text-align: center; vertical-align: top\">1</td>\n",
       "        <td style=\"padding-left: 1em; padding-right: 1em; text-align: center; vertical-align: top\">1</td>\n",
       "        <td style=\"padding-left: 1em; padding-right: 1em; text-align: center; vertical-align: top\">1</td>\n",
       "        <td style=\"padding-left: 1em; padding-right: 1em; text-align: center; vertical-align: top\">0</td>\n",
       "        <td style=\"padding-left: 1em; padding-right: 1em; text-align: center; vertical-align: top\">0</td>\n",
       "        <td style=\"padding-left: 1em; padding-right: 1em; text-align: center; vertical-align: top\">1</td>\n",
       "        <td style=\"padding-left: 1em; padding-right: 1em; text-align: center; vertical-align: top\">0</td>\n",
       "        <td style=\"padding-left: 1em; padding-right: 1em; text-align: center; vertical-align: top\">0</td>\n",
       "        <td style=\"padding-left: 1em; padding-right: 1em; text-align: center; vertical-align: top\">0</td>\n",
       "        <td style=\"padding-left: 1em; padding-right: 1em; text-align: center; vertical-align: top\">0</td>\n",
       "        <td style=\"padding-left: 1em; padding-right: 1em; text-align: center; vertical-align: top\">0</td>\n",
       "        <td style=\"padding-left: 1em; padding-right: 1em; text-align: center; vertical-align: top\">0</td>\n",
       "        <td style=\"padding-left: 1em; padding-right: 1em; text-align: center; vertical-align: top\">...</td>\n",
       "    </tr>\n",
       "    <tr>\n",
       "        <td style=\"padding-left: 1em; padding-right: 1em; text-align: center; vertical-align: top\">0</td>\n",
       "        <td style=\"padding-left: 1em; padding-right: 1em; text-align: center; vertical-align: top\">0</td>\n",
       "        <td style=\"padding-left: 1em; padding-right: 1em; text-align: center; vertical-align: top\">0</td>\n",
       "        <td style=\"padding-left: 1em; padding-right: 1em; text-align: center; vertical-align: top\">1</td>\n",
       "        <td style=\"padding-left: 1em; padding-right: 1em; text-align: center; vertical-align: top\">1</td>\n",
       "        <td style=\"padding-left: 1em; padding-right: 1em; text-align: center; vertical-align: top\">1</td>\n",
       "        <td style=\"padding-left: 1em; padding-right: 1em; text-align: center; vertical-align: top\">1</td>\n",
       "        <td style=\"padding-left: 1em; padding-right: 1em; text-align: center; vertical-align: top\">1</td>\n",
       "        <td style=\"padding-left: 1em; padding-right: 1em; text-align: center; vertical-align: top\">1</td>\n",
       "        <td style=\"padding-left: 1em; padding-right: 1em; text-align: center; vertical-align: top\">0</td>\n",
       "        <td style=\"padding-left: 1em; padding-right: 1em; text-align: center; vertical-align: top\">0</td>\n",
       "        <td style=\"padding-left: 1em; padding-right: 1em; text-align: center; vertical-align: top\">1</td>\n",
       "        <td style=\"padding-left: 1em; padding-right: 1em; text-align: center; vertical-align: top\">0</td>\n",
       "        <td style=\"padding-left: 1em; padding-right: 1em; text-align: center; vertical-align: top\">0</td>\n",
       "        <td style=\"padding-left: 1em; padding-right: 1em; text-align: center; vertical-align: top\">0</td>\n",
       "        <td style=\"padding-left: 1em; padding-right: 1em; text-align: center; vertical-align: top\">1</td>\n",
       "        <td style=\"padding-left: 1em; padding-right: 1em; text-align: center; vertical-align: top\">0</td>\n",
       "        <td style=\"padding-left: 1em; padding-right: 1em; text-align: center; vertical-align: top\">0</td>\n",
       "        <td style=\"padding-left: 1em; padding-right: 1em; text-align: center; vertical-align: top\">...</td>\n",
       "    </tr>\n",
       "    <tr>\n",
       "        <td style=\"padding-left: 1em; padding-right: 1em; text-align: center; vertical-align: top\">1</td>\n",
       "        <td style=\"padding-left: 1em; padding-right: 1em; text-align: center; vertical-align: top\">1</td>\n",
       "        <td style=\"padding-left: 1em; padding-right: 1em; text-align: center; vertical-align: top\">0</td>\n",
       "        <td style=\"padding-left: 1em; padding-right: 1em; text-align: center; vertical-align: top\">0</td>\n",
       "        <td style=\"padding-left: 1em; padding-right: 1em; text-align: center; vertical-align: top\">1</td>\n",
       "        <td style=\"padding-left: 1em; padding-right: 1em; text-align: center; vertical-align: top\">0</td>\n",
       "        <td style=\"padding-left: 1em; padding-right: 1em; text-align: center; vertical-align: top\">0</td>\n",
       "        <td style=\"padding-left: 1em; padding-right: 1em; text-align: center; vertical-align: top\">1</td>\n",
       "        <td style=\"padding-left: 1em; padding-right: 1em; text-align: center; vertical-align: top\">1</td>\n",
       "        <td style=\"padding-left: 1em; padding-right: 1em; text-align: center; vertical-align: top\">0</td>\n",
       "        <td style=\"padding-left: 1em; padding-right: 1em; text-align: center; vertical-align: top\">0</td>\n",
       "        <td style=\"padding-left: 1em; padding-right: 1em; text-align: center; vertical-align: top\">1</td>\n",
       "        <td style=\"padding-left: 1em; padding-right: 1em; text-align: center; vertical-align: top\">1</td>\n",
       "        <td style=\"padding-left: 1em; padding-right: 1em; text-align: center; vertical-align: top\">0</td>\n",
       "        <td style=\"padding-left: 1em; padding-right: 1em; text-align: center; vertical-align: top\">0</td>\n",
       "        <td style=\"padding-left: 1em; padding-right: 1em; text-align: center; vertical-align: top\">0</td>\n",
       "        <td style=\"padding-left: 1em; padding-right: 1em; text-align: center; vertical-align: top\">0</td>\n",
       "        <td style=\"padding-left: 1em; padding-right: 1em; text-align: center; vertical-align: top\">0</td>\n",
       "        <td style=\"padding-left: 1em; padding-right: 1em; text-align: center; vertical-align: top\">...</td>\n",
       "    </tr>\n",
       "</table>\n",
       "[10 rows x 638 columns]<br/>\n",
       "</div>"
      ],
      "text/plain": [
       "Columns:\n",
       "\tX1\tint\n",
       "\tX2\tint\n",
       "\tX3\tint\n",
       "\tX4\tint\n",
       "\tX5\tint\n",
       "\tX6\tint\n",
       "\tX7\tint\n",
       "\tX8\tint\n",
       "\tX9\tint\n",
       "\tX10\tint\n",
       "\tX11\tint\n",
       "\tX12\tint\n",
       "\tX13\tint\n",
       "\tX14\tint\n",
       "\tX15\tint\n",
       "\tX16\tint\n",
       "\tX17\tint\n",
       "\tX18\tint\n",
       "\tX19\tint\n",
       "\tX20\tint\n",
       "\tX21\tint\n",
       "\tX22\tint\n",
       "\tX23\tint\n",
       "\tX24\tint\n",
       "\tX25\tint\n",
       "\tX26\tint\n",
       "\tX27\tint\n",
       "\tX28\tint\n",
       "\tX29\tint\n",
       "\tX30\tint\n",
       "\tX31\tint\n",
       "\tX32\tint\n",
       "\tX33\tint\n",
       "\tX34\tint\n",
       "\tX35\tint\n",
       "\tX36\tint\n",
       "\tX37\tint\n",
       "\tX38\tint\n",
       "\tX39\tint\n",
       "\tX40\tint\n",
       "\tX41\tint\n",
       "\tX42\tint\n",
       "\tX43\tint\n",
       "\tX44\tint\n",
       "\tX45\tint\n",
       "\tX46\tint\n",
       "\tX47\tint\n",
       "\tX48\tint\n",
       "\tX49\tint\n",
       "\tX50\tint\n",
       "\tX51\tint\n",
       "\tX52\tint\n",
       "\tX53\tint\n",
       "\tX54\tint\n",
       "\tX55\tint\n",
       "\tX56\tint\n",
       "\tX57\tint\n",
       "\tX58\tint\n",
       "\tX59\tint\n",
       "\tX60\tint\n",
       "\tX61\tint\n",
       "\tX62\tint\n",
       "\tX63\tint\n",
       "\tX64\tint\n",
       "\tX65\tint\n",
       "\tX66\tint\n",
       "\tX67\tint\n",
       "\tX68\tint\n",
       "\tX69\tint\n",
       "\tX70\tint\n",
       "\tX71\tint\n",
       "\tX72\tint\n",
       "\tX73\tint\n",
       "\tX74\tint\n",
       "\tX75\tint\n",
       "\tX76\tint\n",
       "\tX77\tint\n",
       "\tX78\tint\n",
       "\tX79\tint\n",
       "\tX80\tint\n",
       "\tX81\tint\n",
       "\tX82\tint\n",
       "\tX83\tint\n",
       "\tX84\tint\n",
       "\tX85\tint\n",
       "\tX86\tint\n",
       "\tX87\tint\n",
       "\tX88\tint\n",
       "\tX89\tint\n",
       "\tX90\tint\n",
       "\tX91\tint\n",
       "\tX92\tint\n",
       "\tX93\tint\n",
       "\tX94\tint\n",
       "\tX95\tint\n",
       "\tX96\tint\n",
       "\tX97\tint\n",
       "\tX98\tint\n",
       "\tX99\tint\n",
       "\tX100\tint\n",
       "\tX101\tint\n",
       "\tX102\tint\n",
       "\tX103\tint\n",
       "\tX104\tint\n",
       "\tX105\tint\n",
       "\tX106\tint\n",
       "\tX107\tint\n",
       "\tX108\tint\n",
       "\tX109\tint\n",
       "\tX110\tint\n",
       "\tX111\tint\n",
       "\tX112\tint\n",
       "\tX113\tint\n",
       "\tX114\tint\n",
       "\tX115\tint\n",
       "\tX116\tint\n",
       "\tX117\tint\n",
       "\tX118\tint\n",
       "\tX119\tint\n",
       "\tX120\tint\n",
       "\tX121\tint\n",
       "\tX122\tint\n",
       "\tX123\tint\n",
       "\tX124\tint\n",
       "\tX125\tint\n",
       "\tX126\tint\n",
       "\tX127\tint\n",
       "\tX128\tint\n",
       "\tX129\tint\n",
       "\tX130\tint\n",
       "\tX131\tint\n",
       "\tX132\tint\n",
       "\tX133\tint\n",
       "\tX134\tint\n",
       "\tX135\tint\n",
       "\tX136\tint\n",
       "\tX137\tint\n",
       "\tX138\tint\n",
       "\tX139\tint\n",
       "\tX140\tint\n",
       "\tX141\tint\n",
       "\tX142\tint\n",
       "\tX143\tint\n",
       "\tX144\tint\n",
       "\tX145\tint\n",
       "\tX146\tint\n",
       "\tX147\tint\n",
       "\tX148\tint\n",
       "\tX149\tint\n",
       "\tX150\tint\n",
       "\tX151\tint\n",
       "\tX152\tint\n",
       "\tX153\tint\n",
       "\tX154\tint\n",
       "\tX155\tint\n",
       "\tX156\tint\n",
       "\tX157\tint\n",
       "\tX158\tint\n",
       "\tX159\tint\n",
       "\tX160\tint\n",
       "\tX161\tint\n",
       "\tX162\tint\n",
       "\tX163\tint\n",
       "\tX164\tint\n",
       "\tX165\tint\n",
       "\tX166\tint\n",
       "\tX167\tint\n",
       "\tX168\tint\n",
       "\tX169\tint\n",
       "\tX170\tint\n",
       "\tX171\tint\n",
       "\tX172\tint\n",
       "\tX173\tint\n",
       "\tX174\tint\n",
       "\tX175\tint\n",
       "\tX176\tint\n",
       "\tX177\tint\n",
       "\tX178\tint\n",
       "\tX179\tint\n",
       "\tX180\tint\n",
       "\tX181\tint\n",
       "\tX182\tint\n",
       "\tX183\tint\n",
       "\tX184\tint\n",
       "\tX185\tint\n",
       "\tX186\tint\n",
       "\tX187\tint\n",
       "\tX188\tint\n",
       "\tX189\tint\n",
       "\tX190\tint\n",
       "\tX191\tint\n",
       "\tX192\tint\n",
       "\tX193\tint\n",
       "\tX194\tint\n",
       "\tX195\tint\n",
       "\tX196\tint\n",
       "\tX197\tint\n",
       "\tX198\tint\n",
       "\tX199\tint\n",
       "\tX200\tint\n",
       "\tX201\tint\n",
       "\tX202\tint\n",
       "\tX203\tint\n",
       "\tX204\tint\n",
       "\tX205\tint\n",
       "\tX206\tint\n",
       "\tX207\tint\n",
       "\tX208\tint\n",
       "\tX209\tint\n",
       "\tX210\tint\n",
       "\tX211\tint\n",
       "\tX212\tint\n",
       "\tX213\tint\n",
       "\tX214\tint\n",
       "\tX215\tint\n",
       "\tX216\tint\n",
       "\tX217\tint\n",
       "\tX218\tint\n",
       "\tX219\tint\n",
       "\tX220\tint\n",
       "\tX221\tint\n",
       "\tX222\tint\n",
       "\tX223\tint\n",
       "\tX224\tint\n",
       "\tX225\tint\n",
       "\tX226\tint\n",
       "\tX227\tint\n",
       "\tX228\tint\n",
       "\tX229\tint\n",
       "\tX230\tint\n",
       "\tX231\tint\n",
       "\tX232\tint\n",
       "\tX233\tint\n",
       "\tX234\tint\n",
       "\tX235\tint\n",
       "\tX236\tint\n",
       "\tX237\tint\n",
       "\tX238\tint\n",
       "\tX239\tint\n",
       "\tX240\tint\n",
       "\tX241\tint\n",
       "\tX242\tint\n",
       "\tX243\tint\n",
       "\tX244\tint\n",
       "\tX245\tint\n",
       "\tX246\tint\n",
       "\tX247\tint\n",
       "\tX248\tint\n",
       "\tX249\tint\n",
       "\tX250\tint\n",
       "\tX251\tint\n",
       "\tX252\tint\n",
       "\tX253\tint\n",
       "\tX254\tint\n",
       "\tX255\tint\n",
       "\tX256\tint\n",
       "\tX257\tint\n",
       "\tX258\tint\n",
       "\tX259\tint\n",
       "\tX260\tint\n",
       "\tX261\tint\n",
       "\tX262\tint\n",
       "\tX263\tint\n",
       "\tX264\tint\n",
       "\tX265\tint\n",
       "\tX266\tint\n",
       "\tX267\tint\n",
       "\tX268\tint\n",
       "\tX269\tint\n",
       "\tX270\tint\n",
       "\tX271\tint\n",
       "\tX272\tint\n",
       "\tX273\tint\n",
       "\tX274\tint\n",
       "\tX275\tint\n",
       "\tX276\tint\n",
       "\tX277\tint\n",
       "\tX278\tint\n",
       "\tX279\tint\n",
       "\tX280\tint\n",
       "\tX281\tint\n",
       "\tX282\tint\n",
       "\tX283\tint\n",
       "\tX284\tint\n",
       "\tX285\tint\n",
       "\tX286\tint\n",
       "\tX287\tint\n",
       "\tX288\tint\n",
       "\tX289\tint\n",
       "\tX290\tint\n",
       "\tX291\tint\n",
       "\tX292\tint\n",
       "\tX293\tint\n",
       "\tX294\tint\n",
       "\tX295\tint\n",
       "\tX296\tint\n",
       "\tX297\tint\n",
       "\tX298\tint\n",
       "\tX299\tint\n",
       "\tX300\tint\n",
       "\tX301\tint\n",
       "\tX302\tint\n",
       "\tX303\tint\n",
       "\tX304\tint\n",
       "\tX305\tint\n",
       "\tX306\tint\n",
       "\tX307\tint\n",
       "\tX308\tint\n",
       "\tX309\tint\n",
       "\tX310\tint\n",
       "\tX311\tint\n",
       "\tX312\tint\n",
       "\tX313\tint\n",
       "\tX314\tint\n",
       "\tX315\tint\n",
       "\tX316\tint\n",
       "\tX317\tint\n",
       "\tX318\tint\n",
       "\tX319\tint\n",
       "\tX320\tint\n",
       "\tX321\tint\n",
       "\tX322\tint\n",
       "\tX323\tint\n",
       "\tX324\tint\n",
       "\tX325\tint\n",
       "\tX326\tint\n",
       "\tX327\tint\n",
       "\tX328\tint\n",
       "\tX329\tint\n",
       "\tX330\tint\n",
       "\tX331\tint\n",
       "\tX332\tint\n",
       "\tX333\tint\n",
       "\tX334\tint\n",
       "\tX335\tint\n",
       "\tX336\tint\n",
       "\tX337\tint\n",
       "\tX338\tint\n",
       "\tX339\tint\n",
       "\tX340\tint\n",
       "\tX341\tint\n",
       "\tX342\tint\n",
       "\tX343\tint\n",
       "\tX344\tint\n",
       "\tX345\tint\n",
       "\tX346\tint\n",
       "\tX347\tint\n",
       "\tX348\tint\n",
       "\tX349\tint\n",
       "\tX350\tint\n",
       "\tX351\tint\n",
       "\tX352\tint\n",
       "\tX353\tint\n",
       "\tX354\tint\n",
       "\tX355\tint\n",
       "\tX356\tint\n",
       "\tX357\tint\n",
       "\tX358\tint\n",
       "\tX359\tint\n",
       "\tX360\tint\n",
       "\tX361\tint\n",
       "\tX362\tint\n",
       "\tX363\tint\n",
       "\tX364\tint\n",
       "\tX365\tint\n",
       "\tX366\tint\n",
       "\tX367\tint\n",
       "\tX368\tint\n",
       "\tX369\tint\n",
       "\tX370\tint\n",
       "\tX371\tint\n",
       "\tX372\tint\n",
       "\tX373\tint\n",
       "\tX374\tint\n",
       "\tX375\tint\n",
       "\tX376\tint\n",
       "\tX377\tint\n",
       "\tX378\tint\n",
       "\tX379\tint\n",
       "\tX380\tint\n",
       "\tX381\tint\n",
       "\tX382\tint\n",
       "\tX383\tint\n",
       "\tX384\tint\n",
       "\tX385\tint\n",
       "\tX386\tint\n",
       "\tX387\tint\n",
       "\tX388\tint\n",
       "\tX389\tint\n",
       "\tX390\tint\n",
       "\tX391\tint\n",
       "\tX392\tint\n",
       "\tX393\tint\n",
       "\tX394\tint\n",
       "\tX395\tint\n",
       "\tX396\tint\n",
       "\tX397\tint\n",
       "\tX398\tint\n",
       "\tX399\tint\n",
       "\tX400\tint\n",
       "\tX401\tint\n",
       "\tX402\tint\n",
       "\tX403\tint\n",
       "\tX404\tint\n",
       "\tX405\tint\n",
       "\tX406\tint\n",
       "\tX407\tint\n",
       "\tX408\tint\n",
       "\tX409\tint\n",
       "\tX410\tint\n",
       "\tX411\tint\n",
       "\tX412\tint\n",
       "\tX413\tint\n",
       "\tX414\tint\n",
       "\tX415\tint\n",
       "\tX416\tint\n",
       "\tX417\tint\n",
       "\tX418\tint\n",
       "\tX419\tint\n",
       "\tX420\tint\n",
       "\tX421\tint\n",
       "\tX422\tint\n",
       "\tX423\tint\n",
       "\tX424\tint\n",
       "\tX425\tint\n",
       "\tX426\tint\n",
       "\tX427\tint\n",
       "\tX428\tint\n",
       "\tX429\tint\n",
       "\tX430\tint\n",
       "\tX431\tint\n",
       "\tX432\tint\n",
       "\tX433\tint\n",
       "\tX434\tint\n",
       "\tX435\tint\n",
       "\tX436\tint\n",
       "\tX437\tint\n",
       "\tX438\tint\n",
       "\tX439\tint\n",
       "\tX440\tint\n",
       "\tX441\tint\n",
       "\tX442\tint\n",
       "\tX443\tint\n",
       "\tX444\tint\n",
       "\tX445\tint\n",
       "\tX446\tint\n",
       "\tX447\tint\n",
       "\tX448\tint\n",
       "\tX449\tint\n",
       "\tX450\tint\n",
       "\tX451\tint\n",
       "\tX452\tint\n",
       "\tX453\tint\n",
       "\tX454\tint\n",
       "\tX455\tint\n",
       "\tX456\tint\n",
       "\tX457\tint\n",
       "\tX458\tint\n",
       "\tX459\tint\n",
       "\tX460\tint\n",
       "\tX461\tint\n",
       "\tX462\tint\n",
       "\tX463\tint\n",
       "\tX464\tint\n",
       "\tX465\tint\n",
       "\tX466\tint\n",
       "\tX467\tint\n",
       "\tX468\tint\n",
       "\tX469\tint\n",
       "\tX470\tint\n",
       "\tX471\tint\n",
       "\tX472\tint\n",
       "\tX473\tint\n",
       "\tX474\tint\n",
       "\tX475\tint\n",
       "\tX476\tint\n",
       "\tX477\tint\n",
       "\tX478\tint\n",
       "\tX479\tint\n",
       "\tX480\tint\n",
       "\tX481\tint\n",
       "\tX482\tint\n",
       "\tX483\tint\n",
       "\tX484\tint\n",
       "\tX485\tint\n",
       "\tX486\tint\n",
       "\tX487\tint\n",
       "\tX488\tint\n",
       "\tX489\tint\n",
       "\tX490\tint\n",
       "\tX491\tint\n",
       "\tX492\tint\n",
       "\tX493\tint\n",
       "\tX494\tint\n",
       "\tX495\tint\n",
       "\tX496\tint\n",
       "\tX497\tint\n",
       "\tX498\tint\n",
       "\tX499\tint\n",
       "\tX500\tint\n",
       "\tX501\tint\n",
       "\tX502\tint\n",
       "\tX503\tint\n",
       "\tX504\tint\n",
       "\tX505\tint\n",
       "\tX506\tint\n",
       "\tX507\tint\n",
       "\tX508\tint\n",
       "\tX509\tint\n",
       "\tX510\tint\n",
       "\tX511\tint\n",
       "\tX512\tint\n",
       "\tX513\tint\n",
       "\tX514\tint\n",
       "\tX515\tint\n",
       "\tX516\tint\n",
       "\tX517\tint\n",
       "\tX518\tint\n",
       "\tX519\tint\n",
       "\tX520\tint\n",
       "\tX521\tint\n",
       "\tX522\tint\n",
       "\tX523\tint\n",
       "\tX524\tint\n",
       "\tX525\tint\n",
       "\tX526\tint\n",
       "\tX527\tint\n",
       "\tX528\tint\n",
       "\tX529\tint\n",
       "\tX530\tint\n",
       "\tX531\tint\n",
       "\tX532\tint\n",
       "\tX533\tint\n",
       "\tX534\tint\n",
       "\tX535\tint\n",
       "\tX536\tint\n",
       "\tX537\tint\n",
       "\tX538\tint\n",
       "\tX539\tint\n",
       "\tX540\tint\n",
       "\tX541\tint\n",
       "\tX542\tint\n",
       "\tX543\tint\n",
       "\tX544\tint\n",
       "\tX545\tint\n",
       "\tX546\tint\n",
       "\tX547\tint\n",
       "\tX548\tint\n",
       "\tX549\tint\n",
       "\tX550\tint\n",
       "\tX551\tint\n",
       "\tX552\tint\n",
       "\tX553\tint\n",
       "\tX554\tint\n",
       "\tX555\tint\n",
       "\tX556\tint\n",
       "\tX557\tint\n",
       "\tX558\tint\n",
       "\tX559\tint\n",
       "\tX560\tint\n",
       "\tX561\tint\n",
       "\tX562\tint\n",
       "\tX563\tint\n",
       "\tX564\tint\n",
       "\tX565\tint\n",
       "\tX566\tint\n",
       "\tX567\tint\n",
       "\tX568\tint\n",
       "\tX569\tint\n",
       "\tX570\tint\n",
       "\tX571\tint\n",
       "\tX572\tint\n",
       "\tX573\tint\n",
       "\tX574\tint\n",
       "\tX575\tint\n",
       "\tX576\tint\n",
       "\tX577\tint\n",
       "\tX578\tint\n",
       "\tX579\tint\n",
       "\tX580\tint\n",
       "\tX581\tint\n",
       "\tX582\tint\n",
       "\tX583\tint\n",
       "\tX584\tint\n",
       "\tX585\tint\n",
       "\tX586\tint\n",
       "\tX587\tint\n",
       "\tX588\tint\n",
       "\tX589\tint\n",
       "\tX590\tint\n",
       "\tX591\tint\n",
       "\tX592\tint\n",
       "\tX593\tint\n",
       "\tX594\tint\n",
       "\tX595\tint\n",
       "\tX596\tint\n",
       "\tX597\tint\n",
       "\tX598\tint\n",
       "\tX599\tint\n",
       "\tX600\tint\n",
       "\tX601\tint\n",
       "\tX602\tint\n",
       "\tX603\tint\n",
       "\tX604\tint\n",
       "\tX605\tint\n",
       "\tX606\tint\n",
       "\tX607\tint\n",
       "\tX608\tint\n",
       "\tX609\tint\n",
       "\tX610\tint\n",
       "\tX611\tint\n",
       "\tX612\tint\n",
       "\tX613\tint\n",
       "\tX614\tint\n",
       "\tX615\tint\n",
       "\tX616\tint\n",
       "\tX617\tint\n",
       "\tX618\tint\n",
       "\tX619\tint\n",
       "\tX620\tint\n",
       "\tX621\tint\n",
       "\tX622\tint\n",
       "\tX623\tint\n",
       "\tX624\tint\n",
       "\tX625\tint\n",
       "\tX626\tint\n",
       "\tX627\tint\n",
       "\tX628\tint\n",
       "\tX629\tint\n",
       "\tX630\tint\n",
       "\tX631\tint\n",
       "\tX632\tint\n",
       "\tX633\tint\n",
       "\tX634\tint\n",
       "\tX635\tint\n",
       "\tX636\tint\n",
       "\tX637\tint\n",
       "\tbook_id\tint\n",
       "\n",
       "Rows: 10\n",
       "\n",
       "Data:\n",
       "+----+----+----+----+----+----+----+----+----+-----+-----+-----+-----+-----+-----+\n",
       "| X1 | X2 | X3 | X4 | X5 | X6 | X7 | X8 | X9 | X10 | X11 | X12 | X13 | X14 | X15 |\n",
       "+----+----+----+----+----+----+----+----+----+-----+-----+-----+-----+-----+-----+\n",
       "| 0  | 0  | 1  | 1  | 1  | 1  | 1  | 0  | 0  |  0  |  1  |  1  |  1  |  1  |  1  |\n",
       "| 0  | 0  | 1  | 1  | 1  | 1  | 1  | 0  | 0  |  0  |  0  |  1  |  1  |  1  |  1  |\n",
       "| 0  | 0  | 1  | 1  | 1  | 1  | 1  | 0  | 0  |  0  |  0  |  1  |  1  |  0  |  0  |\n",
       "| 1  | 0  | 1  | 1  | 1  | 1  | 1  | 1  | 0  |  1  |  0  |  1  |  1  |  0  |  0  |\n",
       "| 1  | 0  | 1  | 1  | 1  | 1  | 1  | 1  | 0  |  1  |  0  |  1  |  1  |  0  |  0  |\n",
       "| 0  | 0  | 1  | 1  | 1  | 1  | 1  | 0  | 0  |  0  |  0  |  0  |  1  |  0  |  0  |\n",
       "| 1  | 0  | 1  | 1  | 1  | 1  | 1  | 1  | 0  |  1  |  0  |  1  |  1  |  1  |  1  |\n",
       "| 1  | 0  | 1  | 1  | 1  | 1  | 1  | 1  | 0  |  1  |  0  |  1  |  1  |  0  |  0  |\n",
       "| 0  | 0  | 1  | 1  | 1  | 1  | 1  | 0  | 0  |  0  |  1  |  1  |  1  |  1  |  1  |\n",
       "| 1  | 0  | 1  | 1  | 1  | 1  | 1  | 1  | 0  |  1  |  0  |  1  |  1  |  0  |  0  |\n",
       "+----+----+----+----+----+----+----+----+----+-----+-----+-----+-----+-----+-----+\n",
       "+-----+-----+-----+-----+-----+-----+\n",
       "| X16 | X17 | X18 | X19 | X20 | ... |\n",
       "+-----+-----+-----+-----+-----+-----+\n",
       "|  0  |  0  |  0  |  0  |  0  | ... |\n",
       "|  0  |  0  |  0  |  0  |  0  | ... |\n",
       "|  1  |  0  |  0  |  0  |  0  | ... |\n",
       "|  1  |  0  |  0  |  0  |  0  | ... |\n",
       "|  1  |  0  |  0  |  0  |  0  | ... |\n",
       "|  0  |  0  |  0  |  0  |  0  | ... |\n",
       "|  1  |  0  |  0  |  0  |  0  | ... |\n",
       "|  1  |  0  |  0  |  0  |  0  | ... |\n",
       "|  1  |  0  |  0  |  0  |  0  | ... |\n",
       "|  1  |  0  |  0  |  0  |  0  | ... |\n",
       "+-----+-----+-----+-----+-----+-----+\n",
       "[10 rows x 638 columns]"
      ]
     },
     "execution_count": 74,
     "metadata": {},
     "output_type": "execute_result"
    }
   ],
   "source": [
    "book_genre_clusters.head()"
   ]
  },
  {
   "cell_type": "code",
   "execution_count": 75,
   "metadata": {},
   "outputs": [],
   "source": [
    "# remove actions from filtered books\n",
    "actions = raw_actions.join(books)[['user_id','book_id','rating']]"
   ]
  },
  {
   "cell_type": "code",
   "execution_count": null,
   "metadata": {},
   "outputs": [],
   "source": []
  },
  {
   "cell_type": "code",
   "execution_count": 76,
   "metadata": {},
   "outputs": [],
   "source": [
    "# train and test data for explicit models\n",
    "high_rated_data = actions[actions[\"rating\"] >= 4]\n",
    "low_rated_data = actions[actions[\"rating\"] < 4]\n",
    "train_data_1, test_data = tc.recommender.util.random_split_by_user(\n",
    "                                    high_rated_data, user_id='user_id', item_id='book_id')\n",
    "train_data = train_data_1.append(low_rated_data)"
   ]
  },
  {
   "cell_type": "code",
   "execution_count": 77,
   "metadata": {},
   "outputs": [],
   "source": [
    "# train and test data for implicit models\n",
    "to_read_train, to_read_test = tc.recommender.util.random_split_by_user(to_read, user_id='user_id', item_id='book_id')"
   ]
  },
  {
   "cell_type": "code",
   "execution_count": 156,
   "metadata": {},
   "outputs": [],
   "source": [
    "rmse_x = []#,'similarity','similarity_clustered_books','tags_cv_svd','tags_tfid_svd','genre_clusters']\n",
    "rmse_y = []\n",
    "precision_y = [[], [], [], []] # cutoffs: 1, 3, 5, 10\n",
    "cutoffs = [0,2,4,9]\n",
    "precision_x = [1, 3, 5, 10]\n",
    "precision_xy = []"
   ]
  },
  {
   "cell_type": "code",
   "execution_count": 168,
   "metadata": {},
   "outputs": [],
   "source": []
  },
  {
   "cell_type": "code",
   "execution_count": 180,
   "metadata": {},
   "outputs": [],
   "source": []
  },
  {
   "cell_type": "markdown",
   "metadata": {},
   "source": [
    "# Popularity (Baseline)"
   ]
  },
  {
   "cell_type": "code",
   "execution_count": 157,
   "metadata": {},
   "outputs": [],
   "source": [
    "popularity_model = tc.recommender.popularity_recommender.create(train_data, user_id='user_id', item_id='book_id', target='rating', verbose=False)\n",
    "popularity_eval = popularity_model.evaluate(test_data, exclude_known_for_precision_recall=True, verbose=False)\n",
    "rmse_x.append('popularity')\n",
    "rmse_y.append(popularity_eval['rmse_overall'])"
   ]
  },
  {
   "cell_type": "code",
   "execution_count": 169,
   "metadata": {},
   "outputs": [],
   "source": [
    "for i in range(0, 4):\n",
    "    precision_y[i].append(popularity_eval['precision_recall_overall'][cutoffs[i]]['precision'])"
   ]
  },
  {
   "cell_type": "code",
   "execution_count": 182,
   "metadata": {},
   "outputs": [],
   "source": [
    "precision_xy.append([popularity_eval['precision_recall_overall'][c]['precision'] for c in cutoffs])"
   ]
  },
  {
   "cell_type": "code",
   "execution_count": 183,
   "metadata": {},
   "outputs": [
    {
     "data": {
      "text/plain": [
       "[[0.005005005005005005,\n",
       "  0.002335669002335669,\n",
       "  0.002002002002002002,\n",
       "  0.0014014014014014013]]"
      ]
     },
     "execution_count": 183,
     "metadata": {},
     "output_type": "execute_result"
    }
   ],
   "source": []
  },
  {
   "cell_type": "code",
   "execution_count": 167,
   "metadata": {},
   "outputs": [
    {
     "data": {
      "text/html": [
       "<div style=\"max-height:1000px;max-width:1500px;overflow:auto;\"><table frame=\"box\" rules=\"cols\">\n",
       "    <tr>\n",
       "        <th style=\"padding-left: 1em; padding-right: 1em; text-align: center\">cutoff</th>\n",
       "        <th style=\"padding-left: 1em; padding-right: 1em; text-align: center\">precision</th>\n",
       "        <th style=\"padding-left: 1em; padding-right: 1em; text-align: center\">recall</th>\n",
       "    </tr>\n",
       "    <tr>\n",
       "        <td style=\"padding-left: 1em; padding-right: 1em; text-align: center; vertical-align: top\">1</td>\n",
       "        <td style=\"padding-left: 1em; padding-right: 1em; text-align: center; vertical-align: top\">0.005005005005005005</td>\n",
       "        <td style=\"padding-left: 1em; padding-right: 1em; text-align: center; vertical-align: top\">0.00030415754553685586</td>\n",
       "    </tr>\n",
       "    <tr>\n",
       "        <td style=\"padding-left: 1em; padding-right: 1em; text-align: center; vertical-align: top\">2</td>\n",
       "        <td style=\"padding-left: 1em; padding-right: 1em; text-align: center; vertical-align: top\">0.002502502502502502</td>\n",
       "        <td style=\"padding-left: 1em; padding-right: 1em; text-align: center; vertical-align: top\">0.00030415754553685576</td>\n",
       "    </tr>\n",
       "    <tr>\n",
       "        <td style=\"padding-left: 1em; padding-right: 1em; text-align: center; vertical-align: top\">3</td>\n",
       "        <td style=\"padding-left: 1em; padding-right: 1em; text-align: center; vertical-align: top\">0.002335669002335669</td>\n",
       "        <td style=\"padding-left: 1em; padding-right: 1em; text-align: center; vertical-align: top\">0.0004538799174814499</td>\n",
       "    </tr>\n",
       "    <tr>\n",
       "        <td style=\"padding-left: 1em; padding-right: 1em; text-align: center; vertical-align: top\">4</td>\n",
       "        <td style=\"padding-left: 1em; padding-right: 1em; text-align: center; vertical-align: top\">0.0020020020020020033</td>\n",
       "        <td style=\"padding-left: 1em; padding-right: 1em; text-align: center; vertical-align: top\">0.0005651022509260055</td>\n",
       "    </tr>\n",
       "    <tr>\n",
       "        <td style=\"padding-left: 1em; padding-right: 1em; text-align: center; vertical-align: top\">5</td>\n",
       "        <td style=\"padding-left: 1em; padding-right: 1em; text-align: center; vertical-align: top\">0.002002002002002002</td>\n",
       "        <td style=\"padding-left: 1em; padding-right: 1em; text-align: center; vertical-align: top\">0.0006661648519886068</td>\n",
       "    </tr>\n",
       "    <tr>\n",
       "        <td style=\"padding-left: 1em; padding-right: 1em; text-align: center; vertical-align: top\">6</td>\n",
       "        <td style=\"padding-left: 1em; padding-right: 1em; text-align: center; vertical-align: top\">0.0018351685018351688</td>\n",
       "        <td style=\"padding-left: 1em; padding-right: 1em; text-align: center; vertical-align: top\">0.0007217760187108848</td>\n",
       "    </tr>\n",
       "    <tr>\n",
       "        <td style=\"padding-left: 1em; padding-right: 1em; text-align: center; vertical-align: top\">7</td>\n",
       "        <td style=\"padding-left: 1em; padding-right: 1em; text-align: center; vertical-align: top\">0.0018590018590018582</td>\n",
       "        <td style=\"padding-left: 1em; padding-right: 1em; text-align: center; vertical-align: top\">0.0008298386267734923</td>\n",
       "    </tr>\n",
       "    <tr>\n",
       "        <td style=\"padding-left: 1em; padding-right: 1em; text-align: center; vertical-align: top\">8</td>\n",
       "        <td style=\"padding-left: 1em; padding-right: 1em; text-align: center; vertical-align: top\">0.001626626626626627</td>\n",
       "        <td style=\"padding-left: 1em; padding-right: 1em; text-align: center; vertical-align: top\">0.0008298386267734927</td>\n",
       "    </tr>\n",
       "    <tr>\n",
       "        <td style=\"padding-left: 1em; padding-right: 1em; text-align: center; vertical-align: top\">9</td>\n",
       "        <td style=\"padding-left: 1em; padding-right: 1em; text-align: center; vertical-align: top\">0.0015571126682237795</td>\n",
       "        <td style=\"padding-left: 1em; padding-right: 1em; text-align: center; vertical-align: top\">0.0009013386982735641</td>\n",
       "    </tr>\n",
       "    <tr>\n",
       "        <td style=\"padding-left: 1em; padding-right: 1em; text-align: center; vertical-align: top\">10</td>\n",
       "        <td style=\"padding-left: 1em; padding-right: 1em; text-align: center; vertical-align: top\">0.0014014014014014013</td>\n",
       "        <td style=\"padding-left: 1em; padding-right: 1em; text-align: center; vertical-align: top\">0.0009013386982735644</td>\n",
       "    </tr>\n",
       "</table>\n",
       "[18 rows x 3 columns]<br/>Note: Only the head of the SFrame is printed.<br/>You can use print_rows(num_rows=m, num_columns=n) to print more rows and columns.\n",
       "</div>"
      ],
      "text/plain": [
       "Columns:\n",
       "\tcutoff\tint\n",
       "\tprecision\tfloat\n",
       "\trecall\tfloat\n",
       "\n",
       "Rows: 18\n",
       "\n",
       "Data:\n",
       "+--------+-----------------------+------------------------+\n",
       "| cutoff |       precision       |         recall         |\n",
       "+--------+-----------------------+------------------------+\n",
       "|   1    |  0.005005005005005005 | 0.00030415754553685586 |\n",
       "|   2    |  0.002502502502502502 | 0.00030415754553685576 |\n",
       "|   3    |  0.002335669002335669 | 0.0004538799174814499  |\n",
       "|   4    | 0.0020020020020020033 | 0.0005651022509260055  |\n",
       "|   5    |  0.002002002002002002 | 0.0006661648519886068  |\n",
       "|   6    | 0.0018351685018351688 | 0.0007217760187108848  |\n",
       "|   7    | 0.0018590018590018582 | 0.0008298386267734923  |\n",
       "|   8    |  0.001626626626626627 | 0.0008298386267734927  |\n",
       "|   9    | 0.0015571126682237795 | 0.0009013386982735641  |\n",
       "|   10   | 0.0014014014014014013 | 0.0009013386982735644  |\n",
       "+--------+-----------------------+------------------------+\n",
       "[18 rows x 3 columns]\n",
       "Note: Only the head of the SFrame is printed.\n",
       "You can use print_rows(num_rows=m, num_columns=n) to print more rows and columns."
      ]
     },
     "execution_count": 167,
     "metadata": {},
     "output_type": "execute_result"
    }
   ],
   "source": [
    "popularity_eval['precision_recall_overall']"
   ]
  },
  {
   "cell_type": "markdown",
   "metadata": {},
   "source": [
    "# Explicit Classifiers"
   ]
  },
  {
   "cell_type": "markdown",
   "metadata": {},
   "source": [
    "## Similarity"
   ]
  },
  {
   "cell_type": "code",
   "execution_count": 158,
   "metadata": {},
   "outputs": [],
   "source": [
    "item_similarity_model = tc.recommender.item_similarity_recommender.create(train_data, user_id='user_id', item_id='book_id', target='rating', verbose=False)\n",
    "item_similarity_eval = item_similarity_model.evaluate(test_data, exclude_known_for_precision_recall=True, verbose=False)\n",
    "rmse_x.append('similarity')\n",
    "rmse_y.append(item_similarity_eval['rmse_overall'])"
   ]
  },
  {
   "cell_type": "code",
   "execution_count": 171,
   "metadata": {},
   "outputs": [],
   "source": [
    "for i in range(0, 4):\n",
    "    precision_y[i].append(item_similarity_eval['precision_recall_overall'][cutoffs[i]]['precision'])"
   ]
  },
  {
   "cell_type": "code",
   "execution_count": 184,
   "metadata": {},
   "outputs": [],
   "source": [
    "precision_xy.append([item_similarity_eval['precision_recall_overall'][c]['precision'] for c in cutoffs])"
   ]
  },
  {
   "cell_type": "code",
   "execution_count": 159,
   "metadata": {},
   "outputs": [],
   "source": [
    "item_similarity_model_cluster = tc.recommender.item_similarity_recommender.create(train_data, user_id='user_id', item_id='book_id', target='rating', item_data=clustered_books_with_tags[['book_id','cluster']], verbose=False)\n",
    "item_similarity_cluster_eval = item_similarity_model_cluster.evaluate(test_data, exclude_known_for_precision_recall=True, verbose=False)\n",
    "rmse_x.append('similarity_clustered_books')\n",
    "rmse_y.append(item_similarity_cluster_eval['rmse_overall'])"
   ]
  },
  {
   "cell_type": "code",
   "execution_count": 172,
   "metadata": {},
   "outputs": [],
   "source": [
    "for i in range(0, 4):\n",
    "    precision_y[i].append(item_similarity_cluster_eval['precision_recall_overall'][cutoffs[i]]['precision'])"
   ]
  },
  {
   "cell_type": "code",
   "execution_count": 185,
   "metadata": {},
   "outputs": [],
   "source": [
    "precision_xy.append([item_similarity_cluster_eval['precision_recall_overall'][c]['precision'] for c in cutoffs])"
   ]
  },
  {
   "cell_type": "code",
   "execution_count": 126,
   "metadata": {},
   "outputs": [
    {
     "data": {
      "text/plain": [
       "0.8064529688379471"
      ]
     },
     "execution_count": 126,
     "metadata": {},
     "output_type": "execute_result"
    }
   ],
   "source": [
    "cv = CountVectorizer()\n",
    "cv.fit(books_with_tags['tag_name'])\n",
    "cv_svd = TruncatedSVD(n_components=100)\n",
    "X = cv_svd.fit_transform(cv.transform(books_with_tags['tag_name']))\n",
    "cv_svd.explained_variance_ratio_.sum()"
   ]
  },
  {
   "cell_type": "code",
   "execution_count": 127,
   "metadata": {},
   "outputs": [],
   "source": [
    "cv_svd = TruncatedSVD(n_components=35)\n",
    "X = cv_svd.fit_transform(cv.transform(books_with_tags['tag_name']))\n",
    "cv_svd.explained_variance_ratio_.sum()\n",
    "svd_tags = tc.SFrame(pd.DataFrame(X))"
   ]
  },
  {
   "cell_type": "code",
   "execution_count": 128,
   "metadata": {},
   "outputs": [],
   "source": [
    "svd_tags = tc.SFrame(pd.DataFrame(X))\n",
    "svd_tags['book_id'] = books['book_id']"
   ]
  },
  {
   "cell_type": "code",
   "execution_count": null,
   "metadata": {},
   "outputs": [],
   "source": []
  },
  {
   "cell_type": "code",
   "execution_count": 160,
   "metadata": {},
   "outputs": [],
   "source": [
    "item_similarity_model_svd = tc.recommender.item_similarity_recommender.create(train_data, user_id='user_id', item_id='book_id', target='rating', item_data=svd_tags, verbose=False)\n",
    "item_similarity_svd_eval = item_similarity_model_svd.evaluate(test_data, exclude_known_for_precision_recall=True, verbose=False)\n",
    "rmse_x.append('tags_cv_svd')\n",
    "rmse_y.append(item_similarity_svd_eval['rmse_overall'])"
   ]
  },
  {
   "cell_type": "code",
   "execution_count": 173,
   "metadata": {},
   "outputs": [],
   "source": [
    "for i in range(0, 4):\n",
    "    precision_y[i].append(item_similarity_svd_eval['precision_recall_overall'][cutoffs[i]]['precision'])"
   ]
  },
  {
   "cell_type": "code",
   "execution_count": 186,
   "metadata": {},
   "outputs": [],
   "source": [
    "precision_xy.append([item_similarity_svd_eval['precision_recall_overall'][c]['precision'] for c in cutoffs])"
   ]
  },
  {
   "cell_type": "code",
   "execution_count": 130,
   "metadata": {},
   "outputs": [
    {
     "data": {
      "text/plain": [
       "0.5162251473206468"
      ]
     },
     "execution_count": 130,
     "metadata": {},
     "output_type": "execute_result"
    }
   ],
   "source": [
    "tfid = TfidfVectorizer()\n",
    "tfid.fit(books_with_tags['tag_name'])\n",
    "tfid_svd = TruncatedSVD(n_components=100)\n",
    "X = tfid_svd.fit_transform(tfid.transform(books_with_tags['tag_name']))\n",
    "tfid_svd.explained_variance_ratio_.sum()"
   ]
  },
  {
   "cell_type": "code",
   "execution_count": 131,
   "metadata": {},
   "outputs": [],
   "source": [
    "svd_tfid_tags = tc.SFrame(pd.DataFrame(data))\n",
    "svd_tfid_tags['book_id'] = books['book_id']"
   ]
  },
  {
   "cell_type": "code",
   "execution_count": null,
   "metadata": {},
   "outputs": [],
   "source": []
  },
  {
   "cell_type": "code",
   "execution_count": 161,
   "metadata": {},
   "outputs": [],
   "source": [
    "item_similarity_model_svd_tfid = tc.recommender.item_similarity_recommender.create(train_data, user_id='user_id', item_id='book_id', target='rating', item_data=svd_tfid_tags, verbose=False)\n",
    "item_similarity_svd_tfid_eval = item_similarity_model_svd_tfid.evaluate(test_data, exclude_known_for_precision_recall=True, verbose=False)\n",
    "rmse_x.append('tags_tfid_svd')\n",
    "rmse_y.append(item_similarity_svd_tfid_eval['rmse_overall'])"
   ]
  },
  {
   "cell_type": "code",
   "execution_count": 174,
   "metadata": {},
   "outputs": [],
   "source": [
    "for i in range(0, 4):\n",
    "    precision_y[i].append(item_similarity_svd_tfid_eval['precision_recall_overall'][cutoffs[i]]['precision'])"
   ]
  },
  {
   "cell_type": "code",
   "execution_count": 187,
   "metadata": {},
   "outputs": [],
   "source": [
    "precision_xy.append([item_similarity_svd_tfid_eval['precision_recall_overall'][c]['precision'] for c in cutoffs])"
   ]
  },
  {
   "cell_type": "code",
   "execution_count": 162,
   "metadata": {},
   "outputs": [],
   "source": [
    "item_similarity_model_genre_clusters = tc.recommender.item_similarity_recommender.create(train_data, user_id='user_id', item_id='book_id', target='rating', item_data=book_genre_clusters, verbose=False)\n",
    "item_similarity_genre_clusters_eval = item_similarity_model_genre_clusters.evaluate(test_data, exclude_known_for_precision_recall=True, verbose=False)\n",
    "rmse_x.append('genre_clusters')\n",
    "rmse_y.append(item_similarity_genre_clusters_eval['rmse_overall'])"
   ]
  },
  {
   "cell_type": "code",
   "execution_count": 175,
   "metadata": {},
   "outputs": [],
   "source": [
    "for i in range(0, 4):\n",
    "    precision_y[i].append(item_similarity_genre_clusters_eval['precision_recall_overall'][cutoffs[i]]['precision'])"
   ]
  },
  {
   "cell_type": "code",
   "execution_count": 188,
   "metadata": {},
   "outputs": [],
   "source": [
    "precision_xy.append([item_similarity_genre_clusters_eval['precision_recall_overall'][c]['precision'] for c in cutoffs])"
   ]
  },
  {
   "cell_type": "code",
   "execution_count": 114,
   "metadata": {},
   "outputs": [],
   "source": []
  },
  {
   "cell_type": "code",
   "execution_count": 134,
   "metadata": {},
   "outputs": [
    {
     "data": {
      "text/plain": [
       "<BarContainer object of 6 artists>"
      ]
     },
     "execution_count": 134,
     "metadata": {},
     "output_type": "execute_result"
    },
    {
     "data": {
      "image/png": "[encoded data removed]",
      "text/plain": [
       "<Figure size 432x288 with 1 Axes>"
      ]
     },
     "metadata": {
      "needs_background": "light"
     },
     "output_type": "display_data"
    }
   ],
   "source": [
    "ax = plt.subplot(111)\n",
    "ax.bar(rmse_x, rmse_y, width=0.2, color='b', align='center')\n"
   ]
  },
  {
   "cell_type": "code",
   "execution_count": 178,
   "metadata": {},
   "outputs": [
    {
     "data": {
      "text/plain": [
       "[Text(0.4, 0, 'popularity'),\n",
       " Text(1.4, 0, 'similarity'),\n",
       " Text(2.4, 0, 'similarity_clustered_books'),\n",
       " Text(3.4, 0, 'tags_cv_svd'),\n",
       " Text(4.4, 0, 'tags_tfid_svd'),\n",
       " Text(5.4, 0, 'genre_clusters')]"
      ]
     },
     "execution_count": 178,
     "metadata": {},
     "output_type": "execute_result"
    },
    {
     "data": {
      "image/png": "[encoded data removed]",
      "text/plain": [
       "<Figure size 864x576 with 1 Axes>"
      ]
     },
     "metadata": {
      "needs_background": "light"
     },
     "output_type": "display_data"
    }
   ],
   "source": [
    "fig, ax = plt.subplots(figsize=(12, 8))\n",
    "\n",
    "\n",
    "bar_width = 0.2\n",
    "x = np.arange(len(rmse_x))\n",
    "\n",
    "ax.bar(x, precision_y[0], width=bar_width, color='b', align='center')\n",
    "ax.bar(x+bar_width, precision_y[1], width=bar_width, color='g', align='center')\n",
    "ax.bar(x+bar_width*2, precision_y[2], width=bar_width, color='r', align='center')\n",
    "ax.bar(x+bar_width*3, precision_y[3], width=bar_width, color='c', align='center')\n",
    "\n",
    "ax.set_xticks(x + bar_width*2)\n",
    "ax.set_xticklabels(rmse_x)\n"
   ]
  },
  {
   "cell_type": "code",
   "execution_count": 193,
   "metadata": {},
   "outputs": [
    {
     "data": {
      "text/plain": [
       "[Text(0.4, 0, '1'), Text(1.4, 0, '3'), Text(2.4, 0, '5'), Text(3.4, 0, '9')]"
      ]
     },
     "execution_count": 193,
     "metadata": {},
     "output_type": "execute_result"
    },
    {
     "data": {
      "image/png": "[encoded data removed]",
      "text/plain": [
       "<Figure size 864x576 with 1 Axes>"
      ]
     },
     "metadata": {
      "needs_background": "light"
     },
     "output_type": "display_data"
    }
   ],
   "source": [
    "fig, ax = plt.subplots(figsize=(12, 8))\n",
    "\n",
    "bar_width = 0.2\n",
    "x = np.arange(len(precision_x))\n",
    "\n",
    "ax.bar(x, precision_xy[0], width=bar_width, color='b', align='center')\n",
    "ax.bar(x+bar_width, precision_xy[1], width=bar_width, color='g', align='center')\n",
    "ax.bar(x+bar_width*2, precision_xy[2], width=bar_width, color='r', align='center')\n",
    "ax.bar(x+bar_width*3, precision_xy[3], width=bar_width, color='c', align='center')\n",
    "ax.bar(x+bar_width*3, precision_xy[4], width=bar_width, color='c', align='center')\n",
    "\n",
    "ax.set_xticks(x + bar_width*2)\n",
    "ax.set_xticklabels(precision_x)\n"
   ]
  },
  {
   "cell_type": "markdown",
   "metadata": {},
   "source": [
    "## Factorization"
   ]
  },
  {
   "cell_type": "code",
   "execution_count": 194,
   "metadata": {},
   "outputs": [],
   "source": [
    "rmse_x = []#,'similarity','similarity_clustered_books','tags_cv_svd','tags_tfid_svd','genre_clusters']\n",
    "rmse_y = []\n",
    "precision_y = [[], [], [], []] # cutoffs: 1, 3, 5, 10\n",
    "cutoffs = [0,2,4,9]\n",
    "precision_x = [1, 3, 5, 10]\n",
    "precision_xy = []"
   ]
  },
  {
   "cell_type": "code",
   "execution_count": 200,
   "metadata": {},
   "outputs": [],
   "source": [
    "factorization_model = tc.recommender.factorization_recommender.create(train_data, user_id='user_id', item_id='book_id', target='rating', verbose=False)\n",
    "factorization_eval = factorization_model.evaluate(test_data, exclude_known_for_precision_recall=True, verbose=False)\n",
    "rmse_x.append('factorization')\n",
    "rmse_y.append(factorization_eval['rmse_overall'])"
   ]
  },
  {
   "cell_type": "code",
   "execution_count": null,
   "metadata": {},
   "outputs": [],
   "source": []
  },
  {
   "cell_type": "code",
   "execution_count": 201,
   "metadata": {},
   "outputs": [],
   "source": [
    "for i in range(0, 4):\n",
    "    precision_y[i].append(factorization_eval['precision_recall_overall'][cutoffs[i]]['precision'])"
   ]
  },
  {
   "cell_type": "code",
   "execution_count": 202,
   "metadata": {},
   "outputs": [],
   "source": [
    "precision_xy.append([factorization_eval['precision_recall_overall'][c]['precision'] for c in cutoffs])"
   ]
  },
  {
   "cell_type": "code",
   "execution_count": 203,
   "metadata": {},
   "outputs": [],
   "source": [
    "factorization_model_cluster = tc.recommender.factorization_recommender.create(train_data, user_id='user_id', item_id='book_id', target='rating', item_data=clustered_books_with_tags[['book_id','cluster']], verbose=False)\n",
    "factorization_cluster_eval = factorization_model_cluster.evaluate(test_data, exclude_known_for_precision_recall=True, verbose=False)\n",
    "rmse_x.append('factorization_cluster')\n",
    "rmse_y.append(factorization_cluster_eval['rmse_overall'])"
   ]
  },
  {
   "cell_type": "code",
   "execution_count": 204,
   "metadata": {},
   "outputs": [],
   "source": [
    "for i in range(0, 4):\n",
    "    precision_y[i].append(factorization_cluster_eval['precision_recall_overall'][cutoffs[i]]['precision'])"
   ]
  },
  {
   "cell_type": "code",
   "execution_count": 205,
   "metadata": {},
   "outputs": [],
   "source": [
    "precision_xy.append([factorization_cluster_eval['precision_recall_overall'][c]['precision'] for c in cutoffs])"
   ]
  },
  {
   "cell_type": "code",
   "execution_count": 206,
   "metadata": {},
   "outputs": [],
   "source": [
    "factorization_model_svd = tc.recommender.factorization_recommender.create(train_data, user_id='user_id', item_id='book_id', target='rating', item_data=svd_tags, verbose=False)\n",
    "factorization_svd_eval = factorization_model_svd.evaluate(test_data, exclude_known_for_precision_recall=True, verbose=False)\n"
   ]
  },
  {
   "cell_type": "code",
   "execution_count": null,
   "metadata": {},
   "outputs": [],
   "source": [
    "rmse_x.append('factorization_svd')\n",
    "rmse_y.append(factorization_svd_eval['rmse_overall'])\n",
    "for i in range(0, 4):\n",
    "    precision_y[i].append(factorization_svd_eval['precision_recall_overall'][cutoffs[i]]['precision'])\n",
    "precision_xy.append([factorization_svd_eval['precision_recall_overall'][c]['precision'] for c in cutoffs])"
   ]
  },
  {
   "cell_type": "code",
   "execution_count": 208,
   "metadata": {},
   "outputs": [],
   "source": []
  },
  {
   "cell_type": "code",
   "execution_count": 209,
   "metadata": {},
   "outputs": [
    {
     "ename": "SyntaxError",
     "evalue": "invalid syntax (<ipython-input-209-66c1ee880885>, line 1)",
     "output_type": "error",
     "traceback": [
      "\u001b[0;36m  File \u001b[0;32m\"<ipython-input-209-66c1ee880885>\"\u001b[0;36m, line \u001b[0;32m1\u001b[0m\n\u001b[0;31m    factorization_model_svd_tfid = tc.recommender.factorization_recommender.create(train_data, user_id='user_id', item_id='book_id', target='rating', item_data=svd_tfid_tags,, verbose=False)\u001b[0m\n\u001b[0m                                                                                                                                                                              ^\u001b[0m\n\u001b[0;31mSyntaxError\u001b[0m\u001b[0;31m:\u001b[0m invalid syntax\n"
     ]
    }
   ],
   "source": [
    "factorization_model_svd_tfid = tc.recommender.factorization_recommender.create(train_data, user_id='user_id', item_id='book_id', target='rating', item_data=svd_tfid_tags, verbose=False)\n",
    "factorization_svd_tfid_eval = factorization_model_svd_tfid.evaluate(test_data, exclude_known_for_precision_recall=True, verbose=False)"
   ]
  },
  {
   "cell_type": "code",
   "execution_count": null,
   "metadata": {},
   "outputs": [],
   "source": [
    "rmse_x.append('factorization_svd_tfid')\n",
    "rmse_y.append(factorization_svd_tfid_eval['rmse_overall'])\n",
    "for i in range(0, 4):\n",
    "    precision_y[i].append(factorization_svd_tfid_eval['precision_recall_overall'][cutoffs[i]]['precision'])\n",
    "precision_xy.append([factorization_svd_tfid_eval['precision_recall_overall'][c]['precision'] for c in cutoffs])"
   ]
  },
  {
   "cell_type": "code",
   "execution_count": null,
   "metadata": {},
   "outputs": [],
   "source": [
    "factorization_model_genre_clusters = tc.recommender.factorization_recommender.create(train_data, user_id='user_id', item_id='book_id', target='rating', item_data=book_genre_clusters, verbose=False)\n",
    "factorization_genre_clusters_eval = factorization_model_genre_clusters.evaluate(test_data, exclude_known_for_precision_recall=True, verbose=False)"
   ]
  },
  {
   "cell_type": "code",
   "execution_count": null,
   "metadata": {},
   "outputs": [],
   "source": [
    "rmse_x.append('factorization_genre_clusters')\n",
    "rmse_y.append(factorization_genre_clusters_eval['rmse_overall'])\n",
    "for i in range(0, 4):\n",
    "    precision_y[i].append(factorization_genre_clusters_eval['precision_recall_overall'][cutoffs[i]]['precision'])\n",
    "precision_xy.append([factorization_genre_clusters_eval['precision_recall_overall'][c]['precision'] for c in cutoffs])"
   ]
  },
  {
   "cell_type": "markdown",
   "metadata": {},
   "source": [
    "## Ranking Factorization"
   ]
  },
  {
   "cell_type": "code",
   "execution_count": 31,
   "metadata": {},
   "outputs": [
    {
     "data": {
      "text/html": [
       "<pre>Preparing data set.</pre>"
      ],
      "text/plain": [
       "Preparing data set."
      ]
     },
     "metadata": {},
     "output_type": "display_data"
    },
    {
     "data": {
      "text/html": [
       "<pre>    Data has 5960837 observations with 53424 users and 10000 items.</pre>"
      ],
      "text/plain": [
       "    Data has 5960837 observations with 53424 users and 10000 items."
      ]
     },
     "metadata": {},
     "output_type": "display_data"
    },
    {
     "data": {
      "text/html": [
       "<pre>    Data prepared in: 2.40575s</pre>"
      ],
      "text/plain": [
       "    Data prepared in: 2.40575s"
      ]
     },
     "metadata": {},
     "output_type": "display_data"
    },
    {
     "data": {
      "text/html": [
       "<pre>Training ranking_factorization_recommender for recommendations.</pre>"
      ],
      "text/plain": [
       "Training ranking_factorization_recommender for recommendations."
      ]
     },
     "metadata": {},
     "output_type": "display_data"
    },
    {
     "data": {
      "text/html": [
       "<pre>+--------------------------------+--------------------------------------------------+----------+</pre>"
      ],
      "text/plain": [
       "+--------------------------------+--------------------------------------------------+----------+"
      ]
     },
     "metadata": {},
     "output_type": "display_data"
    },
    {
     "data": {
      "text/html": [
       "<pre>| Parameter                      | Description                                      | Value    |</pre>"
      ],
      "text/plain": [
       "| Parameter                      | Description                                      | Value    |"
      ]
     },
     "metadata": {},
     "output_type": "display_data"
    },
    {
     "data": {
      "text/html": [
       "<pre>+--------------------------------+--------------------------------------------------+----------+</pre>"
      ],
      "text/plain": [
       "+--------------------------------+--------------------------------------------------+----------+"
      ]
     },
     "metadata": {},
     "output_type": "display_data"
    },
    {
     "data": {
      "text/html": [
       "<pre>| num_factors                    | Factor Dimension                                 | 32       |</pre>"
      ],
      "text/plain": [
       "| num_factors                    | Factor Dimension                                 | 32       |"
      ]
     },
     "metadata": {},
     "output_type": "display_data"
    },
    {
     "data": {
      "text/html": [
       "<pre>| regularization                 | L2 Regularization on Factors                     | 1e-09    |</pre>"
      ],
      "text/plain": [
       "| regularization                 | L2 Regularization on Factors                     | 1e-09    |"
      ]
     },
     "metadata": {},
     "output_type": "display_data"
    },
    {
     "data": {
      "text/html": [
       "<pre>| solver                         | Solver used for training                         | sgd      |</pre>"
      ],
      "text/plain": [
       "| solver                         | Solver used for training                         | sgd      |"
      ]
     },
     "metadata": {},
     "output_type": "display_data"
    },
    {
     "data": {
      "text/html": [
       "<pre>| linear_regularization          | L2 Regularization on Linear Coefficients         | 1e-09    |</pre>"
      ],
      "text/plain": [
       "| linear_regularization          | L2 Regularization on Linear Coefficients         | 1e-09    |"
      ]
     },
     "metadata": {},
     "output_type": "display_data"
    },
    {
     "data": {
      "text/html": [
       "<pre>| ranking_regularization         | Rank-based Regularization Weight                 | 0.25     |</pre>"
      ],
      "text/plain": [
       "| ranking_regularization         | Rank-based Regularization Weight                 | 0.25     |"
      ]
     },
     "metadata": {},
     "output_type": "display_data"
    },
    {
     "data": {
      "text/html": [
       "<pre>| max_iterations                 | Maximum Number of Iterations                     | 25       |</pre>"
      ],
      "text/plain": [
       "| max_iterations                 | Maximum Number of Iterations                     | 25       |"
      ]
     },
     "metadata": {},
     "output_type": "display_data"
    },
    {
     "data": {
      "text/html": [
       "<pre>+--------------------------------+--------------------------------------------------+----------+</pre>"
      ],
      "text/plain": [
       "+--------------------------------+--------------------------------------------------+----------+"
      ]
     },
     "metadata": {},
     "output_type": "display_data"
    },
    {
     "data": {
      "text/html": [
       "<pre>  Optimizing model using SGD; tuning step size.</pre>"
      ],
      "text/plain": [
       "  Optimizing model using SGD; tuning step size."
      ]
     },
     "metadata": {},
     "output_type": "display_data"
    },
    {
     "data": {
      "text/html": [
       "<pre>  Using 745104 / 5960837 points for tuning the step size.</pre>"
      ],
      "text/plain": [
       "  Using 745104 / 5960837 points for tuning the step size."
      ]
     },
     "metadata": {},
     "output_type": "display_data"
    },
    {
     "data": {
      "text/html": [
       "<pre>+---------+-------------------+------------------------------------------+</pre>"
      ],
      "text/plain": [
       "+---------+-------------------+------------------------------------------+"
      ]
     },
     "metadata": {},
     "output_type": "display_data"
    },
    {
     "data": {
      "text/html": [
       "<pre>| Attempt | Initial Step Size | Estimated Objective Value                |</pre>"
      ],
      "text/plain": [
       "| Attempt | Initial Step Size | Estimated Objective Value                |"
      ]
     },
     "metadata": {},
     "output_type": "display_data"
    },
    {
     "data": {
      "text/html": [
       "<pre>+---------+-------------------+------------------------------------------+</pre>"
      ],
      "text/plain": [
       "+---------+-------------------+------------------------------------------+"
      ]
     },
     "metadata": {},
     "output_type": "display_data"
    },
    {
     "data": {
      "text/html": [
       "<pre>| 0       | 25                | Not Viable                               |</pre>"
      ],
      "text/plain": [
       "| 0       | 25                | Not Viable                               |"
      ]
     },
     "metadata": {},
     "output_type": "display_data"
    },
    {
     "data": {
      "text/html": [
       "<pre>| 1       | 6.25              | Not Viable                               |</pre>"
      ],
      "text/plain": [
       "| 1       | 6.25              | Not Viable                               |"
      ]
     },
     "metadata": {},
     "output_type": "display_data"
    },
    {
     "data": {
      "text/html": [
       "<pre>| 2       | 1.5625            | Not Viable                               |</pre>"
      ],
      "text/plain": [
       "| 2       | 1.5625            | Not Viable                               |"
      ]
     },
     "metadata": {},
     "output_type": "display_data"
    },
    {
     "data": {
      "text/html": [
       "<pre>| 3       | 0.390625          | Not Viable                               |</pre>"
      ],
      "text/plain": [
       "| 3       | 0.390625          | Not Viable                               |"
      ]
     },
     "metadata": {},
     "output_type": "display_data"
    },
    {
     "data": {
      "text/html": [
       "<pre>| 4       | 0.0976562         | 1.26608                                  |</pre>"
      ],
      "text/plain": [
       "| 4       | 0.0976562         | 1.26608                                  |"
      ]
     },
     "metadata": {},
     "output_type": "display_data"
    },
    {
     "data": {
      "text/html": [
       "<pre>| 5       | 0.0488281         | 1.49131                                  |</pre>"
      ],
      "text/plain": [
       "| 5       | 0.0488281         | 1.49131                                  |"
      ]
     },
     "metadata": {},
     "output_type": "display_data"
    },
    {
     "data": {
      "text/html": [
       "<pre>| 6       | 0.0244141         | 1.48253                                  |</pre>"
      ],
      "text/plain": [
       "| 6       | 0.0244141         | 1.48253                                  |"
      ]
     },
     "metadata": {},
     "output_type": "display_data"
    },
    {
     "data": {
      "text/html": [
       "<pre>| 7       | 0.012207          | 1.4954                                   |</pre>"
      ],
      "text/plain": [
       "| 7       | 0.012207          | 1.4954                                   |"
      ]
     },
     "metadata": {},
     "output_type": "display_data"
    },
    {
     "data": {
      "text/html": [
       "<pre>+---------+-------------------+------------------------------------------+</pre>"
      ],
      "text/plain": [
       "+---------+-------------------+------------------------------------------+"
      ]
     },
     "metadata": {},
     "output_type": "display_data"
    },
    {
     "data": {
      "text/html": [
       "<pre>| Final   | 0.0976562         | 1.26608                                  |</pre>"
      ],
      "text/plain": [
       "| Final   | 0.0976562         | 1.26608                                  |"
      ]
     },
     "metadata": {},
     "output_type": "display_data"
    },
    {
     "data": {
      "text/html": [
       "<pre>+---------+-------------------+------------------------------------------+</pre>"
      ],
      "text/plain": [
       "+---------+-------------------+------------------------------------------+"
      ]
     },
     "metadata": {},
     "output_type": "display_data"
    },
    {
     "data": {
      "text/html": [
       "<pre>Starting Optimization.</pre>"
      ],
      "text/plain": [
       "Starting Optimization."
      ]
     },
     "metadata": {},
     "output_type": "display_data"
    },
    {
     "data": {
      "text/html": [
       "<pre>+---------+--------------+-------------------+-----------------------+-------------+</pre>"
      ],
      "text/plain": [
       "+---------+--------------+-------------------+-----------------------+-------------+"
      ]
     },
     "metadata": {},
     "output_type": "display_data"
    },
    {
     "data": {
      "text/html": [
       "<pre>| Iter.   | Elapsed Time | Approx. Objective | Approx. Training RMSE | Step Size   |</pre>"
      ],
      "text/plain": [
       "| Iter.   | Elapsed Time | Approx. Objective | Approx. Training RMSE | Step Size   |"
      ]
     },
     "metadata": {},
     "output_type": "display_data"
    },
    {
     "data": {
      "text/html": [
       "<pre>+---------+--------------+-------------------+-----------------------+-------------+</pre>"
      ],
      "text/plain": [
       "+---------+--------------+-------------------+-----------------------+-------------+"
      ]
     },
     "metadata": {},
     "output_type": "display_data"
    },
    {
     "data": {
      "text/html": [
       "<pre>| Initial | 109us        | 1.928             | 0.991628              |             |</pre>"
      ],
      "text/plain": [
       "| Initial | 109us        | 1.928             | 0.991628              |             |"
      ]
     },
     "metadata": {},
     "output_type": "display_data"
    },
    {
     "data": {
      "text/html": [
       "<pre>+---------+--------------+-------------------+-----------------------+-------------+</pre>"
      ],
      "text/plain": [
       "+---------+--------------+-------------------+-----------------------+-------------+"
      ]
     },
     "metadata": {},
     "output_type": "display_data"
    },
    {
     "data": {
      "text/html": [
       "<pre>| 1       | 2.71s        | DIVERGED          | DIVERGED              | 0.0976562   |</pre>"
      ],
      "text/plain": [
       "| 1       | 2.71s        | DIVERGED          | DIVERGED              | 0.0976562   |"
      ]
     },
     "metadata": {},
     "output_type": "display_data"
    },
    {
     "data": {
      "text/html": [
       "<pre>| RESET   | 3.43s        | 1.92798           | 0.991621              |             |</pre>"
      ],
      "text/plain": [
       "| RESET   | 3.43s        | 1.92798           | 0.991621              |             |"
      ]
     },
     "metadata": {},
     "output_type": "display_data"
    },
    {
     "data": {
      "text/html": [
       "<pre>| 1       | 5.28s        | 1.39104           | 0.973946              | 0.0488281   |</pre>"
      ],
      "text/plain": [
       "| 1       | 5.28s        | 1.39104           | 0.973946              | 0.0488281   |"
      ]
     },
     "metadata": {},
     "output_type": "display_data"
    },
    {
     "data": {
      "text/html": [
       "<pre>| 2       | 7.12s        | 1.24283           | 0.916423              | 0.0290334   |</pre>"
      ],
      "text/plain": [
       "| 2       | 7.12s        | 1.24283           | 0.916423              | 0.0290334   |"
      ]
     },
     "metadata": {},
     "output_type": "display_data"
    },
    {
     "data": {
      "text/html": [
       "<pre>| 3       | 8.92s        | 1.10593           | 0.85639               | 0.0214205   |</pre>"
      ],
      "text/plain": [
       "| 3       | 8.92s        | 1.10593           | 0.85639               | 0.0214205   |"
      ]
     },
     "metadata": {},
     "output_type": "display_data"
    },
    {
     "data": {
      "text/html": [
       "<pre>| 4       | 10.64s       | 1.02513           | 0.825057              | 0.0172633   |</pre>"
      ],
      "text/plain": [
       "| 4       | 10.64s       | 1.02513           | 0.825057              | 0.0172633   |"
      ]
     },
     "metadata": {},
     "output_type": "display_data"
    },
    {
     "data": {
      "text/html": [
       "<pre>| 5       | 12.41s       | 0.976969          | 0.804513              | 0.014603    |</pre>"
      ],
      "text/plain": [
       "| 5       | 12.41s       | 0.976969          | 0.804513              | 0.014603    |"
      ]
     },
     "metadata": {},
     "output_type": "display_data"
    },
    {
     "data": {
      "text/html": [
       "<pre>| 9       | 19.23s       | 0.889679          | 0.764639              | 0.00939698  |</pre>"
      ],
      "text/plain": [
       "| 9       | 19.23s       | 0.889679          | 0.764639              | 0.00939698  |"
      ]
     },
     "metadata": {},
     "output_type": "display_data"
    },
    {
     "data": {
      "text/html": [
       "<pre>| 14      | 27.61s       | 0.846904          | 0.744004              | 0.00674643  |</pre>"
      ],
      "text/plain": [
       "| 14      | 27.61s       | 0.846904          | 0.744004              | 0.00674643  |"
      ]
     },
     "metadata": {},
     "output_type": "display_data"
    },
    {
     "data": {
      "text/html": [
       "<pre>| 19      | 35.93s       | 0.824902          | 0.732987              | 0.00536543  |</pre>"
      ],
      "text/plain": [
       "| 19      | 35.93s       | 0.824902          | 0.732987              | 0.00536543  |"
      ]
     },
     "metadata": {},
     "output_type": "display_data"
    },
    {
     "data": {
      "text/html": [
       "<pre>| 24      | 44.83s       | 0.811007          | 0.725946              | 0.0045031   |</pre>"
      ],
      "text/plain": [
       "| 24      | 44.83s       | 0.811007          | 0.725946              | 0.0045031   |"
      ]
     },
     "metadata": {},
     "output_type": "display_data"
    },
    {
     "data": {
      "text/html": [
       "<pre>| 25      | 46.50s       | 0.808364          | 0.724668              | 0.00436732  |</pre>"
      ],
      "text/plain": [
       "| 25      | 46.50s       | 0.808364          | 0.724668              | 0.00436732  |"
      ]
     },
     "metadata": {},
     "output_type": "display_data"
    },
    {
     "data": {
      "text/html": [
       "<pre>+---------+--------------+-------------------+-----------------------+-------------+</pre>"
      ],
      "text/plain": [
       "+---------+--------------+-------------------+-----------------------+-------------+"
      ]
     },
     "metadata": {},
     "output_type": "display_data"
    },
    {
     "data": {
      "text/html": [
       "<pre>Optimization Complete: Maximum number of passes through the data reached.</pre>"
      ],
      "text/plain": [
       "Optimization Complete: Maximum number of passes through the data reached."
      ]
     },
     "metadata": {},
     "output_type": "display_data"
    },
    {
     "data": {
      "text/html": [
       "<pre>Computing final objective value and training RMSE.</pre>"
      ],
      "text/plain": [
       "Computing final objective value and training RMSE."
      ]
     },
     "metadata": {},
     "output_type": "display_data"
    },
    {
     "data": {
      "text/html": [
       "<pre>       Final objective value: 0.775356</pre>"
      ],
      "text/plain": [
       "       Final objective value: 0.775356"
      ]
     },
     "metadata": {},
     "output_type": "display_data"
    },
    {
     "data": {
      "text/html": [
       "<pre>       Final training RMSE: 0.698427</pre>"
      ],
      "text/plain": [
       "       Final training RMSE: 0.698427"
      ]
     },
     "metadata": {},
     "output_type": "display_data"
    },
    {
     "data": {
      "text/plain": [
       "{'precision_recall_by_user': Columns:\n",
       " \tuser_id\tint\n",
       " \tcutoff\tint\n",
       " \tprecision\tfloat\n",
       " \trecall\tfloat\n",
       " \tcount\tint\n",
       " \n",
       " Rows: 18000\n",
       " \n",
       " Data:\n",
       " +---------+--------+--------------------+--------+-------+\n",
       " | user_id | cutoff |     precision      | recall | count |\n",
       " +---------+--------+--------------------+--------+-------+\n",
       " |    2    |   1    |        0.0         |  0.0   |   8   |\n",
       " |    2    |   2    |        0.0         |  0.0   |   8   |\n",
       " |    2    |   3    |        0.0         |  0.0   |   8   |\n",
       " |    2    |   4    |        0.0         |  0.0   |   8   |\n",
       " |    2    |   5    |        0.0         |  0.0   |   8   |\n",
       " |    2    |   6    |        0.0         |  0.0   |   8   |\n",
       " |    2    |   7    |        0.0         |  0.0   |   8   |\n",
       " |    2    |   8    |       0.125        | 0.125  |   8   |\n",
       " |    2    |   9    | 0.1111111111111111 | 0.125  |   8   |\n",
       " |    2    |   10   |        0.1         | 0.125  |   8   |\n",
       " +---------+--------+--------------------+--------+-------+\n",
       " [18000 rows x 5 columns]\n",
       " Note: Only the head of the SFrame is printed.\n",
       " You can use print_rows(num_rows=m, num_columns=n) to print more rows and columns.,\n",
       " 'precision_recall_overall': Columns:\n",
       " \tcutoff\tint\n",
       " \tprecision\tfloat\n",
       " \trecall\tfloat\n",
       " \n",
       " Rows: 18\n",
       " \n",
       " Data:\n",
       " +--------+---------------------+----------------------+\n",
       " | cutoff |      precision      |        recall        |\n",
       " +--------+---------------------+----------------------+\n",
       " |   1    | 0.13000000000000003 | 0.008827002024394846 |\n",
       " |   2    | 0.12150000000000002 | 0.01624955246274101  |\n",
       " |   3    | 0.11900000000000001 | 0.02378148681167494  |\n",
       " |   4    |       0.11375       | 0.03049983971465746  |\n",
       " |   5    | 0.11440000000000002 | 0.037990852774857094 |\n",
       " |   6    | 0.10883333333333332 | 0.04343461620900089  |\n",
       " |   7    | 0.10585714285714283 | 0.04905863946452452  |\n",
       " |   8    | 0.10550000000000002 | 0.05586548445379414  |\n",
       " |   9    | 0.10355555555555557 | 0.06124469437098701  |\n",
       " |   10   | 0.10199999999999994 | 0.06658756388608043  |\n",
       " +--------+---------------------+----------------------+\n",
       " [18 rows x 3 columns]\n",
       " Note: Only the head of the SFrame is printed.\n",
       " You can use print_rows(num_rows=m, num_columns=n) to print more rows and columns.}"
      ]
     },
     "execution_count": 31,
     "metadata": {},
     "output_type": "execute_result"
    }
   ],
   "source": [
    "ranking_factorization_model = tc.recommender.ranking_factorization_recommender.create(train_data, user_id='user_id', item_id='book_id', target='rating')\n",
    "ranking_factorization_model.evaluate(test_data, exclude_known_for_precision_recall=True, verbose=False)"
   ]
  },
  {
   "cell_type": "markdown",
   "metadata": {},
   "source": [
    "# Implicit Classifiers"
   ]
  },
  {
   "cell_type": "markdown",
   "metadata": {},
   "source": [
    "## Item Similarity"
   ]
  },
  {
   "cell_type": "code",
   "execution_count": 219,
   "metadata": {},
   "outputs": [],
   "source": [
    "rmse_x = []#,'similarity','similarity_clustered_books','tags_cv_svd','tags_tfid_svd','genre_clusters']\n",
    "rmse_y = []\n",
    "precision_y = [[], [], [], []] # cutoffs: 1, 3, 5, 10\n",
    "cutoffs = [0,2,4,9]\n",
    "precision_x = [1, 3, 5, 10]\n",
    "precision_xy = []"
   ]
  },
  {
   "cell_type": "code",
   "execution_count": 220,
   "metadata": {},
   "outputs": [
    {
     "name": "stderr",
     "output_type": "stream",
     "text": [
      "WARNING:root:Model trained without a target. Skipping RMSE computation.\n"
     ]
    }
   ],
   "source": [
    "implicit_item_similarity_model = tc.recommender.item_similarity_recommender.create(to_read_train, user_id='user_id', item_id='book_id', verbose=False)\n",
    "implicit_item_similarity_eval = implicit_item_similarity_model.evaluate(to_read_test, exclude_known_for_precision_recall=True, verbose=False)"
   ]
  },
  {
   "cell_type": "code",
   "execution_count": 223,
   "metadata": {},
   "outputs": [],
   "source": [
    "rmse_x.append('similarity')\n",
    "for i in range(0, 4):\n",
    "    precision_y[i].append(implicit_item_similarity_eval['precision_recall_overall'][cutoffs[i]]['precision'])\n",
    "precision_xy.append([implicit_item_similarity_eval['precision_recall_overall'][c]['precision'] for c in cutoffs])"
   ]
  },
  {
   "cell_type": "code",
   "execution_count": 224,
   "metadata": {},
   "outputs": [
    {
     "name": "stderr",
     "output_type": "stream",
     "text": [
      "WARNING:root:Model trained without a target. Skipping RMSE computation.\n"
     ]
    }
   ],
   "source": [
    "implicit_item_similarity_model_cluster = tc.recommender.item_similarity_recommender.create(to_read_train, user_id='user_id', item_id='book_id', item_data=clustered_books_with_tags[['book_id','cluster']], verbose=False)\n",
    "implicit_item_similarity_cluster_eval = implicit_item_similarity_model_cluster.evaluate(to_read_test, exclude_known_for_precision_recall=True, verbose=False)"
   ]
  },
  {
   "cell_type": "code",
   "execution_count": 225,
   "metadata": {},
   "outputs": [],
   "source": [
    "rmse_x.append('similarity_cluster')\n",
    "for i in range(0, 4):\n",
    "    precision_y[i].append(implicit_item_similarity_cluster_eval['precision_recall_overall'][cutoffs[i]]['precision'])\n",
    "precision_xy.append([implicit_item_similarity_cluster_eval['precision_recall_overall'][c]['precision'] for c in cutoffs])"
   ]
  },
  {
   "cell_type": "code",
   "execution_count": 226,
   "metadata": {},
   "outputs": [
    {
     "name": "stderr",
     "output_type": "stream",
     "text": [
      "WARNING:root:Model trained without a target. Skipping RMSE computation.\n"
     ]
    }
   ],
   "source": [
    "implicit_item_similarity_model_svd = tc.recommender.item_similarity_recommender.create(to_read_train, user_id='user_id', item_id='book_id', item_data=svd_tags, verbose=False)\n",
    "implicit_item_similarity_svd_eval = implicit_item_similarity_model_svd.evaluate(to_read_test, exclude_known_for_precision_recall=True, verbose=False)"
   ]
  },
  {
   "cell_type": "code",
   "execution_count": 227,
   "metadata": {},
   "outputs": [],
   "source": [
    "rmse_x.append('similarity_svd')\n",
    "for i in range(0, 4):\n",
    "    precision_y[i].append(implicit_item_similarity_svd_eval['precision_recall_overall'][cutoffs[i]]['precision'])\n",
    "precision_xy.append([implicit_item_similarity_svd_eval['precision_recall_overall'][c]['precision'] for c in cutoffs])"
   ]
  },
  {
   "cell_type": "code",
   "execution_count": 228,
   "metadata": {},
   "outputs": [
    {
     "name": "stderr",
     "output_type": "stream",
     "text": [
      "WARNING:root:Model trained without a target. Skipping RMSE computation.\n"
     ]
    }
   ],
   "source": [
    "implicit_item_similarity_model_svd_tfid = tc.recommender.item_similarity_recommender.create(to_read_train, user_id='user_id', item_id='book_id', item_data=svd_tfid_tags, verbose=False)\n",
    "implicit_item_similarity_svd_tfid_eval = implicit_item_similarity_model_svd_tfid.evaluate(to_read_test, exclude_known_for_precision_recall=True, verbose=False)"
   ]
  },
  {
   "cell_type": "code",
   "execution_count": 229,
   "metadata": {},
   "outputs": [],
   "source": [
    "rmse_x.append('similarity_svd_tfid')\n",
    "for i in range(0, 4):\n",
    "    precision_y[i].append(implicit_item_similarity_svd_tfid_eval['precision_recall_overall'][cutoffs[i]]['precision'])\n",
    "precision_xy.append([implicit_item_similarity_svd_tfid_eval['precision_recall_overall'][c]['precision'] for c in cutoffs])"
   ]
  },
  {
   "cell_type": "code",
   "execution_count": 230,
   "metadata": {},
   "outputs": [
    {
     "name": "stderr",
     "output_type": "stream",
     "text": [
      "WARNING:root:Model trained without a target. Skipping RMSE computation.\n"
     ]
    }
   ],
   "source": [
    "implicit_item_similarity_model_genre_clusters = tc.recommender.item_similarity_recommender.create(to_read_train, user_id='user_id', item_id='book_id', item_data=book_genre_clusters, verbose=False)\n",
    "implicit_item_similarity_genre_clusters_eval = implicit_item_similarity_model_genre_clusters.evaluate(to_read_test, exclude_known_for_precision_recall=True, verbose=False)"
   ]
  },
  {
   "cell_type": "code",
   "execution_count": 231,
   "metadata": {},
   "outputs": [],
   "source": [
    "rmse_x.append('similarity_genre_clusters')\n",
    "for i in range(0, 4):\n",
    "    precision_y[i].append(implicit_item_similarity_genre_clusters_eval['precision_recall_overall'][cutoffs[i]]['precision'])\n",
    "precision_xy.append([implicit_item_similarity_genre_clusters_eval['precision_recall_overall'][c]['precision'] for c in cutoffs])"
   ]
  },
  {
   "cell_type": "code",
   "execution_count": 232,
   "metadata": {},
   "outputs": [
    {
     "data": {
      "text/plain": [
       "[Text(0.4, 0, '1'), Text(1.4, 0, '3'), Text(2.4, 0, '5'), Text(3.4, 0, '10')]"
      ]
     },
     "execution_count": 232,
     "metadata": {},
     "output_type": "execute_result"
    },
    {
     "data": {
      "image/png": "[encoded data removed]",
      "text/plain": [
       "<Figure size 864x576 with 1 Axes>"
      ]
     },
     "metadata": {
      "needs_background": "light"
     },
     "output_type": "display_data"
    }
   ],
   "source": [
    "fig, ax = plt.subplots(figsize=(12, 8))\n",
    "\n",
    "bar_width = 0.2\n",
    "x = np.arange(len(precision_x))\n",
    "\n",
    "ax.bar(x, precision_xy[0], width=bar_width, color='b', align='center')\n",
    "ax.bar(x+bar_width, precision_xy[1], width=bar_width, color='g', align='center')\n",
    "ax.bar(x+bar_width*2, precision_xy[2], width=bar_width, color='r', align='center')\n",
    "ax.bar(x+bar_width*3, precision_xy[3], width=bar_width, color='c', align='center')\n",
    "ax.bar(x+bar_width*3, precision_xy[4], width=bar_width, color='c', align='center')\n",
    "\n",
    "ax.set_xticks(x + bar_width*2)\n",
    "ax.set_xticklabels(precision_x)\n"
   ]
  },
  {
   "cell_type": "markdown",
   "metadata": {},
   "source": [
    "## Ranking Factorization"
   ]
  },
  {
   "cell_type": "code",
   "execution_count": 14,
   "metadata": {},
   "outputs": [
    {
     "ename": "ValueError",
     "evalue": "Expecting a flexible_type. Got a Dictionary",
     "output_type": "error",
     "traceback": [
      "\u001b[0;31m---------------------------------------------------------------------------\u001b[0m",
      "\u001b[0;31mValueError\u001b[0m                                Traceback (most recent call last)",
      "\u001b[0;32m<ipython-input-14-c6b4aaeb5b19>\u001b[0m in \u001b[0;36m<module>\u001b[0;34m\u001b[0m\n\u001b[0;32m----> 1\u001b[0;31m \u001b[0mimplicit_ranking_factorization_model\u001b[0m \u001b[0;34m=\u001b[0m \u001b[0mtc\u001b[0m\u001b[0;34m.\u001b[0m\u001b[0mrecommender\u001b[0m\u001b[0;34m.\u001b[0m\u001b[0mranking_factorization_recommender\u001b[0m\u001b[0;34m.\u001b[0m\u001b[0mcreate\u001b[0m\u001b[0;34m(\u001b[0m\u001b[0mto_read_train\u001b[0m\u001b[0;34m,\u001b[0m \u001b[0muser_id\u001b[0m\u001b[0;34m=\u001b[0m\u001b[0;34m'user_id'\u001b[0m\u001b[0;34m,\u001b[0m \u001b[0mitem_id\u001b[0m\u001b[0;34m=\u001b[0m\u001b[0mbooks_with_tags\u001b[0m\u001b[0;34m[\u001b[0m\u001b[0;34m[\u001b[0m\u001b[0;34m'book_id'\u001b[0m\u001b[0;34m,\u001b[0m\u001b[0;34m'tag_name'\u001b[0m\u001b[0;34m]\u001b[0m\u001b[0;34m]\u001b[0m\u001b[0;34m)\u001b[0m\u001b[0;34m\u001b[0m\u001b[0;34m\u001b[0m\u001b[0m\n\u001b[0m\u001b[1;32m      2\u001b[0m \u001b[0mimplicit_ranking_factorization_model\u001b[0m\u001b[0;34m.\u001b[0m\u001b[0mevaluate_precision_recall\u001b[0m\u001b[0;34m(\u001b[0m\u001b[0mto_read_test\u001b[0m\u001b[0;34m,\u001b[0m \u001b[0mexclude_known\u001b[0m\u001b[0;34m=\u001b[0m\u001b[0;32mTrue\u001b[0m\u001b[0;34m,\u001b[0m \u001b[0mverbose\u001b[0m\u001b[0;34m=\u001b[0m\u001b[0;32mFalse\u001b[0m\u001b[0;34m)\u001b[0m\u001b[0;34m\u001b[0m\u001b[0;34m\u001b[0m\u001b[0m\n",
      "\u001b[0;32m/opt/conda/envs/python37/lib/python3.7/site-packages/turicreate/toolkits/recommender/ranking_factorization_recommender.py\u001b[0m in \u001b[0;36mcreate\u001b[0;34m(observation_data, user_id, item_id, target, user_data, item_data, num_factors, regularization, linear_regularization, side_data_factorization, ranking_regularization, unobserved_rating_value, num_sampled_negative_examples, max_iterations, sgd_step_size, random_seed, binary_target, solver, verbose, **kwargs)\u001b[0m\n\u001b[1;32m    275\u001b[0m     \u001b[0mextra_data\u001b[0m \u001b[0;34m=\u001b[0m \u001b[0;34m{\u001b[0m\u001b[0;34m\"nearest_items\"\u001b[0m\u001b[0;34m:\u001b[0m \u001b[0m_turicreate\u001b[0m\u001b[0;34m.\u001b[0m\u001b[0mSFrame\u001b[0m\u001b[0;34m(\u001b[0m\u001b[0;34m)\u001b[0m\u001b[0;34m}\u001b[0m\u001b[0;34m\u001b[0m\u001b[0;34m\u001b[0m\u001b[0m\n\u001b[1;32m    276\u001b[0m     \u001b[0;32mwith\u001b[0m \u001b[0mQuietProgress\u001b[0m\u001b[0;34m(\u001b[0m\u001b[0mverbose\u001b[0m\u001b[0;34m)\u001b[0m\u001b[0;34m:\u001b[0m\u001b[0;34m\u001b[0m\u001b[0;34m\u001b[0m\u001b[0m\n\u001b[0;32m--> 277\u001b[0;31m         \u001b[0mmodel_proxy\u001b[0m\u001b[0;34m.\u001b[0m\u001b[0mtrain\u001b[0m\u001b[0;34m(\u001b[0m\u001b[0mobservation_data\u001b[0m\u001b[0;34m,\u001b[0m \u001b[0muser_data\u001b[0m\u001b[0;34m,\u001b[0m \u001b[0mitem_data\u001b[0m\u001b[0;34m,\u001b[0m \u001b[0mopts\u001b[0m\u001b[0;34m,\u001b[0m \u001b[0mextra_data\u001b[0m\u001b[0;34m)\u001b[0m\u001b[0;34m\u001b[0m\u001b[0;34m\u001b[0m\u001b[0m\n\u001b[0m\u001b[1;32m    278\u001b[0m \u001b[0;34m\u001b[0m\u001b[0m\n\u001b[1;32m    279\u001b[0m     \u001b[0;32mreturn\u001b[0m \u001b[0mRankingFactorizationRecommender\u001b[0m\u001b[0;34m(\u001b[0m\u001b[0mmodel_proxy\u001b[0m\u001b[0;34m)\u001b[0m\u001b[0;34m\u001b[0m\u001b[0;34m\u001b[0m\u001b[0m\n",
      "\u001b[0;32m/opt/conda/envs/python37/lib/python3.7/site-packages/turicreate/extensions.py\u001b[0m in \u001b[0;36m<lambda>\u001b[0;34m(*args, **kwargs)\u001b[0m\n\u001b[1;32m    303\u001b[0m         \u001b[0;32melif\u001b[0m \u001b[0mname\u001b[0m \u001b[0;32min\u001b[0m \u001b[0mself\u001b[0m\u001b[0;34m.\u001b[0m\u001b[0m_functions\u001b[0m\u001b[0;34m:\u001b[0m\u001b[0;34m\u001b[0m\u001b[0;34m\u001b[0m\u001b[0m\n\u001b[1;32m    304\u001b[0m             \u001b[0;31m# is it a function?\u001b[0m\u001b[0;34m\u001b[0m\u001b[0;34m\u001b[0m\u001b[0;34m\u001b[0m\u001b[0m\n\u001b[0;32m--> 305\u001b[0;31m             \u001b[0mret\u001b[0m \u001b[0;34m=\u001b[0m \u001b[0;32mlambda\u001b[0m \u001b[0;34m*\u001b[0m\u001b[0margs\u001b[0m\u001b[0;34m,\u001b[0m \u001b[0;34m**\u001b[0m\u001b[0mkwargs\u001b[0m\u001b[0;34m:\u001b[0m \u001b[0mself\u001b[0m\u001b[0;34m.\u001b[0m\u001b[0m__run_class_function\u001b[0m\u001b[0;34m(\u001b[0m\u001b[0mname\u001b[0m\u001b[0;34m,\u001b[0m \u001b[0margs\u001b[0m\u001b[0;34m,\u001b[0m \u001b[0mkwargs\u001b[0m\u001b[0;34m)\u001b[0m\u001b[0;34m\u001b[0m\u001b[0;34m\u001b[0m\u001b[0m\n\u001b[0m\u001b[1;32m    306\u001b[0m             ret.__doc__ = (\n\u001b[1;32m    307\u001b[0m                 \u001b[0;34m\"Name: \"\u001b[0m \u001b[0;34m+\u001b[0m \u001b[0mname\u001b[0m \u001b[0;34m+\u001b[0m \u001b[0;34m\"\\nParameters: \"\u001b[0m \u001b[0;34m+\u001b[0m \u001b[0mstr\u001b[0m\u001b[0;34m(\u001b[0m\u001b[0mself\u001b[0m\u001b[0;34m.\u001b[0m\u001b[0m_functions\u001b[0m\u001b[0;34m[\u001b[0m\u001b[0mname\u001b[0m\u001b[0;34m]\u001b[0m\u001b[0;34m)\u001b[0m \u001b[0;34m+\u001b[0m \u001b[0;34m\"\\n\"\u001b[0m\u001b[0;34m\u001b[0m\u001b[0;34m\u001b[0m\u001b[0m\n",
      "\u001b[0;32m/opt/conda/envs/python37/lib/python3.7/site-packages/turicreate/extensions.py\u001b[0m in \u001b[0;36m__run_class_function\u001b[0;34m(self, fnname, args, kwargs)\u001b[0m\n\u001b[1;32m    288\u001b[0m         \u001b[0;31m# unwrap it\u001b[0m\u001b[0;34m\u001b[0m\u001b[0;34m\u001b[0m\u001b[0;34m\u001b[0m\u001b[0m\n\u001b[1;32m    289\u001b[0m         \u001b[0;32mtry\u001b[0m\u001b[0;34m:\u001b[0m\u001b[0;34m\u001b[0m\u001b[0;34m\u001b[0m\u001b[0m\n\u001b[0;32m--> 290\u001b[0;31m             \u001b[0mret\u001b[0m \u001b[0;34m=\u001b[0m \u001b[0mself\u001b[0m\u001b[0;34m.\u001b[0m\u001b[0m_tkclass\u001b[0m\u001b[0;34m.\u001b[0m\u001b[0mcall_function\u001b[0m\u001b[0;34m(\u001b[0m\u001b[0mfnname\u001b[0m\u001b[0;34m,\u001b[0m \u001b[0margument_dict\u001b[0m\u001b[0;34m)\u001b[0m\u001b[0;34m\u001b[0m\u001b[0;34m\u001b[0m\u001b[0m\n\u001b[0m\u001b[1;32m    291\u001b[0m         \u001b[0;32mexcept\u001b[0m \u001b[0mRuntimeError\u001b[0m \u001b[0;32mas\u001b[0m \u001b[0mexc\u001b[0m\u001b[0;34m:\u001b[0m\u001b[0;34m\u001b[0m\u001b[0;34m\u001b[0m\u001b[0m\n\u001b[1;32m    292\u001b[0m             \u001b[0;31m# Expose C++ exceptions using ToolkitError.\u001b[0m\u001b[0;34m\u001b[0m\u001b[0;34m\u001b[0m\u001b[0;34m\u001b[0m\u001b[0m\n",
      "\u001b[0;32mcy_model.pyx\u001b[0m in \u001b[0;36mturicreate._cython.cy_model.UnityModel.call_function\u001b[0;34m()\u001b[0m\n",
      "\u001b[0;32mcy_model.pyx\u001b[0m in \u001b[0;36mturicreate._cython.cy_model.UnityModel.call_function\u001b[0;34m()\u001b[0m\n",
      "\u001b[0;31mValueError\u001b[0m: Expecting a flexible_type. Got a Dictionary"
     ]
    }
   ],
   "source": [
    "implicit_ranking_factorization_model = tc.recommender.ranking_factorization_recommender.create(to_read_train, user_id='user_id', item_id=books_with_tags[['book_id','tag_name']])\n",
    "implicit_ranking_factorization_model.evaluate_precision_recall(to_read_test, exclude_known=True, verbose=False)"
   ]
  },
  {
   "cell_type": "code",
   "execution_count": 15,
   "metadata": {},
   "outputs": [
    {
     "data": {
      "text/html": [
       "<div style=\"max-height:1000px;max-width:1500px;overflow:auto;\"><table frame=\"box\" rules=\"cols\">\n",
       "    <tr>\n",
       "        <th style=\"padding-left: 1em; padding-right: 1em; text-align: center\">book_id</th>\n",
       "        <th style=\"padding-left: 1em; padding-right: 1em; text-align: center\">tag_name</th>\n",
       "    </tr>\n",
       "    <tr>\n",
       "        <td style=\"padding-left: 1em; padding-right: 1em; text-align: center; vertical-align: top\">1</td>\n",
       "        <td style=\"padding-left: 1em; padding-right: 1em; text-align: center; vertical-align: top\">fantasy young adult<br>fiction adventure sci fi ...</td>\n",
       "    </tr>\n",
       "    <tr>\n",
       "        <td style=\"padding-left: 1em; padding-right: 1em; text-align: center; vertical-align: top\">2</td>\n",
       "        <td style=\"padding-left: 1em; padding-right: 1em; text-align: center; vertical-align: top\">fantasy young adult<br>fiction harry potter ...</td>\n",
       "    </tr>\n",
       "    <tr>\n",
       "        <td style=\"padding-left: 1em; padding-right: 1em; text-align: center; vertical-align: top\">3</td>\n",
       "        <td style=\"padding-left: 1em; padding-right: 1em; text-align: center; vertical-align: top\">fantasy young adult<br>fiction sci fi fantasy ...</td>\n",
       "    </tr>\n",
       "    <tr>\n",
       "        <td style=\"padding-left: 1em; padding-right: 1em; text-align: center; vertical-align: top\">4</td>\n",
       "        <td style=\"padding-left: 1em; padding-right: 1em; text-align: center; vertical-align: top\">young adult fiction<br>childhood classics ...</td>\n",
       "    </tr>\n",
       "    <tr>\n",
       "        <td style=\"padding-left: 1em; padding-right: 1em; text-align: center; vertical-align: top\">5</td>\n",
       "        <td style=\"padding-left: 1em; padding-right: 1em; text-align: center; vertical-align: top\">young adult fiction<br>classics english books ...</td>\n",
       "    </tr>\n",
       "    <tr>\n",
       "        <td style=\"padding-left: 1em; padding-right: 1em; text-align: center; vertical-align: top\">6</td>\n",
       "        <td style=\"padding-left: 1em; padding-right: 1em; text-align: center; vertical-align: top\">young adult fiction teen<br>english books young a ...</td>\n",
       "    </tr>\n",
       "    <tr>\n",
       "        <td style=\"padding-left: 1em; padding-right: 1em; text-align: center; vertical-align: top\">7</td>\n",
       "        <td style=\"padding-left: 1em; padding-right: 1em; text-align: center; vertical-align: top\">fantasy young adult<br>fiction magic childrens ...</td>\n",
       "    </tr>\n",
       "    <tr>\n",
       "        <td style=\"padding-left: 1em; padding-right: 1em; text-align: center; vertical-align: top\">8</td>\n",
       "        <td style=\"padding-left: 1em; padding-right: 1em; text-align: center; vertical-align: top\">young adult fiction<br>classics teen english ...</td>\n",
       "    </tr>\n",
       "    <tr>\n",
       "        <td style=\"padding-left: 1em; padding-right: 1em; text-align: center; vertical-align: top\">9</td>\n",
       "        <td style=\"padding-left: 1em; padding-right: 1em; text-align: center; vertical-align: top\">fantasy fiction adventure<br>classics english books ...</td>\n",
       "    </tr>\n",
       "    <tr>\n",
       "        <td style=\"padding-left: 1em; padding-right: 1em; text-align: center; vertical-align: top\">10</td>\n",
       "        <td style=\"padding-left: 1em; padding-right: 1em; text-align: center; vertical-align: top\">young adult fiction<br>classics english british ...</td>\n",
       "    </tr>\n",
       "</table>\n",
       "[8730 rows x 2 columns]<br/>Note: Only the head of the SFrame is printed.<br/>You can use print_rows(num_rows=m, num_columns=n) to print more rows and columns.\n",
       "</div>"
      ],
      "text/plain": [
       "Columns:\n",
       "\tbook_id\tint\n",
       "\ttag_name\tstr\n",
       "\n",
       "Rows: 8730\n",
       "\n",
       "Data:\n",
       "+---------+-------------------------------+\n",
       "| book_id |            tag_name           |\n",
       "+---------+-------------------------------+\n",
       "|    1    | fantasy young adult fictio... |\n",
       "|    2    | fantasy young adult fictio... |\n",
       "|    3    | fantasy young adult fictio... |\n",
       "|    4    | young adult fiction childh... |\n",
       "|    5    | young adult fiction classi... |\n",
       "|    6    | young adult fiction teen e... |\n",
       "|    7    | fantasy young adult fictio... |\n",
       "|    8    | young adult fiction classi... |\n",
       "|    9    | fantasy fiction adventure ... |\n",
       "|    10   | young adult fiction classi... |\n",
       "+---------+-------------------------------+\n",
       "[8730 rows x 2 columns]\n",
       "Note: Only the head of the SFrame is printed.\n",
       "You can use print_rows(num_rows=m, num_columns=n) to print more rows and columns."
      ]
     },
     "execution_count": 15,
     "metadata": {},
     "output_type": "execute_result"
    }
   ],
   "source": [
    "books_with_tags[['book_id','tag_name']]"
   ]
  },
  {
   "cell_type": "code",
   "execution_count": null,
   "metadata": {},
   "outputs": [],
   "source": [
    "tc.recommender.util.compare_models(test_data, \n",
    "                                   [popularity_model, item_similarity_model], \n",
    "                                   model_names=[\"Popularity\", \"Explicit Item Simularity\"],\n",
    "                                  metric='precision_recall',\n",
    "                                   exclude_known_for_precision_recall=True,\n",
    "                                  verbose=False)"
   ]
  },
  {
   "cell_type": "markdown",
   "metadata": {},
   "source": [
    "# Content Model"
   ]
  },
  {
   "cell_type": "code",
   "execution_count": null,
   "metadata": {},
   "outputs": [],
   "source": [
    "rmse_x = []#,'similarity','similarity_clustered_books','tags_cv_svd','tags_tfid_svd','genre_clusters']\n",
    "rmse_y = []\n",
    "precision_y = [[], [], [], []] # cutoffs: 1, 3, 5, 10\n",
    "cutoffs = [0,2,4,9]\n",
    "precision_x = [1, 3, 5, 10]\n",
    "precision_xy = []"
   ]
  },
  {
   "cell_type": "code",
   "execution_count": null,
   "metadata": {},
   "outputs": [],
   "source": [
    "item_content_recommender_model = tc.recommender.item_content_recommender.create(books_with_tags[['book_id','tag_name']],\n",
    "                                               item_id='book_id',\n",
    "                                              observation_data=actions,\n",
    "                                              user_id='user_id',\n",
    "                                              target='rating',\n",
    "                                                verbose=False)"
   ]
  },
  {
   "cell_type": "code",
   "execution_count": null,
   "metadata": {},
   "outputs": [],
   "source": [
    "item_content_recommender_eval = item_content_recommender_model.evaluate_rmse(test_data, target='rating')\n",
    "rmse_x.append('content')\n",
    "rmse_y.append(factorization_svd_tfid_eval['rmse_overall'])\n"
   ]
  },
  {
   "cell_type": "code",
   "execution_count": null,
   "metadata": {},
   "outputs": [],
   "source": [
    "item_content_recommender_model_svd = tc.recommender.item_content_recommender.create(svd_tags, \n",
    "                                               item_id='book_id',\n",
    "                                              observation_data=actions,\n",
    "                                              user_id='user_id',\n",
    "                                              target='rating',\n",
    "                                                verbose=False)"
   ]
  },
  {
   "cell_type": "code",
   "execution_count": null,
   "metadata": {},
   "outputs": [],
   "source": [
    "item_content_recommender_svd_eval = item_content_recommender_model_svd.evaluate_rmse(test_data, target='rating')\n",
    "rmse_x.append('content_svd')\n",
    "rmse_y.append(item_content_recommender_svd_eval['rmse_overall'])\n"
   ]
  },
  {
   "cell_type": "code",
   "execution_count": null,
   "metadata": {},
   "outputs": [],
   "source": [
    "item_content_recommender_model_svd_tfid = tc.recommender.item_content_recommender.create(svd_tfid_tags, \n",
    "                                               item_id='book_id',\n",
    "                                              observation_data=actions,\n",
    "                                              user_id='user_id',\n",
    "                                              target='rating',\n",
    "                                                verbose=False)"
   ]
  },
  {
   "cell_type": "code",
   "execution_count": null,
   "metadata": {},
   "outputs": [],
   "source": [
    "item_content_recommender_svd_tfid_eval = item_content_recommender_model_svd_tfid.evaluate_rmse(test_data, target='rating')\n",
    "rmse_x.append('content_svd_tfid')\n",
    "rmse_y.append(item_content_recommender_svd_tfid_eval['rmse_overall'])\n"
   ]
  },
  {
   "cell_type": "code",
   "execution_count": null,
   "metadata": {},
   "outputs": [],
   "source": [
    "item_content_recommender_model_genre_clusters = tc.recommender.item_content_recommender.create(book_genre_clusters, \n",
    "                                               item_id='book_id',\n",
    "                                              observation_data=actions,\n",
    "                                              user_id='user_id',\n",
    "                                              target='rating',\n",
    "                                                verbose=False)\n"
   ]
  },
  {
   "cell_type": "code",
   "execution_count": null,
   "metadata": {},
   "outputs": [],
   "source": [
    "item_content_recommender_genre_clusters_eval = item_content_recommender_model_genre_clusters.evaluate_rmse(test_data, target='rating')\n",
    "rmse_x.append('content_genre_clusters')\n",
    "rmse_y.append(item_content_recommender_genre_clusters_eval['rmse_overall'])\n"
   ]
  },
  {
   "cell_type": "code",
   "execution_count": null,
   "metadata": {},
   "outputs": [],
   "source": [
    "fig, ax = plt.subplots(figsize=(12, 8))\n",
    "\n",
    "\n",
    "bar_width = 0.2\n",
    "x = np.arange(len(rmse_x))\n",
    "\n",
    "ax.bar(x, precision_y[0], width=bar_width, color='b', align='center')\n",
    "ax.bar(x+bar_width, precision_y[1], width=bar_width, color='g', align='center')\n",
    "ax.bar(x+bar_width*2, precision_y[2], width=bar_width, color='r', align='center')\n",
    "ax.bar(x+bar_width*3, precision_y[3], width=bar_width, color='c', align='center')\n",
    "\n",
    "ax.set_xticks(x + bar_width*2)\n",
    "ax.set_xticklabels(rmse_x)\n"
   ]
  },
  {
   "cell_type": "code",
   "execution_count": null,
   "metadata": {},
   "outputs": [],
   "source": []
  }
 ],
 "metadata": {
  "kernelspec": {
   "display_name": "Python 3",
   "language": "python",
   "name": "python3"
  },
  "language_info": {
   "codemirror_mode": {
    "name": "ipython",
    "version": 3
   },
   "file_extension": ".py",
   "mimetype": "text/x-python",
   "name": "python",
   "nbconvert_exporter": "python",
   "pygments_lexer": "ipython3",
   "version": "3.7.6"
  }
 },
 "nbformat": 4,
 "nbformat_minor": 4
}
